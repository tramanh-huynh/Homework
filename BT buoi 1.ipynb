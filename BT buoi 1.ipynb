{
 "cells": [
  {
   "attachments": {},
   "cell_type": "markdown",
   "metadata": {},
   "source": [
    "## BT buoi 1 :"
   ]
  },
  {
   "cell_type": "code",
   "execution_count": null,
   "metadata": {},
   "outputs": [
    {
     "name": "stdout",
     "output_type": "stream",
     "text": [
      "40 45 2 4\n"
     ]
    }
   ],
   "source": [
    "luongTruocThue = int(input(\"Luong truoc thue : \"))\n",
    "tuoi = int(input(\"Tuoi: \"))\n",
    "tinhTrangHonNhan = int(input(\"Nhap : 1 neu doc than, 2 neu lap gia dinh, 3 bo/me don than\"))\n",
    "soCon = int(input(\"so con : \"))\n",
    "print(luongTruocThue,tuoi,tinhTrangHonNhan,soCon)"
   ]
  },
  {
   "cell_type": "code",
   "execution_count": 15,
   "metadata": {},
   "outputs": [
    {
     "name": "stdout",
     "output_type": "stream",
     "text": [
      "0.03\n"
     ]
    }
   ],
   "source": [
    "# cau a\n",
    "if tinhTrangHonNhan == 1:\n",
    "    thue1 = 0.05\n",
    "elif tinhTrangHonNhan == 2:\n",
    "    thue1 = 0.03\n",
    "else:\n",
    "    thue1 = 0.02        \n",
    "print(thue1)\n"
   ]
  },
  {
   "cell_type": "code",
   "execution_count": 16,
   "metadata": {},
   "outputs": [
    {
     "name": "stdout",
     "output_type": "stream",
     "text": [
      "-0.07\n"
     ]
    }
   ],
   "source": [
    "# cau b\n",
    "if soCon == 1:\n",
    "    thue2 = -0.03\n",
    "elif soCon == 2:\n",
    "    thue2 = -0.05\n",
    "else: \n",
    "    thue2 = -0.01*(soCon-2) - 0.05\n",
    "print(thue2)"
   ]
  },
  {
   "cell_type": "code",
   "execution_count": null,
   "metadata": {},
   "outputs": [
    {
     "name": "stdout",
     "output_type": "stream",
     "text": [
      "0.04\n",
      "40\n"
     ]
    }
   ],
   "source": [
    "#cau c (cach 1)\n",
    "if luongTruocThue <= 10:\n",
    "    thue3 = 0\n",
    "elif (luongTruocThue > 10) and (luongTruocThue <= 20):\n",
    "   thue3 = 0.1\n",
    "else:\n",
    "   while (thue3 < 0.15):\n",
    "       thue3 = (luongTruocThue-20)*0.001 + 0.1\n",
    "   if thue3 >= 0.15:\n",
    "       thue3 = 0.15\n",
    "print(thue3)\n",
    "print(luongTruocThue)\n"
   ]
  },
  {
   "cell_type": "code",
   "execution_count": null,
   "metadata": {},
   "outputs": [],
   "source": [
    "#cau c (cach 2)\n",
    "if luongTruocThue <= 10:\n",
    "    thue3 = 0\n",
    "elif (luongTruocThue > 10) and (luongTruocThue <= 20):\n",
    "   thue3 = 0.1\n",
    "else:\n",
    "    thue3 = (luongTruocThue-20)*0.001 + 0.1\n",
    "    if thue3 >= 0.15:\n",
    "       thue3 = 0.15\n",
    "print(thue3)\n",
    "print(luongTruocThue)"
   ]
  },
  {
   "cell_type": "code",
   "execution_count": 26,
   "metadata": {},
   "outputs": [
    {
     "name": "stdout",
     "output_type": "stream",
     "text": [
      "0.09\n"
     ]
    }
   ],
   "source": [
    "#cau d\n",
    "if tuoi >=18 and tuoi <=30:\n",
    "    thue4 = 0.06\n",
    "elif tuoi > 31 and tuoi <=45:\n",
    "    thue4 = 0.09\n",
    "elif tuoi >= 46 and tuoi <=60:\n",
    "    thue4 = 0.09-0.001*(tuoi-46)\n",
    "elif tuoi >=60:\n",
    "    thue4 = 0.04\n",
    "print(thue4)\n"
   ]
  },
  {
   "cell_type": "code",
   "execution_count": 27,
   "metadata": {},
   "outputs": [
    {
     "name": "stdout",
     "output_type": "stream",
     "text": [
      "36.4\n"
     ]
    }
   ],
   "source": [
    "thue = thue1 + thue2 + thue3 + thue4\n",
    "luongSauThue = (1-thue)*luongTruocThue\n",
    "print(luongSauThue)"
   ]
  },
  {
   "attachments": {},
   "cell_type": "markdown",
   "metadata": {},
   "source": [
    "# BT buoi 2 : "
   ]
  },
  {
   "cell_type": "code",
   "execution_count": null,
   "metadata": {},
   "outputs": [],
   "source": [
    "import pandas as pd\n",
    "iris = pd.read_csv(\"iris.csv\", delimiter=\";\", header=TRUE)"
   ]
  }
 ],
 "metadata": {
  "kernelspec": {
   "display_name": "Python 3",
   "language": "python",
   "name": "python3"
  },
  "language_info": {
   "codemirror_mode": {
    "name": "ipython",
    "version": 3
   },
   "file_extension": ".py",
   "mimetype": "text/x-python",
   "name": "python",
   "nbconvert_exporter": "python",
   "pygments_lexer": "ipython3",
   "version": "3.10.10"
  },
  "orig_nbformat": 4
 },
 "nbformat": 4,
 "nbformat_minor": 2
}
