{
 "cells": [
  {
   "cell_type": "markdown",
   "id": "f3a12122",
   "metadata": {},
   "source": [
    "# read file with pandas"
   ]
  },
  {
   "cell_type": "code",
   "execution_count": 6,
   "id": "dcd56198",
   "metadata": {},
   "outputs": [],
   "source": [
    "#import pandas as pd"
   ]
  },
  {
   "cell_type": "code",
   "execution_count": 7,
   "id": "a367d37f",
   "metadata": {},
   "outputs": [],
   "source": [
    "#iris = pd.read_csv(\"Iris.csv\")\n",
    "#iris"
   ]
  },
  {
   "cell_type": "markdown",
   "id": "750fdf01",
   "metadata": {},
   "source": [
    "# read file without library"
   ]
  },
  {
   "cell_type": "code",
   "execution_count": 114,
   "id": "8528af9e",
   "metadata": {},
   "outputs": [
    {
     "name": "stdout",
     "output_type": "stream",
     "text": [
      "['Id,SepalLengthCm,SepalWidthCm,PetalLengthCm,PetalWidthCm,Species\\n', '1,5.1,3.5,1.4,0.2,Iris-setosa\\n', '2,4.9,3.0,1.4,0.2,Iris-setosa\\n', '3,4.7,3.2,1.3,0.2,Iris-setosa\\n', '4,4.6,3.1,1.5,0.2,Iris-setosa\\n', '5,5.0,3.6,1.4,0.2,Iris-setosa\\n', '6,5.4,3.9,1.7,0.4,Iris-setosa\\n', '7,4.6,3.4,1.4,0.3,Iris-setosa\\n', '8,5.0,3.4,1.5,0.2,Iris-setosa\\n', '9,4.4,2.9,1.4,0.2,Iris-setosa\\n', '10,4.9,3.1,1.5,0.1,Iris-setosa\\n', '11,5.4,3.7,1.5,0.2,Iris-setosa\\n', '12,4.8,3.4,1.6,0.2,Iris-setosa\\n', '13,4.8,3.0,1.4,0.1,Iris-setosa\\n', '14,4.3,3.0,1.1,0.1,Iris-setosa\\n', '15,5.8,4.0,1.2,0.2,Iris-setosa\\n', '16,5.7,4.4,1.5,0.4,Iris-setosa\\n', '17,5.4,3.9,1.3,0.4,Iris-setosa\\n', '18,5.1,3.5,1.4,0.3,Iris-setosa\\n', '19,5.7,3.8,1.7,0.3,Iris-setosa\\n']\n"
     ]
    }
   ],
   "source": [
    "#cach 2 mo file\n",
    "with open(file=\"C:/Users/HaoLE/Downloads/Iris.csv\",mode='r') as csv_file:\n",
    "    data = csv_file.readlines()\n",
    "print(data[:20])"
   ]
  },
  {
   "cell_type": "markdown",
   "id": "654fc00f",
   "metadata": {},
   "source": [
    "# Trung binh cong\n",
    "## chieu dai"
   ]
  },
  {
   "cell_type": "code",
   "execution_count": 115,
   "id": "4ec9ab05",
   "metadata": {},
   "outputs": [
    {
     "name": "stdout",
     "output_type": "stream",
     "text": [
      "[5.1, 4.9, 4.7, 4.6, 5.0, 5.4, 4.6, 5.0, 4.4, 4.9, 5.4, 4.8, 4.8, 4.3, 5.8, 5.7, 5.4, 5.1, 5.7, 5.1, 5.4, 5.1, 4.6, 5.1, 4.8, 5.0, 5.0, 5.2, 5.2, 4.7, 4.8, 5.4, 5.2, 5.5, 4.9, 5.0, 5.5, 4.9, 4.4, 5.1, 5.0, 4.5, 4.4, 5.0, 5.1, 4.8, 5.1, 4.6, 5.3, 5.0]\n"
     ]
    },
    {
     "data": {
      "text/plain": [
       "50"
      ]
     },
     "execution_count": 115,
     "metadata": {},
     "output_type": "execute_result"
    }
   ],
   "source": [
    "#1a\n",
    "#bo dem ????\n",
    "cd_setosa = []                         #tao 1 list rong \n",
    "for row in data[1:51]:                 #chay vong lap for tu hang 1 den hang 50, bo index 0 = ten cot \n",
    "    text = row.split(\",\")              #split file data\n",
    "    cd_setosa.append(float(text[1]))   #them gia tri o vi tri index = 1 tren tung hang cua file text vao list rong\n",
    "print(cd_setosa)             \n",
    "len(cd_setosa)"
   ]
  },
  {
   "cell_type": "code",
   "execution_count": 116,
   "id": "5616b8f0",
   "metadata": {},
   "outputs": [
    {
     "data": {
      "text/plain": [
       "5.005999999999999"
      ]
     },
     "execution_count": 116,
     "metadata": {},
     "output_type": "execute_result"
    }
   ],
   "source": [
    "#cong thuc tinh trung binh cong: \n",
    "mean_cd_setosa = sum(cd_setosa)/len(cd_setosa)   #hoac chia 50\n",
    "mean_cd_setosa"
   ]
  },
  {
   "cell_type": "code",
   "execution_count": 117,
   "id": "6081ec38",
   "metadata": {},
   "outputs": [
    {
     "name": "stdout",
     "output_type": "stream",
     "text": [
      "[7.0, 6.4, 6.9, 5.5, 6.5, 5.7, 6.3, 4.9, 6.6, 5.2, 5.0, 5.9, 6.0, 6.1, 5.6, 6.7, 5.6, 5.8, 6.2, 5.6, 5.9, 6.1, 6.3, 6.1, 6.4, 6.6, 6.8, 6.7, 6.0, 5.7, 5.5, 5.5, 5.8, 6.0, 5.4, 6.0, 6.7, 6.3, 5.6, 5.5, 5.5, 6.1, 5.8, 5.0, 5.6, 5.7, 5.7, 6.2, 5.1, 5.7]\n"
     ]
    },
    {
     "data": {
      "text/plain": [
       "50"
      ]
     },
     "execution_count": 117,
     "metadata": {},
     "output_type": "execute_result"
    }
   ],
   "source": [
    "cd_versicolor = []\n",
    "for row in data[51:101]:                 \n",
    "    text = row.split(\",\")              \n",
    "    cd_versicolor.append(float(text[1]))   \n",
    "print(cd_versicolor)             \n",
    "len(cd_versicolor)"
   ]
  },
  {
   "cell_type": "code",
   "execution_count": 118,
   "id": "5b6ad307",
   "metadata": {},
   "outputs": [
    {
     "data": {
      "text/plain": [
       "5.936"
      ]
     },
     "execution_count": 118,
     "metadata": {},
     "output_type": "execute_result"
    }
   ],
   "source": [
    "mean_cd_versicolor = sum(cd_versicolor)/len(cd_versicolor)\n",
    "mean_cd_versicolor"
   ]
  },
  {
   "cell_type": "code",
   "execution_count": 13,
   "id": "d7385372",
   "metadata": {},
   "outputs": [
    {
     "name": "stdout",
     "output_type": "stream",
     "text": [
      "[6.3, 5.8, 7.1, 6.3, 6.5, 7.6, 4.9, 7.3, 6.7, 7.2, 6.5, 6.4, 6.8, 5.7, 5.8, 6.4, 6.5, 7.7, 7.7, 6.0, 6.9, 5.6, 7.7, 6.3, 6.7, 7.2, 6.2, 6.1, 6.4, 7.2, 7.4, 7.9, 6.4, 6.3, 6.1, 7.7, 6.3, 6.4, 6.0, 6.9, 6.7, 6.9, 5.8, 6.8, 6.7, 6.7, 6.3, 6.5, 6.2, 5.9]\n"
     ]
    },
    {
     "data": {
      "text/plain": [
       "50"
      ]
     },
     "execution_count": 13,
     "metadata": {},
     "output_type": "execute_result"
    }
   ],
   "source": [
    "cd_virginica = []\n",
    "for row in data[101:]:                  \n",
    "    text = row.split(\",\")              \n",
    "    cd_virginica.append(float(text[1]))   \n",
    "print(cd_virginica)             \n",
    "len(cd_virginica)"
   ]
  },
  {
   "cell_type": "code",
   "execution_count": 14,
   "id": "d2793349",
   "metadata": {},
   "outputs": [
    {
     "data": {
      "text/plain": [
       "6.587999999999998"
      ]
     },
     "execution_count": 14,
     "metadata": {},
     "output_type": "execute_result"
    }
   ],
   "source": [
    "mean_cd_virginica = sum(cd_virginica)/len(cd_virginica) #hoac chia 50\n",
    "mean_cd_virginica"
   ]
  },
  {
   "cell_type": "markdown",
   "id": "f76358ee",
   "metadata": {},
   "source": [
    "## chieu rong"
   ]
  },
  {
   "cell_type": "code",
   "execution_count": 15,
   "id": "dcbc498f",
   "metadata": {},
   "outputs": [
    {
     "name": "stdout",
     "output_type": "stream",
     "text": [
      "[3.5, 3.0, 3.2, 3.1, 3.6, 3.9, 3.4, 3.4, 2.9, 3.1, 3.7, 3.4, 3.0, 3.0, 4.0, 4.4, 3.9, 3.5, 3.8, 3.8, 3.4, 3.7, 3.6, 3.3, 3.4, 3.0, 3.4, 3.5, 3.4, 3.2, 3.1, 3.4, 4.1, 4.2, 3.1, 3.2, 3.5, 3.1, 3.0, 3.4, 3.5, 2.3, 3.2, 3.5, 3.8, 3.0, 3.8, 3.2, 3.7, 3.3]\n"
     ]
    },
    {
     "data": {
      "text/plain": [
       "50"
      ]
     },
     "execution_count": 15,
     "metadata": {},
     "output_type": "execute_result"
    }
   ],
   "source": [
    "cr_setosa = []                         #tao 1 list rong \n",
    "for row in data[1:51]:                 #chay vong lap for tu hang 1 den hang 50, bo index 0 = ten cot \n",
    "    text = row.split(\",\")              #split file data\n",
    "    cr_setosa.append(float(text[2]))   #them gia tri o vi tri index = 1 tren tung hang cua file text vao list rong\n",
    "print(cr_setosa)             \n",
    "len(cr_setosa)"
   ]
  },
  {
   "cell_type": "code",
   "execution_count": 16,
   "id": "5e926487",
   "metadata": {},
   "outputs": [
    {
     "data": {
      "text/plain": [
       "3.4180000000000006"
      ]
     },
     "execution_count": 16,
     "metadata": {},
     "output_type": "execute_result"
    }
   ],
   "source": [
    "mean_cr_setosa = sum(cr_setosa)/len(cr_setosa)   #hoac chia 50\n",
    "mean_cr_setosa"
   ]
  },
  {
   "cell_type": "code",
   "execution_count": 17,
   "id": "e7767d25",
   "metadata": {},
   "outputs": [
    {
     "name": "stdout",
     "output_type": "stream",
     "text": [
      "[3.2, 3.2, 3.1, 2.3, 2.8, 2.8, 3.3, 2.4, 2.9, 2.7, 2.0, 3.0, 2.2, 2.9, 2.9, 3.1, 3.0, 2.7, 2.2, 2.5, 3.2, 2.8, 2.5, 2.8, 2.9, 3.0, 2.8, 3.0, 2.9, 2.6, 2.4, 2.4, 2.7, 2.7, 3.0, 3.4, 3.1, 2.3, 3.0, 2.5, 2.6, 3.0, 2.6, 2.3, 2.7, 3.0, 2.9, 2.9, 2.5, 2.8]\n"
     ]
    },
    {
     "data": {
      "text/plain": [
       "50"
      ]
     },
     "execution_count": 17,
     "metadata": {},
     "output_type": "execute_result"
    }
   ],
   "source": [
    "cr_versicolor = []\n",
    "for row in data[51:101]:                 \n",
    "    text = row.split(\",\")              \n",
    "    cr_versicolor.append(float(text[2]))   \n",
    "print(cr_versicolor)             \n",
    "len(cr_versicolor)"
   ]
  },
  {
   "cell_type": "code",
   "execution_count": 18,
   "id": "0334179f",
   "metadata": {},
   "outputs": [
    {
     "data": {
      "text/plain": [
       "2.7700000000000005"
      ]
     },
     "execution_count": 18,
     "metadata": {},
     "output_type": "execute_result"
    }
   ],
   "source": [
    "mean_cr_versicolor = sum(cr_versicolor)/len(cr_versicolor)\n",
    "mean_cr_versicolor"
   ]
  },
  {
   "cell_type": "code",
   "execution_count": 19,
   "id": "7dfc3865",
   "metadata": {},
   "outputs": [
    {
     "name": "stdout",
     "output_type": "stream",
     "text": [
      "[3.3, 2.7, 3.0, 2.9, 3.0, 3.0, 2.5, 2.9, 2.5, 3.6, 3.2, 2.7, 3.0, 2.5, 2.8, 3.2, 3.0, 3.8, 2.6, 2.2, 3.2, 2.8, 2.8, 2.7, 3.3, 3.2, 2.8, 3.0, 2.8, 3.0, 2.8, 3.8, 2.8, 2.8, 2.6, 3.0, 3.4, 3.1, 3.0, 3.1, 3.1, 3.1, 2.7, 3.2, 3.3, 3.0, 2.5, 3.0, 3.4, 3.0]\n"
     ]
    },
    {
     "data": {
      "text/plain": [
       "50"
      ]
     },
     "execution_count": 19,
     "metadata": {},
     "output_type": "execute_result"
    }
   ],
   "source": [
    "cr_virginica = []\n",
    "for row in data[101:]:                  \n",
    "    text = row.split(\",\")              \n",
    "    cr_virginica.append(float(text[2]))   \n",
    "print(cr_virginica)             \n",
    "len(cr_virginica)"
   ]
  },
  {
   "cell_type": "code",
   "execution_count": 20,
   "id": "52c7fd7b",
   "metadata": {},
   "outputs": [
    {
     "data": {
      "text/plain": [
       "2.9739999999999998"
      ]
     },
     "execution_count": 20,
     "metadata": {},
     "output_type": "execute_result"
    }
   ],
   "source": [
    "mean_cr_virginica = sum(cr_virginica)/len(cr_virginica) #hoac chia 50\n",
    "mean_cr_virginica"
   ]
  },
  {
   "cell_type": "code",
   "execution_count": 21,
   "id": "a350207a",
   "metadata": {},
   "outputs": [
    {
     "name": "stdout",
     "output_type": "stream",
     "text": [
      "5.005999999999999 5.936 6.587999999999998\n",
      "3.4180000000000006 2.7700000000000005 2.9739999999999998\n"
     ]
    }
   ],
   "source": [
    "print(mean_cd_setosa, mean_cd_versicolor, mean_cd_virginica)\n",
    "print(mean_cr_setosa, mean_cr_versicolor, mean_cr_virginica)"
   ]
  },
  {
   "cell_type": "markdown",
   "id": "aa950a37",
   "metadata": {},
   "source": [
    "# chieu dai, chieu rong max"
   ]
  },
  {
   "cell_type": "code",
   "execution_count": 22,
   "id": "5786718c",
   "metadata": {},
   "outputs": [],
   "source": [
    "max_cd_setosa = max(cd_setosa)\n",
    "max_cd_versicolor = max(cd_versicolor)\n",
    "max_cd_virginica = max(cd_virginica)"
   ]
  },
  {
   "cell_type": "code",
   "execution_count": 23,
   "id": "98d1d7c7",
   "metadata": {},
   "outputs": [
    {
     "name": "stdout",
     "output_type": "stream",
     "text": [
      "5.8 7.0 7.9\n"
     ]
    }
   ],
   "source": [
    "print(max_cd_setosa, max_cd_versicolor, max_cd_virginica)"
   ]
  },
  {
   "cell_type": "code",
   "execution_count": 24,
   "id": "315197db",
   "metadata": {},
   "outputs": [],
   "source": [
    "max_cr_setosa = max(cr_setosa)\n",
    "max_cr_versicolor = max(cr_versicolor)\n",
    "max_cr_virginica = max(cr_virginica)"
   ]
  },
  {
   "cell_type": "code",
   "execution_count": 25,
   "id": "1dc5f5da",
   "metadata": {},
   "outputs": [
    {
     "name": "stdout",
     "output_type": "stream",
     "text": [
      "4.4 3.4 3.8\n"
     ]
    }
   ],
   "source": [
    "print(max_cr_setosa, max_cr_versicolor, max_cr_virginica)"
   ]
  },
  {
   "cell_type": "markdown",
   "id": "52246f19",
   "metadata": {},
   "source": [
    "# 3a"
   ]
  },
  {
   "cell_type": "code",
   "execution_count": 26,
   "id": "5560f6b5",
   "metadata": {},
   "outputs": [],
   "source": [
    "#Euclidean distance :\n",
    "#d^2 = (x1 - x2)^2 + (y1 - y2)^2\n",
    "import math"
   ]
  },
  {
   "cell_type": "code",
   "execution_count": 27,
   "id": "97410ad7",
   "metadata": {},
   "outputs": [
    {
     "name": "stdout",
     "output_type": "stream",
     "text": [
      "chieu dai : 10\n",
      "chieu rong : 5\n"
     ]
    }
   ],
   "source": [
    "#input toa do hoa moi\n",
    "cd_hoa = float(input(\"chieu dai : \"))\n",
    "cr_hoa = float(input(\"chieu rong : \"))\n",
    "toa_do_hoa = (cd_hoa, cr_hoa)"
   ]
  },
  {
   "cell_type": "code",
   "execution_count": 28,
   "id": "84d2a8ae",
   "metadata": {},
   "outputs": [
    {
     "data": {
      "text/plain": [
       "[(5.1, 3.5),\n",
       " (4.9, 3.0),\n",
       " (4.7, 3.2),\n",
       " (4.6, 3.1),\n",
       " (5.0, 3.6),\n",
       " (5.4, 3.9),\n",
       " (4.6, 3.4),\n",
       " (5.0, 3.4),\n",
       " (4.4, 2.9),\n",
       " (4.9, 3.1)]"
      ]
     },
     "execution_count": 28,
     "metadata": {},
     "output_type": "execute_result"
    }
   ],
   "source": [
    "#list tuple chieu dai, chieu rong dai hoa iris dataset\n",
    "toa_do_setosa = list(zip(cd_setosa,cr_setosa))\n",
    "toa_do_versicolor = list(zip(cd_versicolor, cr_versicolor))\n",
    "toa_do_virginica = list(zip(cd_virginica, cr_virginica))\n",
    "toa_do = toa_do_setosa + toa_do_versicolor + toa_do_virginica\n",
    "toa_do[:10]"
   ]
  },
  {
   "cell_type": "code",
   "execution_count": 29,
   "id": "ae60c59e",
   "metadata": {},
   "outputs": [
    {
     "name": "stdout",
     "output_type": "stream",
     "text": [
      "[(1, 5.1244511901275835), (2, 5.478138369920935), (3, 5.597320787662611), (4, 5.724508712544685), (5, 5.192301994298868), (6, 4.729693436154187), (7, 5.63205113613149), (8, 5.249761899362675), (9, 5.980802621722272), (10, 5.442425929675111)]\n"
     ]
    }
   ],
   "source": [
    "#list tuple index va khoang cach tu hoa moi den toa do cac hoa co san\n",
    "index=1\n",
    "distances = []\n",
    "for s in toa_do:\n",
    "    distance = math.sqrt((s[0] - toa_do_hoa[0]) ** 2 + (s[1] - toa_do_hoa[1]) ** 2)\n",
    "    distances.append((index,distance))\n",
    "    index +=1\n",
    "\n",
    "print(distances[:10])"
   ]
  },
  {
   "cell_type": "code",
   "execution_count": 30,
   "id": "06e0ceaf",
   "metadata": {},
   "outputs": [
    {
     "name": "stdout",
     "output_type": "stream",
     "text": [
      "132 2.4186773244895647\n",
      "Virginica\n"
     ]
    }
   ],
   "source": [
    "min_index = distances[0][0]\n",
    "min_distance = distances[0][1]\n",
    "\n",
    "for index, distance in distances:\n",
    "    if distance < min_distance:\n",
    "        min_distance = distance\n",
    "        min_index = index\n",
    "\n",
    "print(min_index,min_distance)\n",
    "\n",
    "if min_index <=50:\n",
    "    print(\"Setosa\")\n",
    "elif (min_index >50 and min_index <= 100):\n",
    "    print(\"Versicolor\")\n",
    "else:\n",
    "    print(\"Virginica\")\n",
    "        "
   ]
  },
  {
   "cell_type": "markdown",
   "id": "3f1f3bbf",
   "metadata": {},
   "source": [
    "#### so sanh min : lay so vo cung to\n",
    "#### so sanh max : lay so vo cung nho\n",
    "\n",
    "## Trung binh cong nho nhat"
   ]
  },
  {
   "cell_type": "code",
   "execution_count": 31,
   "id": "f453ba50",
   "metadata": {},
   "outputs": [
    {
     "name": "stdout",
     "output_type": "stream",
     "text": [
      "(5.005999999999999, 3.4180000000000006)\n",
      "(5.936, 2.7700000000000005)\n",
      "(6.587999999999998, 2.9739999999999998)\n"
     ]
    }
   ],
   "source": [
    "# trung binh cong nho nhat\n",
    "# toa_do_hoa = (x,y)\n",
    "#mean_setosa = (mean_cd_setosa,mean_cr_setosa)\n",
    "#mean_versicolor = (mean_cd_versicolor, mean_cr_versicolor)\n",
    "#mean_virginica = (mean_cd_virginica, mean_cr_virginica)\n",
    "\n",
    "mean_setosa = (mean_cd_setosa, mean_cr_setosa) \n",
    "mean_versicolor = (mean_cd_versicolor, mean_cr_versicolor)        \n",
    "mean_virginica = (mean_cd_virginica, mean_cr_virginica)\n",
    "\n",
    "print(mean_setosa)\n",
    "print(mean_versicolor)\n",
    "print(mean_virginica)"
   ]
  },
  {
   "cell_type": "code",
   "execution_count": 32,
   "id": "e0249651",
   "metadata": {},
   "outputs": [
    {
     "name": "stdout",
     "output_type": "stream",
     "text": [
      "Setosa: 5.238583778083539\n",
      "Versicolor: 4.63562250404409\n",
      "Virginica: 3.9681759033591257\n"
     ]
    }
   ],
   "source": [
    "distances1 = []\n",
    "\n",
    "for i in [mean_setosa,mean_versicolor,mean_virginica]:\n",
    "    distance = math.sqrt((i[0] - toa_do_hoa[0]) ** 2 + (i[1] - toa_do_hoa[1]) ** 2)\n",
    "    distances1.append(distance)\n",
    "\n",
    "print(\"Setosa:\", distances1[0])\n",
    "print(\"Versicolor:\", distances1[1])\n",
    "print(\"Virginica:\", distances1[2])"
   ]
  },
  {
   "cell_type": "code",
   "execution_count": 33,
   "id": "3e9aee6b",
   "metadata": {},
   "outputs": [
    {
     "name": "stdout",
     "output_type": "stream",
     "text": [
      "[(1, 5.1244511901275835), (2, 5.478138369920935), (3, 5.597320787662611), (4, 5.724508712544685), (5, 5.192301994298868), (6, 4.729693436154187), (7, 5.63205113613149), (8, 5.249761899362675), (9, 5.980802621722272), (10, 5.442425929675111), (11, 4.780167361086847), (12, 5.440588203494177), (13, 5.571355310873648), (14, 6.040695324215583), (15, 4.317406628984581), (16, 4.341658669218481), (17, 4.729693436154187), (18, 5.1244511901275835), (19, 4.464302857109943), (20, 5.044799302251776), (21, 4.870318264754368), (22, 5.06951674225463), (23, 5.578530272392541), (24, 5.186520991955977), (25, 5.440588203494177), (26, 5.385164807134504), (27, 5.249761899362675), (28, 5.028916384272063), (29, 5.059644256269407), (30, 5.597320787662611), (31, 5.5362442142665635), (32, 4.870318264754368), (33, 4.883646178829912), (34, 4.570557952810575), (35, 5.442425929675111), (36, 5.314132102234569), (37, 4.743416490252569), (38, 5.442425929675111), (39, 5.946427498927402), (40, 5.15460958754395), (41, 5.220153254455275), (42, 6.126989472816156), (43, 5.882176467941097), (44, 5.220153254455275), (45, 5.044799302251776), (46, 5.571355310873648), (47, 5.044799302251776), (48, 5.692099788303083), (49, 4.876474136094644), (50, 5.281098370604358)]\n"
     ]
    }
   ],
   "source": [
    "# toa_do_hoa = (x,y)\n",
    "#tinh khoang cach den tat ca cac diem cua tung dataset sau do chia cho tan so de tinh d_mean\n",
    "distances_setosa = distances[:50]\n",
    "distances_versicolor = distances[50:100]\n",
    "distances_virginica = distances[100:]\n",
    "print(distances_setosa)"
   ]
  },
  {
   "cell_type": "code",
   "execution_count": 34,
   "id": "eeac1189",
   "metadata": {},
   "outputs": [
    {
     "data": {
      "text/plain": [
       "5.246743195593749"
      ]
     },
     "execution_count": 34,
     "metadata": {},
     "output_type": "execute_result"
    }
   ],
   "source": [
    "d1 = []\n",
    "for d in distances_setosa:\n",
    "    d1.append(d[1])\n",
    "d1_mean = sum(d1)/len(d1)\n",
    "d1_mean"
   ]
  },
  {
   "cell_type": "code",
   "execution_count": 35,
   "id": "9ba8e3bf",
   "metadata": {},
   "outputs": [
    {
     "data": {
      "text/plain": [
       "4.642615594846208"
      ]
     },
     "execution_count": 35,
     "metadata": {},
     "output_type": "execute_result"
    }
   ],
   "source": [
    "d2 = []\n",
    "for d in distances_versicolor:\n",
    "    d2.append(d[1])\n",
    "d2_mean = sum(d2)/len(d2)\n",
    "d2_mean"
   ]
  },
  {
   "cell_type": "code",
   "execution_count": 36,
   "id": "53eade68",
   "metadata": {},
   "outputs": [
    {
     "data": {
      "text/plain": [
       "3.9815349447608486"
      ]
     },
     "execution_count": 36,
     "metadata": {},
     "output_type": "execute_result"
    }
   ],
   "source": [
    "d3 = []\n",
    "for d in distances_virginica:\n",
    "    d3.append(d[1])\n",
    "d3_mean = sum(d3)/len(d3)\n",
    "d3_mean"
   ]
  },
  {
   "cell_type": "code",
   "execution_count": 37,
   "id": "712c5027",
   "metadata": {},
   "outputs": [
    {
     "name": "stdout",
     "output_type": "stream",
     "text": [
      "Setosa: 5.246743195593749\n",
      "Versicolor: 4.642615594846208\n",
      "Virginica: 3.9815349447608486\n"
     ]
    }
   ],
   "source": [
    "print(\"Setosa:\", d1_mean)\n",
    "print(\"Versicolor:\", d2_mean)\n",
    "print(\"Virginica:\", d3_mean)"
   ]
  },
  {
   "cell_type": "markdown",
   "id": "e2dbdb46",
   "metadata": {},
   "source": [
    "# 1b"
   ]
  },
  {
   "cell_type": "code",
   "execution_count": 38,
   "id": "6e8f217c",
   "metadata": {},
   "outputs": [
    {
     "data": {
      "text/plain": [
       "[5.8, 5.7, 5.7, 5.5, 5.5, 5.4, 5.4, 5.4, 5.4, 5.4]"
      ]
     },
     "execution_count": 38,
     "metadata": {},
     "output_type": "execute_result"
    }
   ],
   "source": [
    "setosa_sorted = sorted(cd_setosa, reverse=True)\n",
    "setosa_sorted[:10]"
   ]
  },
  {
   "cell_type": "code",
   "execution_count": 39,
   "id": "fe81c220",
   "metadata": {},
   "outputs": [
    {
     "data": {
      "text/plain": [
       "[7.0, 6.9, 6.8, 6.7, 6.7, 6.7, 6.6, 6.6, 6.5, 6.4]"
      ]
     },
     "execution_count": 39,
     "metadata": {},
     "output_type": "execute_result"
    }
   ],
   "source": [
    "versicolor_sorted = sorted(cd_versicolor, reverse = True)\n",
    "versicolor_sorted[:10]"
   ]
  },
  {
   "cell_type": "code",
   "execution_count": 40,
   "id": "45a32fd3",
   "metadata": {},
   "outputs": [
    {
     "data": {
      "text/plain": [
       "[7.9, 7.7, 7.7, 7.7, 7.7, 7.6, 7.4, 7.3, 7.2, 7.2]"
      ]
     },
     "execution_count": 40,
     "metadata": {},
     "output_type": "execute_result"
    }
   ],
   "source": [
    "virginica_sorted = sorted(cd_virginica, reverse = True)\n",
    "virginica_sorted[:10]"
   ]
  },
  {
   "cell_type": "code",
   "execution_count": 41,
   "id": "6ed570a1",
   "metadata": {},
   "outputs": [
    {
     "name": "stdout",
     "output_type": "stream",
     "text": [
      "[5.1, 4.9, 4.7, 4.6, 5.0, 5.4, 4.4, 4.8, 4.3, 5.8]\n"
     ]
    }
   ],
   "source": [
    "top_10_setosa = []\n",
    "unique = set()\n",
    "for i in cd_setosa:\n",
    "    if i not in unique:\n",
    "        top_10_setosa.append(i)\n",
    "        unique.add(i)\n",
    "    if len(top_10_setosa) == 10:\n",
    "        break\n",
    "print(top_10_setosa)"
   ]
  },
  {
   "cell_type": "markdown",
   "id": "96265def",
   "metadata": {},
   "source": [
    "# 2b"
   ]
  },
  {
   "cell_type": "code",
   "execution_count": 42,
   "id": "8b763ca9",
   "metadata": {},
   "outputs": [
    {
     "name": "stdout",
     "output_type": "stream",
     "text": [
      "[[1, 8.6], [2, 7.9], [3, 7.9], [4, 7.699999999999999], [5, 8.6], [6, 9.3], [7, 8.0], [8, 8.4], [9, 7.300000000000001], [10, 8.0], [11, 9.100000000000001], [12, 8.2], [13, 7.8], [14, 7.3], [15, 9.8], [16, 10.100000000000001], [17, 9.3], [18, 8.6], [19, 9.5], [20, 8.899999999999999], [21, 8.8], [22, 8.8], [23, 8.2], [24, 8.399999999999999], [25, 8.2], [26, 8.0], [27, 8.4], [28, 8.7], [29, 8.6], [30, 7.9], [31, 7.9], [32, 8.8], [33, 9.3], [34, 9.7], [35, 8.0], [36, 8.2], [37, 9.0], [38, 8.0], [39, 7.4], [40, 8.5], [41, 8.5], [42, 6.8], [43, 7.6000000000000005], [44, 8.5], [45, 8.899999999999999], [46, 7.8], [47, 8.899999999999999], [48, 7.8], [49, 9.0], [50, 8.3], [51, 10.2], [52, 9.600000000000001], [53, 10.0], [54, 7.8], [55, 9.3], [56, 8.5], [57, 9.6], [58, 7.300000000000001], [59, 9.5], [60, 7.9], [61, 7.0], [62, 8.9], [63, 8.2], [64, 9.0], [65, 8.5], [66, 9.8], [67, 8.6], [68, 8.5], [69, 8.4], [70, 8.1], [71, 9.100000000000001], [72, 8.899999999999999], [73, 8.8], [74, 8.899999999999999], [75, 9.3], [76, 9.6], [77, 9.6], [78, 9.7], [79, 8.9], [80, 8.3], [81, 7.9], [82, 7.9], [83, 8.5], [84, 8.7], [85, 8.4], [86, 9.4], [87, 9.8], [88, 8.6], [89, 8.6], [90, 8.0], [91, 8.1], [92, 9.1], [93, 8.4], [94, 7.3], [95, 8.3], [96, 8.7], [97, 8.6], [98, 9.1], [99, 7.6], [100, 8.5], [101, 9.6], [102, 8.5], [103, 10.1], [104, 9.2], [105, 9.5], [106, 10.6], [107, 7.4], [108, 10.2], [109, 9.2], [110, 10.8], [111, 9.7], [112, 9.100000000000001], [113, 9.8], [114, 8.2], [115, 8.6], [116, 9.600000000000001], [117, 9.5], [118, 11.5], [119, 10.3], [120, 8.2], [121, 10.100000000000001], [122, 8.399999999999999], [123, 10.5], [124, 9.0], [125, 10.0], [126, 10.4], [127, 9.0], [128, 9.1], [129, 9.2], [130, 10.2], [131, 10.2], [132, 11.7], [133, 9.2], [134, 9.1], [135, 8.7], [136, 10.7], [137, 9.7], [138, 9.5], [139, 9.0], [140, 10.0], [141, 9.8], [142, 10.0], [143, 8.5], [144, 10.0], [145, 10.0], [146, 9.7], [147, 8.8], [148, 9.5], [149, 9.6], [150, 8.9]]\n"
     ]
    }
   ],
   "source": [
    "sizes = []\n",
    "index = 1\n",
    "for row in data[1:]:\n",
    "    text = row.split(\",\")\n",
    "    sizes.append([index,float(text[1])+float(text[2])])\n",
    "    index += 1\n",
    "print(sizes)"
   ]
  },
  {
   "cell_type": "code",
   "execution_count": 43,
   "id": "bba80c49",
   "metadata": {},
   "outputs": [
    {
     "data": {
      "text/plain": [
       "[[132, 11.7],\n",
       " [118, 11.5],\n",
       " [110, 10.8],\n",
       " [136, 10.7],\n",
       " [106, 10.6],\n",
       " [123, 10.5],\n",
       " [126, 10.4],\n",
       " [119, 10.3],\n",
       " [51, 10.2],\n",
       " [108, 10.2]]"
      ]
     },
     "execution_count": 43,
     "metadata": {},
     "output_type": "execute_result"
    }
   ],
   "source": [
    "sizes_sorted = sorted(sizes, key=lambda x: x[1], reverse=True)\n",
    "top_50 = sizes_sorted[:50]\n",
    "top_50[:10]     "
   ]
  },
  {
   "cell_type": "code",
   "execution_count": 44,
   "id": "4bfcf23f",
   "metadata": {},
   "outputs": [
    {
     "name": "stdout",
     "output_type": "stream",
     "text": [
      "(7, 13, 30)\n"
     ]
    }
   ],
   "source": [
    "group_setosa = 0\n",
    "group_versicolor = 0\n",
    "group_virginica = 0\n",
    "for i in top_50:\n",
    "    index = i[0]\n",
    "    if index <= 50:\n",
    "        group_setosa += 1\n",
    "    elif index > 100:\n",
    "        group_virginica +=1\n",
    "    else:\n",
    "        group_versicolor +=1\n",
    "\n",
    "print((group_setosa,group_versicolor,group_virginica))         "
   ]
  },
  {
   "cell_type": "markdown",
   "id": "a00ab07f",
   "metadata": {},
   "source": [
    "# 3b\n",
    "## diem co toa do gan nhat"
   ]
  },
  {
   "cell_type": "code",
   "execution_count": 45,
   "id": "5fa889b2",
   "metadata": {},
   "outputs": [
    {
     "name": "stdout",
     "output_type": "stream",
     "text": [
      "chieu dai : 10\n",
      "chieu rong : 5\n"
     ]
    }
   ],
   "source": [
    "#a\n",
    "#input toa do hoa moi\n",
    "cd_hoa = float(input(\"chieu dai : \"))\n",
    "cr_hoa = float(input(\"chieu rong : \"))\n",
    "toa_do_hoa = (cd_hoa, cr_hoa)"
   ]
  },
  {
   "cell_type": "code",
   "execution_count": 46,
   "id": "d7a86428",
   "metadata": {},
   "outputs": [
    {
     "name": "stdout",
     "output_type": "stream",
     "text": [
      "['Iris-setosa\\n', 'Iris-setosa\\n', 'Iris-setosa\\n', 'Iris-setosa\\n', 'Iris-setosa\\n', 'Iris-setosa\\n', 'Iris-setosa\\n', 'Iris-setosa\\n', 'Iris-setosa\\n', 'Iris-setosa\\n']\n"
     ]
    },
    {
     "data": {
      "text/plain": [
       "150"
      ]
     },
     "execution_count": 46,
     "metadata": {},
     "output_type": "execute_result"
    }
   ],
   "source": [
    "species = []\n",
    "for row in data[1:]:                 \n",
    "    text = row.split(\",\")              \n",
    "    species.append(text[-1])  \n",
    "print(species[:10])             \n",
    "len(species)"
   ]
  },
  {
   "cell_type": "code",
   "execution_count": 47,
   "id": "70753549",
   "metadata": {},
   "outputs": [
    {
     "name": "stdout",
     "output_type": "stream",
     "text": [
      "['Iris-setosa', 'Iris-setosa', 'Iris-setosa', 'Iris-setosa', 'Iris-setosa', 'Iris-setosa', 'Iris-setosa', 'Iris-setosa', 'Iris-setosa', 'Iris-setosa']\n"
     ]
    }
   ],
   "source": [
    "species1 = []\n",
    "for name in species:\n",
    "    name = name[:-1]\n",
    "    species1.append(name)\n",
    "print(species1[:10])"
   ]
  },
  {
   "cell_type": "code",
   "execution_count": 48,
   "id": "dca70fd8",
   "metadata": {},
   "outputs": [
    {
     "name": "stdout",
     "output_type": "stream",
     "text": [
      "[('Iris-setosa', 5.1244511901275835), ('Iris-setosa', 5.478138369920935), ('Iris-setosa', 5.597320787662611), ('Iris-setosa', 5.724508712544685), ('Iris-setosa', 5.192301994298868), ('Iris-setosa', 4.729693436154187), ('Iris-setosa', 5.63205113613149), ('Iris-setosa', 5.249761899362675), ('Iris-setosa', 5.980802621722272), ('Iris-setosa', 5.442425929675111)]\n"
     ]
    }
   ],
   "source": [
    "#list tuple index va khoang cach tu hoa moi den toa do cac hoa co san\n",
    "#index=1\n",
    "distances = []\n",
    "for s in toa_do:\n",
    "    distance = math.sqrt((s[0] - toa_do_hoa[0]) ** 2 + (s[1] - toa_do_hoa[1]) ** 2)\n",
    "    distances.append(distance)\n",
    "    #index +=1\n",
    "\n",
    "distances_species = list(zip(species1,distances))\n",
    "print(distances_species[:10])"
   ]
  },
  {
   "cell_type": "code",
   "execution_count": 49,
   "id": "e8d7080b",
   "metadata": {},
   "outputs": [
    {
     "data": {
      "text/plain": [
       "[('Iris-virginica', 2.4186773244895647),\n",
       " ('Iris-virginica', 2.5942243542145693),\n",
       " ('Iris-virginica', 3.047950130825634),\n",
       " ('Iris-virginica', 3.124099870362662),\n",
       " ('Iris-virginica', 3.1304951684997055),\n",
       " ('Iris-virginica', 3.1827660925679098),\n",
       " ('Iris-virginica', 3.324154027718932),\n",
       " ('Iris-virginica', 3.3286633954186473),\n",
       " ('Iris-virginica', 3.40587727318528),\n",
       " ('Iris-virginica', 3.420526275297414),\n",
       " ('Iris-virginica', 3.4409301068170506),\n",
       " ('Iris-versicolor', 3.49857113690718),\n",
       " ('Iris-virginica', 3.5227829907617076),\n",
       " ('Iris-virginica', 3.584689665786984),\n",
       " ('Iris-versicolor', 3.635931792539568),\n",
       " ('Iris-virginica', 3.635931792539568),\n",
       " ('Iris-virginica', 3.635931792539568),\n",
       " ('Iris-virginica', 3.671511950137164),\n",
       " ('Iris-virginica', 3.712142238654117),\n",
       " ('Iris-virginica', 3.712142238654117),\n",
       " ('Iris-virginica', 3.773592452822642),\n",
       " ('Iris-versicolor', 3.807886552931954),\n",
       " ('Iris-versicolor', 3.807886552931954),\n",
       " ('Iris-virginica', 3.807886552931954),\n",
       " ('Iris-versicolor', 3.8587562763149474),\n",
       " ('Iris-virginica', 3.8587562763149474),\n",
       " ('Iris-versicolor', 3.88329756778952),\n",
       " ('Iris-virginica', 3.935733730830885),\n",
       " ('Iris-versicolor', 3.9446165846632044),\n",
       " ('Iris-versicolor', 3.9962482405376174),\n",
       " ('Iris-versicolor', 4.024922359499621),\n",
       " ('Iris-virginica', 4.024922359499621),\n",
       " ('Iris-virginica', 4.031128874149275),\n",
       " ('Iris-virginica', 4.031128874149275),\n",
       " ('Iris-virginica', 4.031128874149275),\n",
       " ('Iris-virginica', 4.031128874149275),\n",
       " ('Iris-virginica', 4.070626487409523),\n",
       " ('Iris-versicolor', 4.071854614300467),\n",
       " ('Iris-virginica', 4.071854614300467),\n",
       " ('Iris-virginica', 4.123105625617661),\n",
       " ('Iris-versicolor', 4.1340053217188775),\n",
       " ('Iris-virginica', 4.1400483088968905),\n",
       " ('Iris-versicolor', 4.167733196834941),\n",
       " ('Iris-virginica', 4.219004621945797),\n",
       " ('Iris-virginica', 4.219004621945797),\n",
       " ('Iris-virginica', 4.254409477236529),\n",
       " ('Iris-virginica', 4.272001872658765),\n",
       " ('Iris-virginica', 4.304648650006177),\n",
       " ('Iris-versicolor', 4.308131845707604),\n",
       " ('Iris-setosa', 4.317406628984581),\n",
       " ('Iris-setosa', 4.341658669218481),\n",
       " ('Iris-versicolor', 4.341658669218482),\n",
       " ('Iris-virginica', 4.356604182158393),\n",
       " ('Iris-versicolor', 4.382921400162226),\n",
       " ('Iris-virginica', 4.382921400162226),\n",
       " ('Iris-virginica', 4.39089968002003),\n",
       " ('Iris-versicolor', 4.4294469180700204),\n",
       " ('Iris-setosa', 4.464302857109943),\n",
       " ('Iris-versicolor', 4.465422712353221),\n",
       " ('Iris-virginica', 4.465422712353221),\n",
       " ('Iris-virginica', 4.47213595499958),\n",
       " ('Iris-versicolor', 4.477722635447622),\n",
       " ('Iris-versicolor', 4.4777226354476225),\n",
       " ('Iris-versicolor', 4.4777226354476225),\n",
       " ('Iris-versicolor', 4.517742799230607),\n",
       " ('Iris-versicolor', 4.561797891182818),\n",
       " ('Iris-virginica', 4.561797891182818),\n",
       " ('Iris-setosa', 4.570557952810575),\n",
       " ('Iris-virginica', 4.5793012567421245),\n",
       " ('Iris-versicolor', 4.580392996239516),\n",
       " ('Iris-versicolor', 4.6141087980237305),\n",
       " ('Iris-versicolor', 4.720169488482378),\n",
       " ('Iris-setosa', 4.729693436154187),\n",
       " ('Iris-setosa', 4.729693436154187),\n",
       " ('Iris-virginica', 4.741307836451879),\n",
       " ('Iris-versicolor', 4.742362280551751),\n",
       " ('Iris-setosa', 4.743416490252569),\n",
       " ('Iris-setosa', 4.780167361086847),\n",
       " ('Iris-versicolor', 4.78539444560216),\n",
       " ('Iris-versicolor', 4.788527957525152),\n",
       " ('Iris-versicolor', 4.788527957525152),\n",
       " ('Iris-virginica', 4.788527957525152),\n",
       " ('Iris-virginica', 4.788527957525152),\n",
       " ('Iris-versicolor', 4.830113870293329),\n",
       " ('Iris-versicolor', 4.830113870293329),\n",
       " ('Iris-versicolor', 4.833218389437829),\n",
       " ('Iris-versicolor', 4.833218389437829),\n",
       " ('Iris-versicolor', 4.8373546489791295),\n",
       " ('Iris-setosa', 4.870318264754368),\n",
       " ('Iris-setosa', 4.870318264754368),\n",
       " ('Iris-versicolor', 4.8754486972995625),\n",
       " ('Iris-setosa', 4.876474136094644),\n",
       " ('Iris-versicolor', 4.882622246293481),\n",
       " ('Iris-virginica', 4.882622246293481),\n",
       " ('Iris-setosa', 4.883646178829912),\n",
       " ('Iris-virginica', 4.919349550499538),\n",
       " ('Iris-versicolor', 4.924428900898052),\n",
       " ('Iris-versicolor', 4.964876634922564),\n",
       " ('Iris-virginica', 4.973932046178355),\n",
       " ('Iris-versicolor', 5.015974481593781),\n",
       " ('Iris-setosa', 5.028916384272063),\n",
       " ('Iris-setosa', 5.044799302251776),\n",
       " ('Iris-setosa', 5.044799302251776),\n",
       " ('Iris-setosa', 5.044799302251776),\n",
       " ('Iris-setosa', 5.059644256269407),\n",
       " ('Iris-versicolor', 5.060632371551998),\n",
       " ('Iris-setosa', 5.06951674225463),\n",
       " ('Iris-versicolor', 5.1),\n",
       " ('Iris-setosa', 5.1244511901275835),\n",
       " ('Iris-setosa', 5.1244511901275835),\n",
       " ('Iris-versicolor', 5.1478150704935),\n",
       " ('Iris-setosa', 5.15460958754395),\n",
       " ('Iris-setosa', 5.186520991955977),\n",
       " ('Iris-setosa', 5.192301994298868),\n",
       " ('Iris-versicolor', 5.197114584074513),\n",
       " ('Iris-versicolor', 5.197114584074513),\n",
       " ('Iris-setosa', 5.220153254455275),\n",
       " ('Iris-setosa', 5.220153254455275),\n",
       " ('Iris-versicolor', 5.24785670536077),\n",
       " ('Iris-setosa', 5.249761899362675),\n",
       " ('Iris-setosa', 5.249761899362675),\n",
       " ('Iris-setosa', 5.281098370604358),\n",
       " ('Iris-setosa', 5.314132102234569),\n",
       " ('Iris-versicolor', 5.322593352868505),\n",
       " ('Iris-setosa', 5.385164807134504),\n",
       " ('Iris-setosa', 5.440588203494177),\n",
       " ('Iris-setosa', 5.440588203494177),\n",
       " ('Iris-setosa', 5.442425929675111),\n",
       " ('Iris-setosa', 5.442425929675111),\n",
       " ('Iris-setosa', 5.442425929675111),\n",
       " ('Iris-setosa', 5.478138369920935),\n",
       " ('Iris-versicolor', 5.500909015790027),\n",
       " ('Iris-setosa', 5.5362442142665635),\n",
       " ('Iris-setosa', 5.571355310873648),\n",
       " ('Iris-setosa', 5.571355310873648),\n",
       " ('Iris-setosa', 5.578530272392541),\n",
       " ('Iris-setosa', 5.597320787662611),\n",
       " ('Iris-setosa', 5.597320787662611),\n",
       " ('Iris-setosa', 5.63205113613149),\n",
       " ('Iris-virginica', 5.67978872846517),\n",
       " ('Iris-versicolor', 5.682429058070149),\n",
       " ('Iris-setosa', 5.692099788303083),\n",
       " ('Iris-versicolor', 5.724508712544684),\n",
       " ('Iris-setosa', 5.724508712544685),\n",
       " ('Iris-versicolor', 5.830951894845301),\n",
       " ('Iris-setosa', 5.882176467941097),\n",
       " ('Iris-setosa', 5.946427498927402),\n",
       " ('Iris-setosa', 5.980802621722272),\n",
       " ('Iris-setosa', 6.040695324215583),\n",
       " ('Iris-setosa', 6.126989472816156)]"
      ]
     },
     "execution_count": 49,
     "metadata": {},
     "output_type": "execute_result"
    }
   ],
   "source": [
    "sorted_distances = sorted(distances_species, key=lambda x: x[1])\n",
    "sorted_distances"
   ]
  },
  {
   "cell_type": "code",
   "execution_count": 50,
   "id": "52e61a30",
   "metadata": {},
   "outputs": [
    {
     "name": "stdout",
     "output_type": "stream",
     "text": [
      "('Iris-virginica', 2.4186773244895647)\n"
     ]
    }
   ],
   "source": [
    "if (sorted_distances[0][1] == sorted_distances[1][1]) and (sorted_distances[0][0] != sorted_distances[1][0]):\n",
    "        print(sorted_distances[:3])\n",
    "else:\n",
    "        print(sorted_distances[0])"
   ]
  },
  {
   "cell_type": "markdown",
   "id": "349f912a",
   "metadata": {},
   "source": [
    "## top 7 distance"
   ]
  },
  {
   "cell_type": "code",
   "execution_count": 111,
   "id": "7436a7a6",
   "metadata": {},
   "outputs": [
    {
     "data": {
      "text/plain": [
       "[('Iris-virginica', 2.4186773244895647),\n",
       " ('Iris-virginica', 2.5942243542145693),\n",
       " ('Iris-virginica', 3.047950130825634),\n",
       " ('Iris-virginica', 3.124099870362662),\n",
       " ('Iris-virginica', 3.1304951684997055),\n",
       " ('Iris-virginica', 3.1827660925679098),\n",
       " ('Iris-virginica', 3.324154027718932)]"
      ]
     },
     "execution_count": 111,
     "metadata": {},
     "output_type": "execute_result"
    }
   ],
   "source": [
    "#top 7 min distance:\n",
    "top_7 = sorted_distances[:7]\n",
    "top_7"
   ]
  },
  {
   "cell_type": "code",
   "execution_count": 112,
   "id": "7b6dd58c",
   "metadata": {},
   "outputs": [
    {
     "data": {
      "text/plain": [
       "{'Iris-virginica': 7}"
      ]
     },
     "execution_count": 112,
     "metadata": {},
     "output_type": "execute_result"
    }
   ],
   "source": [
    "species_count = {}\n",
    "for spec, dis in top_7:\n",
    "    if spec in species_count:\n",
    "        species_count[spec] += 1\n",
    "    else:\n",
    "        species_count[spec] = 1\n",
    "species_count"
   ]
  },
  {
   "cell_type": "code",
   "execution_count": 113,
   "id": "2774d794",
   "metadata": {},
   "outputs": [],
   "source": [
    "#truong hop count ra 2 loai hoa bang nhau [3,3,1]\n",
    "highest_count = 0\n",
    "highest_species = 0\n",
    "\n",
    "for species, count in species_count.items():\n",
    "    if count > highest_count:\n",
    "        highest_count = count\n",
    "        highest_species = 1\n",
    "        species = species\n",
    "    elif count == highest_count:\n",
    "        highest_species += 1\n",
    "\n",
    "if highest_species >= 2:\n",
    "    print(sorted_distances[7:10])"
   ]
  },
  {
   "cell_type": "code",
   "execution_count": 53,
   "id": "b5651ff6",
   "metadata": {},
   "outputs": [],
   "source": [
    "#species_values = list(species_count.values())\n",
    "#loai truong hop chi co 1 loai hoa\n",
    "#equal_counts = len(set(species_values)) == 1 and len(species_values) > 1\n",
    "#if equal_counts:\n",
    "#    print(sorted_distances[7:10])"
   ]
  },
  {
   "cell_type": "markdown",
   "id": "118e413f",
   "metadata": {},
   "source": [
    "## 3c (toa do input la tam duong tron)"
   ]
  },
  {
   "cell_type": "code",
   "execution_count": 93,
   "id": "01656475",
   "metadata": {},
   "outputs": [
    {
     "name": "stdout",
     "output_type": "stream",
     "text": [
      "chieu dai : 5\n",
      "chieu rong : 5\n"
     ]
    }
   ],
   "source": [
    "cd_hoa = float(input(\"chieu dai : \"))\n",
    "cr_hoa = float(input(\"chieu rong : \"))\n",
    "toa_do_hoa = (cd_hoa, cr_hoa)"
   ]
  },
  {
   "cell_type": "code",
   "execution_count": 94,
   "id": "a4f9a9e9",
   "metadata": {},
   "outputs": [
    {
     "name": "stdout",
     "output_type": "stream",
     "text": [
      "['Iris-setosa', 'Iris-setosa', 'Iris-setosa', 'Iris-setosa', 'Iris-setosa', 'Iris-setosa', 'Iris-setosa', 'Iris-setosa', 'Iris-setosa', 'Iris-setosa']\n"
     ]
    },
    {
     "data": {
      "text/plain": [
       "150"
      ]
     },
     "execution_count": 94,
     "metadata": {},
     "output_type": "execute_result"
    }
   ],
   "source": [
    "species_3c = []\n",
    "for row in data[1:]:                 \n",
    "    text = row.split(\",\")              \n",
    "    species_3c.append(text[-1].replace('\\n',''))  \n",
    "print(species_3c[:10])             \n",
    "len(species_3c)"
   ]
  },
  {
   "cell_type": "code",
   "execution_count": 95,
   "id": "264658a1",
   "metadata": {},
   "outputs": [
    {
     "name": "stdout",
     "output_type": "stream",
     "text": [
      "[('Iris-setosa', 1.5033296378372907), ('Iris-setosa', 2.0024984394500787), ('Iris-setosa', 1.8248287590894656), ('Iris-setosa', 1.9416487838947598), ('Iris-setosa', 1.4), ('Iris-setosa', 1.1704699910719627), ('Iris-setosa', 1.6492422502470645), ('Iris-setosa', 1.6), ('Iris-setosa', 2.1840329667841556), ('Iris-setosa', 1.9026297590440446)]\n"
     ]
    }
   ],
   "source": [
    "distances_3c = []\n",
    "for s in toa_do:\n",
    "    distance = math.sqrt((s[0] - toa_do_hoa[0]) ** 2 + (s[1] - toa_do_hoa[1]) ** 2)\n",
    "    distances_3c.append(distance)\n",
    "\n",
    "distances_species_3c = list(zip(species_3c,distances_3c))\n",
    "print(distances_species_3c[:10])"
   ]
  },
  {
   "cell_type": "code",
   "execution_count": 96,
   "id": "afb739c8",
   "metadata": {},
   "outputs": [
    {
     "data": {
      "text/plain": [
       "[('Iris-setosa', 1.5033296378372907),\n",
       " ('Iris-setosa', 1.8248287590894656),\n",
       " ('Iris-setosa', 1.9416487838947598),\n",
       " ('Iris-setosa', 1.4),\n",
       " ('Iris-setosa', 1.1704699910719627),\n",
       " ('Iris-setosa', 1.6492422502470645),\n",
       " ('Iris-setosa', 1.6),\n",
       " ('Iris-setosa', 1.9026297590440446),\n",
       " ('Iris-setosa', 1.3601470508735443),\n",
       " ('Iris-setosa', 1.61245154965971),\n",
       " ('Iris-setosa', 1.2806248474865696),\n",
       " ('Iris-setosa', 0.9219544457292886),\n",
       " ('Iris-setosa', 1.1704699910719627),\n",
       " ('Iris-setosa', 1.5033296378372907),\n",
       " ('Iris-setosa', 1.3892443989449808),\n",
       " ('Iris-setosa', 1.2041594578792296),\n",
       " ('Iris-setosa', 1.6492422502470645),\n",
       " ('Iris-setosa', 1.3038404810405295),\n",
       " ('Iris-setosa', 1.4560219778561037),\n",
       " ('Iris-setosa', 1.7029386365926402),\n",
       " ('Iris-setosa', 1.61245154965971),\n",
       " ('Iris-setosa', 2.0),\n",
       " ('Iris-setosa', 1.6),\n",
       " ('Iris-setosa', 1.5132745950421556),\n",
       " ('Iris-setosa', 1.61245154965971),\n",
       " ('Iris-setosa', 1.8248287590894656),\n",
       " ('Iris-setosa', 1.91049731745428),\n",
       " ('Iris-setosa', 1.6492422502470645),\n",
       " ('Iris-setosa', 0.9219544457292891),\n",
       " ('Iris-setosa', 0.9433981132056602),\n",
       " ('Iris-setosa', 1.9026297590440446),\n",
       " ('Iris-setosa', 1.7999999999999998),\n",
       " ('Iris-setosa', 1.5811388300841898),\n",
       " ('Iris-setosa', 1.9026297590440446),\n",
       " ('Iris-setosa', 1.6031219541881399),\n",
       " ('Iris-setosa', 1.5),\n",
       " ('Iris-setosa', 1.8973665961010273),\n",
       " ('Iris-setosa', 1.5),\n",
       " ('Iris-setosa', 1.2041594578792296),\n",
       " ('Iris-setosa', 1.2041594578792296),\n",
       " ('Iris-setosa', 1.8439088914585773),\n",
       " ('Iris-setosa', 1.334166406412633),\n",
       " ('Iris-setosa', 1.7000000000000002),\n",
       " ('Iris-versicolor', 1.886796226411321),\n",
       " ('Iris-virginica', 2.0)]"
      ]
     },
     "execution_count": 96,
     "metadata": {},
     "output_type": "execute_result"
    }
   ],
   "source": [
    "distances_2mm = []\n",
    "for species, distance in distances_species_3c:\n",
    "    if distance <= 2:\n",
    "        distances_2mm.append((species,distance))\n",
    "distances_2mm"
   ]
  },
  {
   "cell_type": "code",
   "execution_count": 109,
   "id": "d1e97430",
   "metadata": {},
   "outputs": [
    {
     "data": {
      "text/plain": [
       "{'Iris-setosa': 43, 'Iris-versicolor': 1, 'Iris-virginica': 1}"
      ]
     },
     "execution_count": 109,
     "metadata": {},
     "output_type": "execute_result"
    }
   ],
   "source": [
    "species_count_3c = {}\n",
    "\n",
    "for species, distance in distances_2mm:\n",
    "    if species in species_count_3c:\n",
    "        species_count_3c[species] += 1\n",
    "    else:\n",
    "        species_count_3c[species] = 1\n",
    "        \n",
    "species_count_3c"
   ]
  },
  {
   "cell_type": "code",
   "execution_count": 110,
   "id": "9cc9a924",
   "metadata": {},
   "outputs": [
    {
     "name": "stdout",
     "output_type": "stream",
     "text": [
      "class : Iris-virginica\n"
     ]
    }
   ],
   "source": [
    "highest_count = 0\n",
    "highest_species = 0\n",
    "\n",
    "for species, value in species_count_3c.items():\n",
    "    if value > highest_count:\n",
    "        highest_count = value\n",
    "        highest_species = 1\n",
    "        species = species\n",
    "    elif value == highest_count:\n",
    "        highest_species += 1\n",
    "if highest_species >= 2: #co 2 loai hoa cung co gia tri cao nhat va bang nhau\n",
    "    print(\"hoa nay ko thuoc class nao\")\n",
    "else:\n",
    "    print(\"class :\", species)"
   ]
  },
  {
   "cell_type": "code",
   "execution_count": null,
   "id": "9692f650",
   "metadata": {},
   "outputs": [],
   "source": []
  },
  {
   "cell_type": "code",
   "execution_count": null,
   "id": "eef4e82e",
   "metadata": {},
   "outputs": [],
   "source": []
  },
  {
   "cell_type": "code",
   "execution_count": null,
   "id": "e6e89e97",
   "metadata": {},
   "outputs": [],
   "source": []
  },
  {
   "cell_type": "code",
   "execution_count": 59,
   "id": "8667f689",
   "metadata": {},
   "outputs": [],
   "source": [
    "# class : \n",
    "#thuoc tinh la bien\n",
    "#phuong thuc la ham\n"
   ]
  }
 ],
 "metadata": {
  "kernelspec": {
   "display_name": "Python 3 (ipykernel)",
   "language": "python",
   "name": "python3"
  },
  "language_info": {
   "codemirror_mode": {
    "name": "ipython",
    "version": 3
   },
   "file_extension": ".py",
   "mimetype": "text/x-python",
   "name": "python",
   "nbconvert_exporter": "python",
   "pygments_lexer": "ipython3",
   "version": "3.9.12"
  }
 },
 "nbformat": 4,
 "nbformat_minor": 5
}
