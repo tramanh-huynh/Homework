{
 "cells": [
  {
   "cell_type": "markdown",
   "id": "0396801f",
   "metadata": {},
   "source": [
    "# BT buoi 3"
   ]
  },
  {
   "cell_type": "markdown",
   "id": "ef9dacb0",
   "metadata": {},
   "source": [
    "## clean file"
   ]
  },
  {
   "cell_type": "code",
   "execution_count": 82,
   "id": "df5509ac",
   "metadata": {},
   "outputs": [],
   "source": [
    "#import pandas as pd"
   ]
  },
  {
   "cell_type": "code",
   "execution_count": 1,
   "id": "d8ea1b2f",
   "metadata": {},
   "outputs": [],
   "source": [
    "#data1 = pd.read_csv(\"cities_population.csv\", delimiter = \",\")\n",
    "#data1"
   ]
  },
  {
   "cell_type": "code",
   "execution_count": 7,
   "id": "cee3b8ea",
   "metadata": {},
   "outputs": [],
   "source": [
    "import csv"
   ]
  },
  {
   "cell_type": "code",
   "execution_count": 12,
   "id": "02113fc4",
   "metadata": {},
   "outputs": [],
   "source": [
    "def clean_data(text):\n",
    "    return text.replace('\\xa0',' ').replace('\\u200a',' ').replace(',','').replace(' *','').replace('-May','').replace('-Sep','').strip()"
   ]
  },
  {
   "cell_type": "code",
   "execution_count": 13,
   "id": "49813047",
   "metadata": {},
   "outputs": [],
   "source": [
    "data_cleaned= []\n",
    "with open(file=\"C:/Users/HaoLE/Downloads/cities_population.csv\",mode='r', encoding= \"utf-8\") as csv_file:\n",
    "    data = csv.reader(csv_file, delimiter=',')\n",
    "    for row in data:\n",
    "        cleaned_data = [clean_data(value) for value in row]\n",
    "        data_cleaned.append(cleaned_data)"
   ]
  },
  {
   "cell_type": "code",
   "execution_count": 259,
   "id": "f389bb03",
   "metadata": {},
   "outputs": [],
   "source": [
    "#data_cleaned = []\n",
    "#with open(file=\"C:/Users/HaoLE/Downloads/cities_population.csv\",mode='r', encoding= \"utf-8\") as csv_file:\n",
    "#    data = csv.reader(csv_file, delimiter=',')\n",
    "#    for row in data:\n",
    "#        row_cleaned= []\n",
    "#        for value in row:\n",
    "#            cleaned_data = clean_data(value)\n",
    "#            row_cleaned.append(cleaned_data)\n",
    "#        data_cleaned.append(row_cleaned)"
   ]
  },
  {
   "cell_type": "code",
   "execution_count": 14,
   "id": "ccfd8ccb",
   "metadata": {
    "scrolled": true
   },
   "outputs": [
    {
     "name": "stdout",
     "output_type": "stream",
     "text": [
      "['Rank', 'City', 'Population', 'Area KM2', 'Area   M2', 'Density KM2', 'Density  M2', 'Country', 'Year']\n",
      "['1.', 'Manila', '1846513', '43', '17', '43062', '111532', 'Filipinler', '2020  [1] 2018 [2]']\n",
      "['2.', 'Mandaluyong', '425758', '11', '4', '38495', '99703', 'Filipinler', '2020  [1] [3]']\n",
      "['3.', 'pateros', '65227', '2', '1', '37061', '95988', 'Filipinler', '2020  [1] 2013 [3]']\n",
      "['4.', 'Caloocan', '1661584', '53', '21', '31233', '80893', 'Filipinler', '2020  [1] [3]']\n",
      "['5.', 'ben fren', '212646', '7', '3', '30001', '77702', 'İsrail', '2022 [4] [5]']\n",
      "['6.', 'Katmandu', '1442000', '49', '19', '29161', '75526', 'Nepal', '2020 [6]']\n",
      "['7.', 'Dakka', '8906136', '306', '118', '29069', '75289', 'Bangladeş', '-']\n",
      "['8.', 'Makati', '629616', '22', '8', '28975', '75044', 'Filipinler', '2020  [1] [3]']\n",
      "['9.', 'Manhattan', '1628701', '59', '23', '27544', '71340', 'Amerika Birleşik Devletleri', '2020']\n",
      "['10.', 'Port-au-Prince', '987310', '36', '14', '27395', '70953', 'Hatay', '2015 [7]']\n",
      "['11.', 'Levallois-Perret', '64379', '2', '1', '26713', '69187', 'Fransa', '2020 [8]']\n",
      "['12.', 'Vincennes', '49891', '2', '1', '26121', '67653', 'Fransa', '2020 [9]']\n",
      "['13.', 'Le Pré-Saint-Gervais', '17950', '1', '0', '25643', '66415', 'Fransa', '2020 [10]']\n",
      "['14.', 'pasig', '803159', '31', '12', '25530', '66122', 'Filipinler', '2020  [1] [3]']\n",
      "['15.', 'Karaçi', '14910352', '591', '228', '25229', '65343', 'Pakistan', '2017 [11] [12]']\n",
      "['16.', 'Saint-Mande', '22619', '1', '0', '24586', '63677', 'Fransa', '2020 [13]']\n",
      "['17.', 'Kalküta', '4496694', '185', '71', '24306', '62954', 'Hindistan', '2019 [14] 2013 [15]']\n",
      "['18.', 'Montrouge', '50260', '2', '1', '24280', '62886', 'Fransa', '2020 [16]']\n",
      "['19.', 'Saint-Josse-ten-Noode', '27548', '1', '0', '24165', '62587', 'Belçika', '-']\n",
      "['20.', 'Malabon', '380522', '16', '6', '23842', '61751', 'Filipinler', '2020  [1] [3]']\n",
      "['21.', 'Pasay', '440656', '19', '7', '23640', '61229', 'Filipinler', '2020  [1] [3]']\n",
      "['22.', 'Napoli Selanik', '27084', '1', '0', '23149', '59955', 'Yunanistan', '-']\n",
      "['23.', 'Erkek', '133412', '6', '2', '23002', '59575', 'Maldivler', '-']\n",
      "['24.', 'Şam', '1711000', '77', '30', '22221', '57552', 'Suriye', '-']\n",
      "['25.', 'Navotalar', '247543', '12', '4', '21507', '55703', 'Filipinler', '2020  [1] [3]']\n",
      "['26.', 'Asmara', '963000', '45', '17', '21400', '55426', 'Eritre', '2012 [24]']\n",
      "['27.', 'Mıslata', '43756', '2', '1', '21241', '55014', 'İspanya', '-']\n",
      "['28.', 'Makao', '643100', '30', '12', '21224', '54971', 'Makao', '2015 [26] [27]']\n",
      "['29.', 'Kallithea', '100050', '5', '2', '21063', '54554', 'Yunanistan', '-']\n",
      "['30.', 'Yeni Smyrni', '73090', '4', '1', '20764', '53779', 'Yunanistan', '-']\n",
      "['31.', 'Paris', '2187526', '105', '41', '20755', '53754', 'Fransa', '2020 [29]']\n",
      "['32.', 'naber', '1072161', '52', '20', '20722', '53670', 'Hindistan', '-']\n",
      "['33.', 'Bombay', '12442373', '603', '233', '20634', '53442', 'Hindistan', '2013 [30] 2019 [32]']\n",
      "['34.', 'San Juan Metro Manila', '126347', '6', '2', '21524', '55748', 'Filipinler', '2020  [1] [3]']\n",
      "['35.', 'Kolombo', '752993', '37', '14', '20351', '52710', 'Sri Lanka', '-']\n",
      "['36.', \"L'Hospitalet de Llobregat\", '252171', '12', '5', '20336', '52671', 'İspanya', '2016 [33]']\n",
      "['37.', 'Marikina', '456059', '23', '9', '20144', '52173', 'Filipinler', '2020  [1] [3]']\n",
      "['38.', 'Birlik Şehri', '66455', '3', '1', '20047', '51921', 'Amerika Birleşik Devletleri', '-']\n",
      "['39.', 'Saint-Gilles', '50002', '3', '1', '19842', '51391', 'Belçika', '-']\n",
      "['40.', 'Klişe', '61070', '3', '1', '19828', '51354', 'Fransa', '2020 [36]']\n",
      "['41.', 'Kotsiubynske', '17249', '1', '0', '19826', '51351', 'Ukrayna', '-']\n",
      "['42.', 'Courbevoie', '81719', '4', '2', '19597', '50756', 'Fransa', '2020 [37]']\n",
      "['43.', 'Boulogne-Billancourt', '120071', '6', '2', '19460', '50403', 'Fransa', '2020 [38]']\n",
      "['44.', 'Batı New York', '49708', '3', '1', '19060', '49365', 'Amerika Birleşik Devletleri', '-']\n",
      "['45.', 'las pinas', '606293', '32', '12', '18935', '49041', 'Filipinler', '2020  [1] [3]']\n",
      "['46.', 'Koekelberg', '21990', '1', '0', '18795', '48679', 'Belçika', '-']\n",
      "['47.', 'Bandung', '3075478', '167', '64', '18416', '47698', 'Endonezya', '-']\n",
      "['48.', 'General Mariano Alvarez', '172433', '9', '4', '18344', '47511', 'Filipinler', '2020  [1] 2013 [39]']\n",
      "['49.', 'Monako', '36950', '2', '1', '18292', '47377', 'Monako', '-']\n",
      "['50.', 'Les Lilas', '23045', '1', '0', '18290', '47370', 'Fransa', '2020 [42]']\n",
      "['51.', 'Hoböken', '60417', '3', '1', '18225', '47204', 'Amerika Birleşik Devletleri', '2020 [34]']\n",
      "['52.', \"Giv'atayim\", '58500', '3', '1', '18056', '46764', 'İsrail', '2019 [43]']\n",
      "['53.', 'Quezon şehir', '2960048', '166', '64', '17882', '46315', 'Filipinler', '2020  [1] [3]']\n",
      "['54.', 'Vanveler', '27729', '2', '1', '17775', '46037', 'Fransa', '2020 [44]']\n",
      "['55.', 'Asnières-sur-Seine', '85191', '5', '2', '17674', '45777', 'Fransa', '2020 [45]']\n",
      "['56.', 'Ciudad Nezahualcóyotl', '1110565', '63', '24', '17503', '45334', 'Meksika', '2010 [46]']\n",
      "['57.', 'Suginami', '582065', '34', '13', '17089', '44262', 'Japonya', '-']\n",
      "['58.', 'Santa Coloma de Gramenet', '118821', '7', '3', '16974', '43964', 'İspanya', '2019 [47]']\n",
      "['59.', \"Modi'in Illit\", '80894', '5', '2', '16748', '43378', 'İsrail', '2022']\n",
      "['60.', 'Çittagong', '2582401', '155', '60', '16661', '43151', 'Bangladeş', '2018 [48]']\n",
      "['61.', 'Sint-Jans-Molenbeek', '97462', '6', '2', '16547', '42857', 'Belçika', '-']\n",
      "['62.', 'Seul', '9962393', '605', '234', '16461', '42634', 'Güney Kore', '2019 [49] 2013 [50]']\n",
      "['63.', 'Kore mahallesi', '124281', '7', '2', '16452', '42610', 'Amerika Birleşik Devletleri', '2020']\n",
      "['64.', 'Charenton-le-Pont', '30374', '2', '1', '16418', '42524', 'Fransa', '2020 [51]']\n",
      "['65.', 'La Garenne-Colombes', '29169', '2', '1', '16387', '42443', 'Fransa', '2020 [52]']\n",
      "['66.', 'Schaerbeek', '133309', '8', '3', '16377', '42417', 'Belçika', '-']\n",
      "['67.', 'Neuilly-sur-Seine', '60361', '4', '1', '16183', '41913', 'Fransa', '2020 [53]']\n",
      "['68.', 'Issy-les-Moulineaux', '68451', '4', '2', '16106', '41715', 'Fransa', '2020 [54]']\n",
      "['69.', 'Barselona', '1636732', '101', '39', '16149', '41827', 'İspanya', '2021 [55]']\n",
      "['70.', 'Cakarta', '10560000', '662', '255', '15964', '41346', 'Endonezya', '2019 [56] 2020 [57]']\n",
      "['71.', 'nazikçe', '18605', '1', '0', '15767', '40836', 'Fransa', '2020 [58]']\n",
      "['72.', 'Kahire', '9539673', '606', '234', '15742', '40772', 'Mısır', '2019 [59] 2017 [60]']\n",
      "['73.', 'Cimahi', '568400', '40', '16', '14080', '36467', 'Endonezya', '2020']\n",
      "['74.', 'Senglea', '2820', '0', '0', '14100', '36519', 'Malta', '2013']\n",
      "['75.', 'Rosario Cavite', '110807', '8', '3', '14561', '37712', 'Filipinler', '2020  [1] 2013 [39]']\n",
      "['76.', 'Mandaue', '364116', '25', '10', '14461', '37453', 'Filipinler', '2020  [1] 2013 [39]']\n",
      "['77.', 'bacoor', '664625', '46', '18', '14395', '37284', 'Filipinler', '2020  [1] 2013 [39]']\n",
      "['78.', 'San Pedro Laguna', '326001', '24', '9', '13555', '35108', 'Filipinler', '2020  [1] 2013 [39]']\n"
     ]
    }
   ],
   "source": [
    "for row in data_cleaned:\n",
    "    print(row)"
   ]
  },
  {
   "cell_type": "markdown",
   "id": "cdda4164",
   "metadata": {},
   "source": [
    "## top 10 population"
   ]
  },
  {
   "cell_type": "code",
   "execution_count": 15,
   "id": "95cac1bb",
   "metadata": {},
   "outputs": [
    {
     "name": "stdout",
     "output_type": "stream",
     "text": [
      "[['Manila', 1846513], ['Mandaluyong', 425758], ['pateros', 65227], ['Caloocan', 1661584], ['ben fren', 212646], ['Katmandu', 1442000], ['Dakka', 8906136], ['Makati', 629616], ['Manhattan', 1628701], ['Port-au-Prince', 987310], ['Levallois-Perret', 64379], ['Vincennes', 49891], ['Le Pré-Saint-Gervais', 17950], ['pasig', 803159], ['Karaçi', 14910352], ['Saint-Mande', 22619], ['Kalküta', 4496694], ['Montrouge', 50260], ['Saint-Josse-ten-Noode', 27548], ['Malabon', 380522], ['Pasay', 440656], ['Napoli Selanik', 27084], ['Erkek', 133412], ['Şam', 1711000], ['Navotalar', 247543], ['Asmara', 963000], ['Mıslata', 43756], ['Makao', 643100], ['Kallithea', 100050], ['Yeni Smyrni', 73090], ['Paris', 2187526], ['naber', 1072161], ['Bombay', 12442373], ['San Juan Metro Manila', 126347], ['Kolombo', 752993], [\"L'Hospitalet de Llobregat\", 252171], ['Marikina', 456059], ['Birlik Şehri', 66455], ['Saint-Gilles', 50002], ['Klişe', 61070], ['Kotsiubynske', 17249], ['Courbevoie', 81719], ['Boulogne-Billancourt', 120071], ['Batı New York', 49708], ['las pinas', 606293], ['Koekelberg', 21990], ['Bandung', 3075478], ['General Mariano Alvarez', 172433], ['Monako', 36950], ['Les Lilas', 23045], ['Hoböken', 60417], [\"Giv'atayim\", 58500], ['Quezon şehir', 2960048], ['Vanveler', 27729], ['Asnières-sur-Seine', 85191], ['Ciudad Nezahualcóyotl', 1110565], ['Suginami', 582065], ['Santa Coloma de Gramenet', 118821], [\"Modi'in Illit\", 80894], ['Çittagong', 2582401], ['Sint-Jans-Molenbeek', 97462], ['Seul', 9962393], ['Kore mahallesi', 124281], ['Charenton-le-Pont', 30374], ['La Garenne-Colombes', 29169], ['Schaerbeek', 133309], ['Neuilly-sur-Seine', 60361], ['Issy-les-Moulineaux', 68451], ['Barselona', 1636732], ['Cakarta', 10560000], ['nazikçe', 18605], ['Kahire', 9539673], ['Cimahi', 568400], ['Senglea', 2820], ['Rosario Cavite', 110807], ['Mandaue', 364116], ['bacoor', 664625], ['San Pedro Laguna', 326001]]\n"
     ]
    },
    {
     "data": {
      "text/plain": [
       "78"
      ]
     },
     "execution_count": 15,
     "metadata": {},
     "output_type": "execute_result"
    }
   ],
   "source": [
    "city_population = []\n",
    "\n",
    "for row in data_cleaned[1:]:\n",
    "    city = row[1]\n",
    "    population = int(row[2])\n",
    "    city_population.append([city,population])\n",
    "    \n",
    "print(city_population)\n",
    "len(city_population)"
   ]
  },
  {
   "cell_type": "code",
   "execution_count": 16,
   "id": "c435d75c",
   "metadata": {},
   "outputs": [
    {
     "name": "stdout",
     "output_type": "stream",
     "text": [
      "[['Karaçi', 14910352], ['Bombay', 12442373], ['Cakarta', 10560000], ['Seul', 9962393], ['Kahire', 9539673], ['Dakka', 8906136], ['Kalküta', 4496694], ['Bandung', 3075478], ['Quezon şehir', 2960048], ['Çittagong', 2582401]]\n",
      "[['Vanveler', 27729], ['Saint-Josse-ten-Noode', 27548], ['Napoli Selanik', 27084], ['Les Lilas', 23045], ['Saint-Mande', 22619], ['Koekelberg', 21990], ['nazikçe', 18605], ['Le Pré-Saint-Gervais', 17950], ['Kotsiubynske', 17249], ['Senglea', 2820]]\n"
     ]
    }
   ],
   "source": [
    "sorted_city_population = sorted(city_population, key=lambda x: x[1], reverse=True)\n",
    "top_10 = sorted_city_population[:10]\n",
    "inverse_top_10 = sorted_city_population[-10:]\n",
    "\n",
    "print((top_10))\n",
    "print((inverse_top_10))"
   ]
  },
  {
   "cell_type": "markdown",
   "id": "27d69520",
   "metadata": {},
   "source": [
    "## country name have >= 3 cities"
   ]
  },
  {
   "cell_type": "code",
   "execution_count": 17,
   "id": "f81b701f",
   "metadata": {},
   "outputs": [
    {
     "data": {
      "text/plain": [
       "['Filipinler',\n",
       " 'Filipinler',\n",
       " 'Filipinler',\n",
       " 'Filipinler',\n",
       " 'İsrail',\n",
       " 'Nepal',\n",
       " 'Bangladeş',\n",
       " 'Filipinler',\n",
       " 'Amerika Birleşik Devletleri',\n",
       " 'Hatay',\n",
       " 'Fransa',\n",
       " 'Fransa',\n",
       " 'Fransa',\n",
       " 'Filipinler',\n",
       " 'Pakistan',\n",
       " 'Fransa',\n",
       " 'Hindistan',\n",
       " 'Fransa',\n",
       " 'Belçika',\n",
       " 'Filipinler',\n",
       " 'Filipinler',\n",
       " 'Yunanistan',\n",
       " 'Maldivler',\n",
       " 'Suriye',\n",
       " 'Filipinler',\n",
       " 'Eritre',\n",
       " 'İspanya',\n",
       " 'Makao',\n",
       " 'Yunanistan',\n",
       " 'Yunanistan',\n",
       " 'Fransa',\n",
       " 'Hindistan',\n",
       " 'Hindistan',\n",
       " 'Filipinler',\n",
       " 'Sri Lanka',\n",
       " 'İspanya',\n",
       " 'Filipinler',\n",
       " 'Amerika Birleşik Devletleri',\n",
       " 'Belçika',\n",
       " 'Fransa',\n",
       " 'Ukrayna',\n",
       " 'Fransa',\n",
       " 'Fransa',\n",
       " 'Amerika Birleşik Devletleri',\n",
       " 'Filipinler',\n",
       " 'Belçika',\n",
       " 'Endonezya',\n",
       " 'Filipinler',\n",
       " 'Monako',\n",
       " 'Fransa',\n",
       " 'Amerika Birleşik Devletleri',\n",
       " 'İsrail',\n",
       " 'Filipinler',\n",
       " 'Fransa',\n",
       " 'Fransa',\n",
       " 'Meksika',\n",
       " 'Japonya',\n",
       " 'İspanya',\n",
       " 'İsrail',\n",
       " 'Bangladeş',\n",
       " 'Belçika',\n",
       " 'Güney Kore',\n",
       " 'Amerika Birleşik Devletleri',\n",
       " 'Fransa',\n",
       " 'Fransa',\n",
       " 'Belçika',\n",
       " 'Fransa',\n",
       " 'Fransa',\n",
       " 'İspanya',\n",
       " 'Endonezya',\n",
       " 'Fransa',\n",
       " 'Mısır',\n",
       " 'Endonezya',\n",
       " 'Malta',\n",
       " 'Filipinler',\n",
       " 'Filipinler',\n",
       " 'Filipinler',\n",
       " 'Filipinler']"
      ]
     },
     "execution_count": 17,
     "metadata": {},
     "output_type": "execute_result"
    }
   ],
   "source": [
    "countries = []\n",
    "\n",
    "for row in data_cleaned[1:]:\n",
    "    country = row[-2]\n",
    "    countries.append(country)\n",
    "countries"
   ]
  },
  {
   "cell_type": "code",
   "execution_count": 145,
   "id": "93809485",
   "metadata": {},
   "outputs": [
    {
     "data": {
      "text/plain": [
       "{'Filipinler': 18,\n",
       " 'İsrail': 3,\n",
       " 'Nepal': 1,\n",
       " 'Bangladeş': 2,\n",
       " 'Amerika Birleşik Devletleri': 5,\n",
       " 'Hatay': 1,\n",
       " 'Fransa': 17,\n",
       " 'Pakistan': 1,\n",
       " 'Hindistan': 3,\n",
       " 'Belçika': 5,\n",
       " 'Yunanistan': 3,\n",
       " 'Maldivler': 1,\n",
       " 'Suriye': 1,\n",
       " 'Eritre': 1,\n",
       " 'İspanya': 4,\n",
       " 'Makao': 1,\n",
       " 'Sri Lanka': 1,\n",
       " 'Ukrayna': 1,\n",
       " 'Endonezya': 3,\n",
       " 'Monako': 1,\n",
       " 'Meksika': 1,\n",
       " 'Japonya': 1,\n",
       " 'Güney Kore': 1,\n",
       " 'Mısır': 1,\n",
       " 'Malta': 1}"
      ]
     },
     "execution_count": 145,
     "metadata": {},
     "output_type": "execute_result"
    }
   ],
   "source": [
    "countries_count = {}\n",
    "\n",
    "for country in countries:\n",
    "    if country in countries_count:\n",
    "        countries_count[country] += 1\n",
    "    else:\n",
    "        countries_count[country] = 1\n",
    "\n",
    "countries_count"
   ]
  },
  {
   "cell_type": "code",
   "execution_count": 146,
   "id": "dd97f3ef",
   "metadata": {},
   "outputs": [
    {
     "data": {
      "text/plain": [
       "['Filipinler',\n",
       " 'İsrail',\n",
       " 'Amerika Birleşik Devletleri',\n",
       " 'Fransa',\n",
       " 'Hindistan',\n",
       " 'Belçika',\n",
       " 'Yunanistan',\n",
       " 'İspanya',\n",
       " 'Endonezya']"
      ]
     },
     "execution_count": 146,
     "metadata": {},
     "output_type": "execute_result"
    }
   ],
   "source": [
    "countries_3_cities = []\n",
    "\n",
    "for country, count in countries_count.items():\n",
    "    if count >= 3:\n",
    "        countries_3_cities.append(country)\n",
    "countries_3_cities"
   ]
  },
  {
   "cell_type": "code",
   "execution_count": 19,
   "id": "aa753cb8",
   "metadata": {},
   "outputs": [
    {
     "data": {
      "text/plain": [
       "{'Amerika Birleşik Devletleri',\n",
       " 'Bangladeş',\n",
       " 'Belçika',\n",
       " 'Endonezya',\n",
       " 'Eritre',\n",
       " 'Filipinler',\n",
       " 'Fransa',\n",
       " 'Güney Kore',\n",
       " 'Hatay',\n",
       " 'Hindistan',\n",
       " 'Japonya',\n",
       " 'Makao',\n",
       " 'Maldivler',\n",
       " 'Malta',\n",
       " 'Meksika',\n",
       " 'Monako',\n",
       " 'Mısır',\n",
       " 'Nepal',\n",
       " 'Pakistan',\n",
       " 'Sri Lanka',\n",
       " 'Suriye',\n",
       " 'Ukrayna',\n",
       " 'Yunanistan',\n",
       " 'İspanya',\n",
       " 'İsrail'}"
      ]
     },
     "execution_count": 19,
     "metadata": {},
     "output_type": "execute_result"
    }
   ],
   "source": [
    "# dung ham set \n",
    "country_unique = set(countries)\n",
    "country_unique"
   ]
  },
  {
   "cell_type": "code",
   "execution_count": 21,
   "id": "a83e9f47",
   "metadata": {},
   "outputs": [
    {
     "name": "stdout",
     "output_type": "stream",
     "text": [
      "['İsrail', 'Hindistan', 'Fransa', 'Endonezya', 'Yunanistan', 'Filipinler', 'İspanya', 'Amerika Birleşik Devletleri', 'Belçika']\n"
     ]
    }
   ],
   "source": [
    "list_country_have_3cities = []\n",
    "count_country = []\n",
    "for i in country_unique:\n",
    "    if countries.count(i) >= 3:\n",
    "        list_country_have_3cities.append(i)\n",
    "print(list_country_have_3cities)\n",
    "    "
   ]
  },
  {
   "cell_type": "markdown",
   "id": "bad2f70a",
   "metadata": {},
   "source": [
    "## Top 5 countries with many cities appearing"
   ]
  },
  {
   "cell_type": "code",
   "execution_count": 147,
   "id": "51c3c70c",
   "metadata": {},
   "outputs": [
    {
     "data": {
      "text/plain": [
       "[('Filipinler', 18),\n",
       " ('Fransa', 17),\n",
       " ('Amerika Birleşik Devletleri', 5),\n",
       " ('Belçika', 5),\n",
       " ('İspanya', 4)]"
      ]
     },
     "execution_count": 147,
     "metadata": {},
     "output_type": "execute_result"
    }
   ],
   "source": [
    "sorted_countries_count = sorted(countries_count.items(), key=lambda x: x[1], reverse=True)\n",
    "top_5 = sorted_countries_count[:5]\n",
    "top_5"
   ]
  },
  {
   "cell_type": "markdown",
   "id": "0e2dca70",
   "metadata": {},
   "source": [
    "## cities whose population & area are in top 20"
   ]
  },
  {
   "cell_type": "code",
   "execution_count": 171,
   "id": "98a53a3a",
   "metadata": {},
   "outputs": [
    {
     "data": {
      "text/plain": [
       "[['Karaçi', 14910352],\n",
       " ['Bombay', 12442373],\n",
       " ['Cakarta', 10560000],\n",
       " ['Seul', 9962393],\n",
       " ['Kahire', 9539673],\n",
       " ['Dakka', 8906136],\n",
       " ['Kalküta', 4496694],\n",
       " ['Bandung', 3075478],\n",
       " ['Quezon şehir', 2960048],\n",
       " ['Çittagong', 2582401],\n",
       " ['Paris', 2187526],\n",
       " ['Manila', 1846513],\n",
       " ['Şam', 1711000],\n",
       " ['Caloocan', 1661584],\n",
       " ['Barselona', 1636732],\n",
       " ['Manhattan', 1628701],\n",
       " ['Katmandu', 1442000],\n",
       " ['Ciudad Nezahualcóyotl', 1110565],\n",
       " ['naber', 1072161],\n",
       " ['Port-au-Prince', 987310]]"
      ]
     },
     "execution_count": 171,
     "metadata": {},
     "output_type": "execute_result"
    }
   ],
   "source": [
    "top_20_population = sorted_city_population[:20]\n",
    "top_20_population"
   ]
  },
  {
   "cell_type": "code",
   "execution_count": 161,
   "id": "c44df2d7",
   "metadata": {},
   "outputs": [
    {
     "data": {
      "text/plain": [
       "[['Cakarta', 662],\n",
       " ['Kahire', 606],\n",
       " ['Seul', 605],\n",
       " ['Bombay', 603],\n",
       " ['Karaçi', 591],\n",
       " ['Dakka', 306],\n",
       " ['Kalküta', 185],\n",
       " ['Bandung', 167],\n",
       " ['Quezon şehir', 166],\n",
       " ['Çittagong', 155],\n",
       " ['Paris', 105],\n",
       " ['Barselona', 101],\n",
       " ['Şam', 77],\n",
       " ['Ciudad Nezahualcóyotl', 63],\n",
       " ['Manhattan', 59],\n",
       " ['Caloocan', 53],\n",
       " ['naber', 52],\n",
       " ['Katmandu', 49],\n",
       " ['bacoor', 46],\n",
       " ['Asmara', 45]]"
      ]
     },
     "execution_count": 161,
     "metadata": {},
     "output_type": "execute_result"
    }
   ],
   "source": [
    "city_area = []\n",
    "\n",
    "for row in data_cleaned[1:]:\n",
    "    city = row[1]\n",
    "    area = int(row[3])\n",
    "    city_area.append([city,area])\n",
    "    \n",
    "sorted_city_area = sorted(city_area, key= lambda x: x[1], reverse=True)\n",
    "top_20_area = sorted_city_area[:20]\n",
    "top_20_area"
   ]
  },
  {
   "cell_type": "code",
   "execution_count": 175,
   "id": "a613a039",
   "metadata": {},
   "outputs": [
    {
     "data": {
      "text/plain": [
       "['Karaçi',\n",
       " 'Bombay',\n",
       " 'Cakarta',\n",
       " 'Seul',\n",
       " 'Kahire',\n",
       " 'Dakka',\n",
       " 'Kalküta',\n",
       " 'Bandung',\n",
       " 'Quezon şehir',\n",
       " 'Çittagong',\n",
       " 'Paris',\n",
       " 'Şam',\n",
       " 'Caloocan',\n",
       " 'Barselona',\n",
       " 'Manhattan',\n",
       " 'Katmandu',\n",
       " 'Ciudad Nezahualcóyotl',\n",
       " 'naber']"
      ]
     },
     "execution_count": 175,
     "metadata": {},
     "output_type": "execute_result"
    }
   ],
   "source": [
    "top_20 = []\n",
    "for row1 in top_20_population:\n",
    "    city1 = row1[0]\n",
    "    for row2 in top_20_area:\n",
    "        city2 = row2[0]\n",
    "        if city1 == city2:\n",
    "            top_20.append(city1)\n",
    "top_20"
   ]
  },
  {
   "cell_type": "markdown",
   "id": "a6b097e6",
   "metadata": {},
   "source": [
    "## population density by country\n",
    "### Population Density = Total Population / Total Area"
   ]
  },
  {
   "cell_type": "code",
   "execution_count": 195,
   "id": "b78e95ca",
   "metadata": {},
   "outputs": [
    {
     "name": "stdout",
     "output_type": "stream",
     "text": [
      "{'Filipinler': 12287307, 'İsrail': 352040, 'Nepal': 1442000, 'Bangladeş': 11488537, 'Amerika Birleşik Devletleri': 1929562, 'Hatay': 987310, 'Fransa': 2998410, 'Pakistan': 14910352, 'Hindistan': 18011228, 'Belçika': 330311, 'Yunanistan': 200224, 'Maldivler': 133412, 'Suriye': 1711000, 'Eritre': 963000, 'İspanya': 2051480, 'Makao': 643100, 'Sri Lanka': 752993, 'Ukrayna': 17249, 'Endonezya': 14203878, 'Monako': 36950, 'Meksika': 1110565, 'Japonya': 582065, 'Güney Kore': 9962393, 'Mısır': 9539673, 'Malta': 2820}\n"
     ]
    }
   ],
   "source": [
    "#verify malta population\n",
    "\n",
    "population_country = {}\n",
    "for row in data_cleaned[1:]:\n",
    "    country = row[-2]\n",
    "    population = int(row[2])\n",
    "    if country in population_country:\n",
    "        population_country[country] += population\n",
    "    else:\n",
    "        population_country[country] = population\n",
    "print(population_country)"
   ]
  },
  {
   "cell_type": "code",
   "execution_count": 196,
   "id": "baf39784",
   "metadata": {},
   "outputs": [],
   "source": [
    "if 'Malta' in population_country:\n",
    "    del population_country['Malta']"
   ]
  },
  {
   "cell_type": "code",
   "execution_count": 197,
   "id": "98f7d40f",
   "metadata": {},
   "outputs": [
    {
     "name": "stdout",
     "output_type": "stream",
     "text": [
      "{'Filipinler': 548, 'İsrail': 15, 'Nepal': 49, 'Bangladeş': 461, 'Amerika Birleşik Devletleri': 75, 'Hatay': 36, 'Fransa': 147, 'Pakistan': 591, 'Hindistan': 840, 'Belçika': 19, 'Yunanistan': 10, 'Maldivler': 6, 'Suriye': 77, 'Eritre': 45, 'İspanya': 122, 'Makao': 30, 'Sri Lanka': 37, 'Ukrayna': 1, 'Endonezya': 869, 'Monako': 2, 'Meksika': 63, 'Japonya': 34, 'Güney Kore': 605, 'Mısır': 606, 'Malta': 0}\n"
     ]
    }
   ],
   "source": [
    "#verify malta area = 0 \n",
    "\n",
    "area_country = {}\n",
    "for row in data_cleaned[1:]:\n",
    "    country = row[-2]\n",
    "    area = int(row[3])\n",
    "    if country in area_country:\n",
    "        area_country[country] += area\n",
    "    else:\n",
    "        area_country[country] = area\n",
    "print(area_country)"
   ]
  },
  {
   "cell_type": "code",
   "execution_count": 198,
   "id": "15913ac5",
   "metadata": {},
   "outputs": [],
   "source": [
    "if 'Malta' in area_country:\n",
    "    del area_country['Malta']"
   ]
  },
  {
   "cell_type": "code",
   "execution_count": 199,
   "id": "9e19bcf9",
   "metadata": {},
   "outputs": [
    {
     "data": {
      "text/plain": [
       "{'Filipinler': 22422.093065693432,\n",
       " 'İsrail': 23469.333333333332,\n",
       " 'Nepal': 29428.571428571428,\n",
       " 'Bangladeş': 24920.904555314533,\n",
       " 'Amerika Birleşik Devletleri': 25727.493333333332,\n",
       " 'Hatay': 27425.277777777777,\n",
       " 'Fransa': 20397.34693877551,\n",
       " 'Pakistan': 25229.021996615906,\n",
       " 'Hindistan': 21441.938095238096,\n",
       " 'Belçika': 17384.78947368421,\n",
       " 'Yunanistan': 20022.4,\n",
       " 'Maldivler': 22235.333333333332,\n",
       " 'Suriye': 22220.77922077922,\n",
       " 'Eritre': 21400.0,\n",
       " 'İspanya': 16815.409836065573,\n",
       " 'Makao': 21436.666666666668,\n",
       " 'Sri Lanka': 20351.162162162163,\n",
       " 'Ukrayna': 17249.0,\n",
       " 'Endonezya': 16345.084004602992,\n",
       " 'Monako': 18475.0,\n",
       " 'Meksika': 17628.015873015873,\n",
       " 'Japonya': 17119.558823529413,\n",
       " 'Güney Kore': 16466.7652892562,\n",
       " 'Mısır': 15742.034653465347}"
      ]
     },
     "execution_count": 199,
     "metadata": {},
     "output_type": "execute_result"
    }
   ],
   "source": [
    "population_density = {}\n",
    "\n",
    "for country in population_country.keys():\n",
    "    population = population_country[country]\n",
    "    area = area_country[country]\n",
    "    density = population/area\n",
    "    population_density[country] = density\n",
    "\n",
    "population_density"
   ]
  },
  {
   "cell_type": "code",
   "execution_count": 210,
   "id": "4c6b91ff",
   "metadata": {},
   "outputs": [
    {
     "name": "stdout",
     "output_type": "stream",
     "text": [
      "{'Malta': 14100}\n"
     ]
    }
   ],
   "source": [
    "density_malta = {}\n",
    "density_malta['Malta'] = 0\n",
    "for row in data_cleaned[1:]:\n",
    "    country = row[-2]\n",
    "    density_KM2 = int(row[5])\n",
    "    if country == 'Malta':\n",
    "        density_malta[country] += density_KM2\n",
    "\n",
    "print(density_malta)"
   ]
  },
  {
   "cell_type": "markdown",
   "id": "66030010",
   "metadata": {},
   "source": [
    "## cities with the largest population of each country"
   ]
  },
  {
   "cell_type": "code",
   "execution_count": 229,
   "id": "7f1444c2",
   "metadata": {},
   "outputs": [
    {
     "data": {
      "text/plain": [
       "['Filipinler',\n",
       " 'İsrail',\n",
       " 'Bangladeş',\n",
       " 'Amerika Birleşik Devletleri',\n",
       " 'Fransa',\n",
       " 'Hindistan',\n",
       " 'Belçika',\n",
       " 'Yunanistan',\n",
       " 'İspanya',\n",
       " 'Endonezya']"
      ]
     },
     "execution_count": 229,
     "metadata": {},
     "output_type": "execute_result"
    }
   ],
   "source": [
    "country_name = []\n",
    "\n",
    "for country, count in countries_count.items():\n",
    "    if count >= 2:\n",
    "        country_name.append(country)\n",
    "country_name"
   ]
  },
  {
   "cell_type": "code",
   "execution_count": 232,
   "id": "88ded562",
   "metadata": {},
   "outputs": [
    {
     "name": "stdout",
     "output_type": "stream",
     "text": [
      "filipinler:  [['Quezon şehir', 2960048], ['Manila', 1846513]]\n"
     ]
    }
   ],
   "source": [
    "filipinler = []\n",
    "for row in data_cleaned[1:]:\n",
    "    city = row[1]\n",
    "    population = int(row[2])\n",
    "    country = row[-2]\n",
    "    if country == \"Filipinler\":\n",
    "        filipinler.append([city,population])\n",
    "sorted_filipinler = sorted(filipinler, key=lambda x: x[1], reverse=True)\n",
    "top_2_filipinler = sorted_filipinler[:2]\n",
    "print(\"filipinler: \",top_2_filipinler)     "
   ]
  },
  {
   "cell_type": "code",
   "execution_count": 236,
   "id": "41d9ce3a",
   "metadata": {},
   "outputs": [],
   "source": [
    "def top_cities_in_country(data_cleaned, country_name):\n",
    "    cities = []\n",
    "    \n",
    "    for row in data_cleaned[1:]:\n",
    "        city = row[1]\n",
    "        population = int(row[2])\n",
    "        country = row[-2]\n",
    "        if country == country_name:\n",
    "            cities.append([city, population])\n",
    "            \n",
    "    sorted_cities = sorted(cities, key=lambda x: x[1], reverse=True)\n",
    "    top_2_cities = sorted_cities[:2] \n",
    "    return top_2_cities"
   ]
  },
  {
   "cell_type": "code",
   "execution_count": 238,
   "id": "b0124dcd",
   "metadata": {},
   "outputs": [
    {
     "data": {
      "text/plain": [
       "[['Quezon şehir', 2960048], ['Manila', 1846513]]"
      ]
     },
     "execution_count": 238,
     "metadata": {},
     "output_type": "execute_result"
    }
   ],
   "source": [
    "top_2_filipinler = top_cities_in_country(data_cleaned, 'Filipinler')\n",
    "top_2_filipinler"
   ]
  },
  {
   "cell_type": "code",
   "execution_count": 243,
   "id": "9c4863a9",
   "metadata": {},
   "outputs": [
    {
     "data": {
      "text/plain": [
       "[['Manhattan', 1628701], ['Kore mahallesi', 124281]]"
      ]
     },
     "execution_count": 243,
     "metadata": {},
     "output_type": "execute_result"
    }
   ],
   "source": [
    "top_cities_in_country(data_cleaned, country_name[3])"
   ]
  },
  {
   "cell_type": "code",
   "execution_count": null,
   "id": "550cba01",
   "metadata": {},
   "outputs": [],
   "source": [
    "#numpy :xu ly so\n",
    "#pandas : xu ly van ban\n",
    "#scikit-learn : ML\n",
    "#np.array()\n",
    "#array.shape()\n",
    "#array.reshape() : dam tao tich cac chieu bang nhau, lay tuan tu tu tren xuong duoi tu trai qua phai\n",
    "#np.concatenate((a,b),1) : ghep theo chieu ngang (aixs = 1), chieu doc (axis = 0)"
   ]
  },
  {
   "cell_type": "code",
   "execution_count": null,
   "id": "76841ed4",
   "metadata": {},
   "outputs": [],
   "source": []
  }
 ],
 "metadata": {
  "kernelspec": {
   "display_name": "Python 3 (ipykernel)",
   "language": "python",
   "name": "python3"
  },
  "language_info": {
   "codemirror_mode": {
    "name": "ipython",
    "version": 3
   },
   "file_extension": ".py",
   "mimetype": "text/x-python",
   "name": "python",
   "nbconvert_exporter": "python",
   "pygments_lexer": "ipython3",
   "version": "3.9.12"
  }
 },
 "nbformat": 4,
 "nbformat_minor": 5
}
