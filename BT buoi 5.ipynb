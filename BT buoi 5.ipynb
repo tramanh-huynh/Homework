{
 "cells": [
  {
   "cell_type": "code",
   "execution_count": 1,
   "id": "54ffd306",
   "metadata": {},
   "outputs": [
    {
     "name": "stdout",
     "output_type": "stream",
     "text": [
      "<class 'pandas.core.frame.DataFrame'>\n",
      "RangeIndex: 1000 entries, 0 to 999\n",
      "Data columns (total 8 columns):\n",
      " #   Column                       Non-Null Count  Dtype \n",
      "---  ------                       --------------  ----- \n",
      " 0   gender                       1000 non-null   object\n",
      " 1   race/ethnicity               1000 non-null   object\n",
      " 2   parental level of education  1000 non-null   object\n",
      " 3   lunch                        1000 non-null   object\n",
      " 4   test preparation course      1000 non-null   object\n",
      " 5   math score                   1000 non-null   int64 \n",
      " 6   reading score                1000 non-null   int64 \n",
      " 7   writing score                1000 non-null   int64 \n",
      "dtypes: int64(3), object(5)\n",
      "memory usage: 62.6+ KB\n"
     ]
    }
   ],
   "source": [
    "import pandas as pd \n",
    "df = pd.read_csv(\"StudentScore.csv\", header=0)  #doc file\n",
    "df.info() #check NA, datatype"
   ]
  },
  {
   "cell_type": "code",
   "execution_count": 2,
   "id": "4c69d265",
   "metadata": {},
   "outputs": [
    {
     "data": {
      "text/html": [
       "<div>\n",
       "<style scoped>\n",
       "    .dataframe tbody tr th:only-of-type {\n",
       "        vertical-align: middle;\n",
       "    }\n",
       "\n",
       "    .dataframe tbody tr th {\n",
       "        vertical-align: top;\n",
       "    }\n",
       "\n",
       "    .dataframe thead th {\n",
       "        text-align: right;\n",
       "    }\n",
       "</style>\n",
       "<table border=\"1\" class=\"dataframe\">\n",
       "  <thead>\n",
       "    <tr style=\"text-align: right;\">\n",
       "      <th></th>\n",
       "      <th>gender</th>\n",
       "      <th>race/ethnicity</th>\n",
       "      <th>parental level of education</th>\n",
       "      <th>lunch</th>\n",
       "      <th>test preparation course</th>\n",
       "      <th>math score</th>\n",
       "      <th>reading score</th>\n",
       "      <th>writing score</th>\n",
       "    </tr>\n",
       "  </thead>\n",
       "  <tbody>\n",
       "    <tr>\n",
       "      <th>0</th>\n",
       "      <td>female</td>\n",
       "      <td>group B</td>\n",
       "      <td>bachelor's degree</td>\n",
       "      <td>standard</td>\n",
       "      <td>none</td>\n",
       "      <td>72</td>\n",
       "      <td>72</td>\n",
       "      <td>74</td>\n",
       "    </tr>\n",
       "    <tr>\n",
       "      <th>1</th>\n",
       "      <td>female</td>\n",
       "      <td>group C</td>\n",
       "      <td>some college</td>\n",
       "      <td>standard</td>\n",
       "      <td>completed</td>\n",
       "      <td>69</td>\n",
       "      <td>90</td>\n",
       "      <td>88</td>\n",
       "    </tr>\n",
       "    <tr>\n",
       "      <th>2</th>\n",
       "      <td>female</td>\n",
       "      <td>group B</td>\n",
       "      <td>master's degree</td>\n",
       "      <td>standard</td>\n",
       "      <td>none</td>\n",
       "      <td>90</td>\n",
       "      <td>95</td>\n",
       "      <td>93</td>\n",
       "    </tr>\n",
       "    <tr>\n",
       "      <th>3</th>\n",
       "      <td>male</td>\n",
       "      <td>group A</td>\n",
       "      <td>associate's degree</td>\n",
       "      <td>free/reduced</td>\n",
       "      <td>none</td>\n",
       "      <td>47</td>\n",
       "      <td>57</td>\n",
       "      <td>44</td>\n",
       "    </tr>\n",
       "    <tr>\n",
       "      <th>4</th>\n",
       "      <td>male</td>\n",
       "      <td>group C</td>\n",
       "      <td>some college</td>\n",
       "      <td>standard</td>\n",
       "      <td>none</td>\n",
       "      <td>76</td>\n",
       "      <td>78</td>\n",
       "      <td>75</td>\n",
       "    </tr>\n",
       "  </tbody>\n",
       "</table>\n",
       "</div>"
      ],
      "text/plain": [
       "   gender race/ethnicity parental level of education         lunch  \\\n",
       "0  female        group B           bachelor's degree      standard   \n",
       "1  female        group C                some college      standard   \n",
       "2  female        group B             master's degree      standard   \n",
       "3    male        group A          associate's degree  free/reduced   \n",
       "4    male        group C                some college      standard   \n",
       "\n",
       "  test preparation course  math score  reading score  writing score  \n",
       "0                    none          72             72             74  \n",
       "1               completed          69             90             88  \n",
       "2                    none          90             95             93  \n",
       "3                    none          47             57             44  \n",
       "4                    none          76             78             75  "
      ]
     },
     "execution_count": 2,
     "metadata": {},
     "output_type": "execute_result"
    }
   ],
   "source": [
    "df.head() #xem 5 dong dau tien"
   ]
  },
  {
   "cell_type": "code",
   "execution_count": 3,
   "id": "7e42db9c",
   "metadata": {},
   "outputs": [
    {
     "data": {
      "text/plain": [
       "(1000, 8)"
      ]
     },
     "execution_count": 3,
     "metadata": {},
     "output_type": "execute_result"
    }
   ],
   "source": [
    "df.shape #so dong so cot"
   ]
  },
  {
   "cell_type": "code",
   "execution_count": 4,
   "id": "b027c539",
   "metadata": {},
   "outputs": [
    {
     "data": {
      "text/plain": [
       "pandas.core.frame.DataFrame"
      ]
     },
     "execution_count": 4,
     "metadata": {},
     "output_type": "execute_result"
    }
   ],
   "source": [
    "type(df)"
   ]
  },
  {
   "cell_type": "markdown",
   "id": "f5f89599",
   "metadata": {},
   "source": [
    "# Task 1: In ra index của 10 học sinh có math score và reading score đều nằm trong Top 100"
   ]
  },
  {
   "cell_type": "code",
   "execution_count": 5,
   "id": "89ecff47",
   "metadata": {},
   "outputs": [
    {
     "name": "stdout",
     "output_type": "stream",
     "text": [
      "149    100\n",
      "451    100\n",
      "458    100\n",
      "623    100\n",
      "625    100\n",
      "      ... \n",
      "223     86\n",
      "291     86\n",
      "426     86\n",
      "447     86\n",
      "509     86\n",
      "Name: math score, Length: 100, dtype: int32\n"
     ]
    }
   ],
   "source": [
    "top100_math = df[\"math score\"]\n",
    "top100_math = top100_math.nlargest(100)\n",
    "top100_math = top100_math.astype(int)\n",
    "print(top100_math)"
   ]
  },
  {
   "cell_type": "code",
   "execution_count": 6,
   "id": "5543442a",
   "metadata": {},
   "outputs": [
    {
     "name": "stdout",
     "output_type": "stream",
     "text": [
      "106    100\n",
      "114    100\n",
      "149    100\n",
      "165    100\n",
      "179    100\n",
      "      ... \n",
      "468     88\n",
      "493     88\n",
      "533     88\n",
      "633     88\n",
      "641     88\n",
      "Name: reading score, Length: 100, dtype: int32\n"
     ]
    }
   ],
   "source": [
    "top100_reading = df[\"reading score\"]\n",
    "top100_reading = top100_reading.nlargest(100)\n",
    "top100_reading = top100_reading.astype(int)\n",
    "print(top100_reading)"
   ]
  },
  {
   "cell_type": "code",
   "execution_count": 47,
   "id": "298afcff",
   "metadata": {},
   "outputs": [
    {
     "data": {
      "text/html": [
       "<div>\n",
       "<style scoped>\n",
       "    .dataframe tbody tr th:only-of-type {\n",
       "        vertical-align: middle;\n",
       "    }\n",
       "\n",
       "    .dataframe tbody tr th {\n",
       "        vertical-align: top;\n",
       "    }\n",
       "\n",
       "    .dataframe thead th {\n",
       "        text-align: right;\n",
       "    }\n",
       "</style>\n",
       "<table border=\"1\" class=\"dataframe\">\n",
       "  <thead>\n",
       "    <tr style=\"text-align: right;\">\n",
       "      <th></th>\n",
       "      <th>math score</th>\n",
       "      <th>reading score</th>\n",
       "    </tr>\n",
       "  </thead>\n",
       "  <tbody>\n",
       "    <tr>\n",
       "      <th>149</th>\n",
       "      <td>100</td>\n",
       "      <td>100</td>\n",
       "    </tr>\n",
       "    <tr>\n",
       "      <th>451</th>\n",
       "      <td>100</td>\n",
       "      <td>92</td>\n",
       "    </tr>\n",
       "    <tr>\n",
       "      <th>458</th>\n",
       "      <td>100</td>\n",
       "      <td>100</td>\n",
       "    </tr>\n",
       "    <tr>\n",
       "      <th>623</th>\n",
       "      <td>100</td>\n",
       "      <td>96</td>\n",
       "    </tr>\n",
       "    <tr>\n",
       "      <th>625</th>\n",
       "      <td>100</td>\n",
       "      <td>97</td>\n",
       "    </tr>\n",
       "    <tr>\n",
       "      <th>916</th>\n",
       "      <td>100</td>\n",
       "      <td>100</td>\n",
       "    </tr>\n",
       "    <tr>\n",
       "      <th>962</th>\n",
       "      <td>100</td>\n",
       "      <td>100</td>\n",
       "    </tr>\n",
       "    <tr>\n",
       "      <th>114</th>\n",
       "      <td>99</td>\n",
       "      <td>100</td>\n",
       "    </tr>\n",
       "    <tr>\n",
       "      <th>263</th>\n",
       "      <td>99</td>\n",
       "      <td>93</td>\n",
       "    </tr>\n",
       "    <tr>\n",
       "      <th>712</th>\n",
       "      <td>98</td>\n",
       "      <td>100</td>\n",
       "    </tr>\n",
       "  </tbody>\n",
       "</table>\n",
       "</div>"
      ],
      "text/plain": [
       "     math score  reading score\n",
       "149         100            100\n",
       "451         100             92\n",
       "458         100            100\n",
       "623         100             96\n",
       "625         100             97\n",
       "916         100            100\n",
       "962         100            100\n",
       "114          99            100\n",
       "263          99             93\n",
       "712          98            100"
      ]
     },
     "execution_count": 47,
     "metadata": {},
     "output_type": "execute_result"
    }
   ],
   "source": [
    "#cach 1\n",
    "top100_both = pd.merge(top100_math, top100_reading, left_index=True, right_index=True, how='inner')\n",
    "top100_both[:10]"
   ]
  },
  {
   "cell_type": "code",
   "execution_count": 8,
   "id": "af5b96d7",
   "metadata": {},
   "outputs": [
    {
     "data": {
      "text/html": [
       "<div>\n",
       "<style scoped>\n",
       "    .dataframe tbody tr th:only-of-type {\n",
       "        vertical-align: middle;\n",
       "    }\n",
       "\n",
       "    .dataframe tbody tr th {\n",
       "        vertical-align: top;\n",
       "    }\n",
       "\n",
       "    .dataframe thead th {\n",
       "        text-align: right;\n",
       "    }\n",
       "</style>\n",
       "<table border=\"1\" class=\"dataframe\">\n",
       "  <thead>\n",
       "    <tr style=\"text-align: right;\">\n",
       "      <th></th>\n",
       "      <th>math score</th>\n",
       "      <th>reading score</th>\n",
       "    </tr>\n",
       "  </thead>\n",
       "  <tbody>\n",
       "    <tr>\n",
       "      <th>149</th>\n",
       "      <td>100</td>\n",
       "      <td>100</td>\n",
       "    </tr>\n",
       "    <tr>\n",
       "      <th>451</th>\n",
       "      <td>100</td>\n",
       "      <td>92</td>\n",
       "    </tr>\n",
       "    <tr>\n",
       "      <th>458</th>\n",
       "      <td>100</td>\n",
       "      <td>100</td>\n",
       "    </tr>\n",
       "    <tr>\n",
       "      <th>623</th>\n",
       "      <td>100</td>\n",
       "      <td>96</td>\n",
       "    </tr>\n",
       "    <tr>\n",
       "      <th>625</th>\n",
       "      <td>100</td>\n",
       "      <td>97</td>\n",
       "    </tr>\n",
       "    <tr>\n",
       "      <th>916</th>\n",
       "      <td>100</td>\n",
       "      <td>100</td>\n",
       "    </tr>\n",
       "    <tr>\n",
       "      <th>962</th>\n",
       "      <td>100</td>\n",
       "      <td>100</td>\n",
       "    </tr>\n",
       "    <tr>\n",
       "      <th>114</th>\n",
       "      <td>99</td>\n",
       "      <td>100</td>\n",
       "    </tr>\n",
       "    <tr>\n",
       "      <th>263</th>\n",
       "      <td>99</td>\n",
       "      <td>93</td>\n",
       "    </tr>\n",
       "    <tr>\n",
       "      <th>712</th>\n",
       "      <td>98</td>\n",
       "      <td>100</td>\n",
       "    </tr>\n",
       "  </tbody>\n",
       "</table>\n",
       "</div>"
      ],
      "text/plain": [
       "     math score  reading score\n",
       "149         100            100\n",
       "451         100             92\n",
       "458         100            100\n",
       "623         100             96\n",
       "625         100             97\n",
       "916         100            100\n",
       "962         100            100\n",
       "114          99            100\n",
       "263          99             93\n",
       "712          98            100"
      ]
     },
     "execution_count": 8,
     "metadata": {},
     "output_type": "execute_result"
    }
   ],
   "source": [
    "#cach 2\n",
    "top100_math_df = top100_math.to_frame(name='math score')\n",
    "top100_reading_df = top100_reading.to_frame(name='reading score')\n",
    "top100_both1 = top100_math_df.join(top100_reading_df, how=\"inner\")\n",
    "top100_both1.head(10)"
   ]
  },
  {
   "cell_type": "markdown",
   "id": "d1c8bc45",
   "metadata": {},
   "source": [
    "# Task 2: In ra index của 20 học sinh có điểm writing score cao nhất của mỗi group (race/ethnicity)"
   ]
  },
  {
   "cell_type": "code",
   "execution_count": 9,
   "id": "14fb6374",
   "metadata": {},
   "outputs": [
    {
     "data": {
      "text/plain": [
       "group C    319\n",
       "group D    262\n",
       "group B    190\n",
       "group E    140\n",
       "group A     89\n",
       "Name: race/ethnicity, dtype: int64"
      ]
     },
     "execution_count": 9,
     "metadata": {},
     "output_type": "execute_result"
    }
   ],
   "source": [
    "# co 5 groups moi group lay ra 20 hs co diem writing cao nhat \n",
    "df[\"race/ethnicity\"].value_counts()"
   ]
  },
  {
   "cell_type": "code",
   "execution_count": 10,
   "id": "a82fab2a",
   "metadata": {},
   "outputs": [
    {
     "data": {
      "text/plain": [
       "<bound method Series.info of race/ethnicity     \n",
       "group A         546    97\n",
       "                614    93\n",
       "                571    92\n",
       "                820    92\n",
       "                983    91\n",
       "                       ..\n",
       "group E         164    91\n",
       "                890    91\n",
       "                263    90\n",
       "                216    88\n",
       "                286    88\n",
       "Name: writing score, Length: 100, dtype: int64>"
      ]
     },
     "execution_count": 10,
     "metadata": {},
     "output_type": "execute_result"
    }
   ],
   "source": [
    "writing = df.loc[:,[\"race/ethnicity\",\"writing score\"]]\n",
    "top20_writing = writing.groupby(\"race/ethnicity\")[\"writing score\"].nlargest(20)\n",
    "top20_writing.info"
   ]
  },
  {
   "cell_type": "code",
   "execution_count": 11,
   "id": "84d0338e",
   "metadata": {},
   "outputs": [
    {
     "data": {
      "text/plain": [
       "race/ethnicity     \n",
       "group A         546    97\n",
       "                614    93\n",
       "                571    92\n",
       "                820    92\n",
       "                983    91\n",
       "                702    87\n",
       "                539    86\n",
       "                623    86\n",
       "                468    85\n",
       "                489    82\n",
       "                778    82\n",
       "                911    82\n",
       "                77     81\n",
       "                300    81\n",
       "                423    80\n",
       "                837    79\n",
       "                378    77\n",
       "                490    76\n",
       "                651    76\n",
       "                170    74\n",
       "Name: writing score, dtype: int64"
      ]
     },
     "execution_count": 11,
     "metadata": {},
     "output_type": "execute_result"
    }
   ],
   "source": [
    "top20_writing[[\"group A\"]]"
   ]
  },
  {
   "cell_type": "code",
   "execution_count": 12,
   "id": "9493ad89",
   "metadata": {},
   "outputs": [
    {
     "data": {
      "text/plain": [
       "race/ethnicity     \n",
       "group B         855    96\n",
       "                514    94\n",
       "                2      93\n",
       "                6      92\n",
       "                94     92\n",
       "                121    92\n",
       "                501    92\n",
       "                474    91\n",
       "                919    91\n",
       "                577    89\n",
       "                833    89\n",
       "                551    88\n",
       "                722    88\n",
       "                158    87\n",
       "                667    87\n",
       "                715    87\n",
       "                803    87\n",
       "                815    87\n",
       "                125    86\n",
       "                749    86\n",
       "Name: writing score, dtype: int64"
      ]
     },
     "execution_count": 12,
     "metadata": {},
     "output_type": "execute_result"
    }
   ],
   "source": [
    "top20_writing[[\"group B\"]]"
   ]
  },
  {
   "cell_type": "code",
   "execution_count": 13,
   "id": "3c4fd6f7",
   "metadata": {},
   "outputs": [
    {
     "data": {
      "text/plain": [
       "race/ethnicity     \n",
       "group C         165    100\n",
       "                594     99\n",
       "                717     99\n",
       "                334     95\n",
       "                347     95\n",
       "                381     95\n",
       "                397     95\n",
       "                229     94\n",
       "                325     94\n",
       "                732     94\n",
       "                979     94\n",
       "                122     93\n",
       "                276     93\n",
       "                420     93\n",
       "                562     92\n",
       "                463     91\n",
       "                465     91\n",
       "                612     91\n",
       "                864     91\n",
       "                104     90\n",
       "Name: writing score, dtype: int64"
      ]
     },
     "execution_count": 13,
     "metadata": {},
     "output_type": "execute_result"
    }
   ],
   "source": [
    "top20_writing[[\"group C\"]]"
   ]
  },
  {
   "cell_type": "code",
   "execution_count": 14,
   "id": "1fae9ebb",
   "metadata": {},
   "outputs": [
    {
     "data": {
      "text/plain": [
       "race/ethnicity     \n",
       "group D         106    100\n",
       "                179    100\n",
       "                377    100\n",
       "                403    100\n",
       "                903    100\n",
       "                957    100\n",
       "                970    100\n",
       "                625     99\n",
       "                712     99\n",
       "                110     98\n",
       "                652     98\n",
       "                373     96\n",
       "                580     96\n",
       "                941     96\n",
       "                268     95\n",
       "                821     93\n",
       "                316     91\n",
       "                907     91\n",
       "                604     90\n",
       "                641     90\n",
       "Name: writing score, dtype: int64"
      ]
     },
     "execution_count": 14,
     "metadata": {},
     "output_type": "execute_result"
    }
   ],
   "source": [
    "top20_writing[[\"group D\"]]"
   ]
  },
  {
   "cell_type": "code",
   "execution_count": 15,
   "id": "d9faadb9",
   "metadata": {},
   "outputs": [
    {
     "data": {
      "text/plain": [
       "race/ethnicity     \n",
       "group E         114    100\n",
       "                458    100\n",
       "                566    100\n",
       "                685    100\n",
       "                916    100\n",
       "                962    100\n",
       "                451     97\n",
       "                802     95\n",
       "                886     95\n",
       "                995     95\n",
       "                533     94\n",
       "                149     93\n",
       "                852     93\n",
       "                503     92\n",
       "                755     92\n",
       "                164     91\n",
       "                890     91\n",
       "                263     90\n",
       "                216     88\n",
       "                286     88\n",
       "Name: writing score, dtype: int64"
      ]
     },
     "execution_count": 15,
     "metadata": {},
     "output_type": "execute_result"
    }
   ],
   "source": [
    "top20_writing[[\"group E\"]]"
   ]
  },
  {
   "cell_type": "markdown",
   "id": "0af8dc55",
   "metadata": {},
   "source": [
    "# Task 3: Thống kê số lượng học sinh của group A theo parental level of education"
   ]
  },
  {
   "cell_type": "code",
   "execution_count": 16,
   "id": "6758cb28",
   "metadata": {},
   "outputs": [
    {
     "data": {
      "text/plain": [
       "race/ethnicity  parental level of education\n",
       "group A         some high school               24\n",
       "                high school                    18\n",
       "                some college                   18\n",
       "                associate's degree             14\n",
       "                bachelor's degree              12\n",
       "                master's degree                 3\n",
       "dtype: int64"
      ]
     },
     "execution_count": 16,
     "metadata": {},
     "output_type": "execute_result"
    }
   ],
   "source": [
    "parental = df[df[\"race/ethnicity\"] == \"group A\"][[\"race/ethnicity\",\"parental level of education\"]]\n",
    "parental.value_counts()"
   ]
  },
  {
   "cell_type": "markdown",
   "id": "07f281ce",
   "metadata": {},
   "source": [
    "# Task 4: Có phải xu hướng chung, cha mẹ có học vấn càng cao thì điểm số trung bình 3 môn của con cái cũng càng cao ko\n",
    "\n",
    "##  comparison of a qualitative variable with a quantitative variable ?"
   ]
  },
  {
   "cell_type": "code",
   "execution_count": 17,
   "id": "2cf3cb4b",
   "metadata": {},
   "outputs": [
    {
     "data": {
      "text/html": [
       "<div>\n",
       "<style scoped>\n",
       "    .dataframe tbody tr th:only-of-type {\n",
       "        vertical-align: middle;\n",
       "    }\n",
       "\n",
       "    .dataframe tbody tr th {\n",
       "        vertical-align: top;\n",
       "    }\n",
       "\n",
       "    .dataframe thead th {\n",
       "        text-align: right;\n",
       "    }\n",
       "</style>\n",
       "<table border=\"1\" class=\"dataframe\">\n",
       "  <thead>\n",
       "    <tr style=\"text-align: right;\">\n",
       "      <th></th>\n",
       "      <th>gender</th>\n",
       "      <th>race/ethnicity</th>\n",
       "      <th>parental level of education</th>\n",
       "      <th>lunch</th>\n",
       "      <th>test preparation course</th>\n",
       "      <th>math score</th>\n",
       "      <th>reading score</th>\n",
       "      <th>writing score</th>\n",
       "      <th>mean_score</th>\n",
       "    </tr>\n",
       "  </thead>\n",
       "  <tbody>\n",
       "    <tr>\n",
       "      <th>0</th>\n",
       "      <td>female</td>\n",
       "      <td>group B</td>\n",
       "      <td>bachelor's degree</td>\n",
       "      <td>standard</td>\n",
       "      <td>none</td>\n",
       "      <td>72</td>\n",
       "      <td>72</td>\n",
       "      <td>74</td>\n",
       "      <td>73.0</td>\n",
       "    </tr>\n",
       "    <tr>\n",
       "      <th>1</th>\n",
       "      <td>female</td>\n",
       "      <td>group C</td>\n",
       "      <td>some college</td>\n",
       "      <td>standard</td>\n",
       "      <td>completed</td>\n",
       "      <td>69</td>\n",
       "      <td>90</td>\n",
       "      <td>88</td>\n",
       "      <td>82.0</td>\n",
       "    </tr>\n",
       "    <tr>\n",
       "      <th>2</th>\n",
       "      <td>female</td>\n",
       "      <td>group B</td>\n",
       "      <td>master's degree</td>\n",
       "      <td>standard</td>\n",
       "      <td>none</td>\n",
       "      <td>90</td>\n",
       "      <td>95</td>\n",
       "      <td>93</td>\n",
       "      <td>93.0</td>\n",
       "    </tr>\n",
       "    <tr>\n",
       "      <th>3</th>\n",
       "      <td>male</td>\n",
       "      <td>group A</td>\n",
       "      <td>associate's degree</td>\n",
       "      <td>free/reduced</td>\n",
       "      <td>none</td>\n",
       "      <td>47</td>\n",
       "      <td>57</td>\n",
       "      <td>44</td>\n",
       "      <td>49.0</td>\n",
       "    </tr>\n",
       "    <tr>\n",
       "      <th>4</th>\n",
       "      <td>male</td>\n",
       "      <td>group C</td>\n",
       "      <td>some college</td>\n",
       "      <td>standard</td>\n",
       "      <td>none</td>\n",
       "      <td>76</td>\n",
       "      <td>78</td>\n",
       "      <td>75</td>\n",
       "      <td>76.0</td>\n",
       "    </tr>\n",
       "  </tbody>\n",
       "</table>\n",
       "</div>"
      ],
      "text/plain": [
       "   gender race/ethnicity parental level of education         lunch  \\\n",
       "0  female        group B           bachelor's degree      standard   \n",
       "1  female        group C                some college      standard   \n",
       "2  female        group B             master's degree      standard   \n",
       "3    male        group A          associate's degree  free/reduced   \n",
       "4    male        group C                some college      standard   \n",
       "\n",
       "  test preparation course  math score  reading score  writing score  \\\n",
       "0                    none          72             72             74   \n",
       "1               completed          69             90             88   \n",
       "2                    none          90             95             93   \n",
       "3                    none          47             57             44   \n",
       "4                    none          76             78             75   \n",
       "\n",
       "   mean_score  \n",
       "0        73.0  \n",
       "1        82.0  \n",
       "2        93.0  \n",
       "3        49.0  \n",
       "4        76.0  "
      ]
     },
     "execution_count": 17,
     "metadata": {},
     "output_type": "execute_result"
    }
   ],
   "source": [
    "df[\"mean_score\"] = round((df[\"math score\"] + df[\"writing score\"] + df[\"reading score\"])/3)\n",
    "df.head()"
   ]
  },
  {
   "cell_type": "code",
   "execution_count": 18,
   "id": "559224da",
   "metadata": {},
   "outputs": [
    {
     "data": {
      "text/html": [
       "<div>\n",
       "<style scoped>\n",
       "    .dataframe tbody tr th:only-of-type {\n",
       "        vertical-align: middle;\n",
       "    }\n",
       "\n",
       "    .dataframe tbody tr th {\n",
       "        vertical-align: top;\n",
       "    }\n",
       "\n",
       "    .dataframe thead th {\n",
       "        text-align: right;\n",
       "    }\n",
       "</style>\n",
       "<table border=\"1\" class=\"dataframe\">\n",
       "  <thead>\n",
       "    <tr style=\"text-align: right;\">\n",
       "      <th></th>\n",
       "      <th>math score</th>\n",
       "      <th>reading score</th>\n",
       "      <th>writing score</th>\n",
       "      <th>mean_score</th>\n",
       "    </tr>\n",
       "  </thead>\n",
       "  <tbody>\n",
       "    <tr>\n",
       "      <th>count</th>\n",
       "      <td>1000.00000</td>\n",
       "      <td>1000.000000</td>\n",
       "      <td>1000.000000</td>\n",
       "      <td>1000.000000</td>\n",
       "    </tr>\n",
       "    <tr>\n",
       "      <th>mean</th>\n",
       "      <td>66.08900</td>\n",
       "      <td>69.169000</td>\n",
       "      <td>68.054000</td>\n",
       "      <td>67.762000</td>\n",
       "    </tr>\n",
       "    <tr>\n",
       "      <th>std</th>\n",
       "      <td>15.16308</td>\n",
       "      <td>14.600192</td>\n",
       "      <td>15.195657</td>\n",
       "      <td>14.258354</td>\n",
       "    </tr>\n",
       "    <tr>\n",
       "      <th>min</th>\n",
       "      <td>0.00000</td>\n",
       "      <td>17.000000</td>\n",
       "      <td>10.000000</td>\n",
       "      <td>9.000000</td>\n",
       "    </tr>\n",
       "    <tr>\n",
       "      <th>25%</th>\n",
       "      <td>57.00000</td>\n",
       "      <td>59.000000</td>\n",
       "      <td>57.750000</td>\n",
       "      <td>58.000000</td>\n",
       "    </tr>\n",
       "    <tr>\n",
       "      <th>50%</th>\n",
       "      <td>66.00000</td>\n",
       "      <td>70.000000</td>\n",
       "      <td>69.000000</td>\n",
       "      <td>68.000000</td>\n",
       "    </tr>\n",
       "    <tr>\n",
       "      <th>75%</th>\n",
       "      <td>77.00000</td>\n",
       "      <td>79.000000</td>\n",
       "      <td>79.000000</td>\n",
       "      <td>78.000000</td>\n",
       "    </tr>\n",
       "    <tr>\n",
       "      <th>max</th>\n",
       "      <td>100.00000</td>\n",
       "      <td>100.000000</td>\n",
       "      <td>100.000000</td>\n",
       "      <td>100.000000</td>\n",
       "    </tr>\n",
       "  </tbody>\n",
       "</table>\n",
       "</div>"
      ],
      "text/plain": [
       "       math score  reading score  writing score   mean_score\n",
       "count  1000.00000    1000.000000    1000.000000  1000.000000\n",
       "mean     66.08900      69.169000      68.054000    67.762000\n",
       "std      15.16308      14.600192      15.195657    14.258354\n",
       "min       0.00000      17.000000      10.000000     9.000000\n",
       "25%      57.00000      59.000000      57.750000    58.000000\n",
       "50%      66.00000      70.000000      69.000000    68.000000\n",
       "75%      77.00000      79.000000      79.000000    78.000000\n",
       "max     100.00000     100.000000     100.000000   100.000000"
      ]
     },
     "execution_count": 18,
     "metadata": {},
     "output_type": "execute_result"
    }
   ],
   "source": [
    "df.describe()"
   ]
  },
  {
   "cell_type": "code",
   "execution_count": 49,
   "id": "40396e01",
   "metadata": {},
   "outputs": [
    {
     "data": {
      "text/plain": [
       "parental level of education\n",
       "some high school      65.072626\n",
       "high school           63.122449\n",
       "some college          68.446903\n",
       "associate's degree    69.558559\n",
       "bachelor's degree     71.949153\n",
       "master's degree       73.576271\n",
       "Name: mean_score, dtype: float64"
      ]
     },
     "execution_count": 49,
     "metadata": {},
     "output_type": "execute_result"
    }
   ],
   "source": [
    "level_parental = [\"some high school\",\"high school\", \"some college\",\"associate's degree\",\"bachelor's degree\",\"master's degree\"]\n",
    "df['parental level of education'] = pd.Categorical(df['parental level of education'], categories=level_parental)\n",
    "mean_level_parental = df.groupby('parental level of education')['mean_score'].mean()  #median (outlier)\n",
    "mean_level_parental"
   ]
  },
  {
   "cell_type": "code",
   "execution_count": 20,
   "id": "50b129d8",
   "metadata": {},
   "outputs": [],
   "source": [
    "group1 = df[df['parental level of education'] == 'some high school']['mean_score']\n",
    "group2 = df[df['parental level of education'] == 'high school']['mean_score']\n",
    "group3 = df[df['parental level of education'] == 'some college']['mean_score']\n",
    "group4 = df[df['parental level of education'] == \"associate's degree\"]['mean_score']\n",
    "group5 = df[df['parental level of education'] == \"bachelor's degree\"]['mean_score']\n",
    "group6 = df[df['parental level of education'] == \"master's degree\"]['mean_score']"
   ]
  },
  {
   "cell_type": "code",
   "execution_count": 21,
   "id": "0a86ec31",
   "metadata": {},
   "outputs": [
    {
     "name": "stdout",
     "output_type": "stream",
     "text": [
      "10.728858698160955\n",
      "4.626503161422164e-10\n"
     ]
    }
   ],
   "source": [
    "#tinh ANOVA \n",
    "from scipy.stats import f_oneway\n",
    "stat1, pvalue1 = f_oneway(group1, group2, group3, group4,group5,group6)\n",
    "print(stat1)\n",
    "print(pvalue1) # p< 0.05 --> su khac biet co y nghia thong ke --> reject H0"
   ]
  },
  {
   "cell_type": "code",
   "execution_count": 22,
   "id": "301bfe93",
   "metadata": {},
   "outputs": [
    {
     "data": {
      "text/html": [
       "<div>\n",
       "<style scoped>\n",
       "    .dataframe tbody tr th:only-of-type {\n",
       "        vertical-align: middle;\n",
       "    }\n",
       "\n",
       "    .dataframe tbody tr th {\n",
       "        vertical-align: top;\n",
       "    }\n",
       "\n",
       "    .dataframe thead th {\n",
       "        text-align: right;\n",
       "    }\n",
       "</style>\n",
       "<table border=\"1\" class=\"dataframe\">\n",
       "  <thead>\n",
       "    <tr style=\"text-align: right;\">\n",
       "      <th></th>\n",
       "      <th>parental_code</th>\n",
       "      <th>mean_score</th>\n",
       "    </tr>\n",
       "  </thead>\n",
       "  <tbody>\n",
       "    <tr>\n",
       "      <th>488</th>\n",
       "      <td>0</td>\n",
       "      <td>58.0</td>\n",
       "    </tr>\n",
       "    <tr>\n",
       "      <th>828</th>\n",
       "      <td>0</td>\n",
       "      <td>79.0</td>\n",
       "    </tr>\n",
       "    <tr>\n",
       "      <th>150</th>\n",
       "      <td>0</td>\n",
       "      <td>66.0</td>\n",
       "    </tr>\n",
       "    <tr>\n",
       "      <th>827</th>\n",
       "      <td>0</td>\n",
       "      <td>70.0</td>\n",
       "    </tr>\n",
       "    <tr>\n",
       "      <th>824</th>\n",
       "      <td>0</td>\n",
       "      <td>53.0</td>\n",
       "    </tr>\n",
       "  </tbody>\n",
       "</table>\n",
       "</div>"
      ],
      "text/plain": [
       "    parental_code  mean_score\n",
       "488             0        58.0\n",
       "828             0        79.0\n",
       "150             0        66.0\n",
       "827             0        70.0\n",
       "824             0        53.0"
      ]
     },
     "execution_count": 22,
     "metadata": {},
     "output_type": "execute_result"
    }
   ],
   "source": [
    "# tinh linearity\n",
    "df['parental_code'] = df['parental level of education'].map({'some high school': 0, 'high school':1,\n",
    "                                                             'some college':2,\"associate's degree\":3,\n",
    "                                                             \"bachelor's degree\": 4,\"master's degree\": 5})\n",
    "linearity_df = df.loc[:,[\"parental_code\",\"mean_score\"]]\n",
    "linearity_df = linearity_df.sort_values(\"parental_code\")\n",
    "linearity_df.head()"
   ]
  },
  {
   "cell_type": "code",
   "execution_count": 23,
   "id": "70bd1012",
   "metadata": {},
   "outputs": [
    {
     "data": {
      "text/plain": [
       "(0.20615612636563377, 4.6446839443603317e-11)"
      ]
     },
     "execution_count": 23,
     "metadata": {},
     "output_type": "execute_result"
    }
   ],
   "source": [
    "from scipy.stats import pearsonr\n",
    "corr1 = pearsonr(linearity_df['parental_code'], linearity_df['mean_score'])\n",
    "corr1  # weak positive linear relationship , pvalue < 0.05 --> reject H0"
   ]
  },
  {
   "cell_type": "code",
   "execution_count": 24,
   "id": "7cbd07e1",
   "metadata": {},
   "outputs": [],
   "source": [
    "#graph ? "
   ]
  },
  {
   "cell_type": "markdown",
   "id": "2d1b2241",
   "metadata": {},
   "source": [
    "# Task 5: Chất lượng bữa ăn (lunch) có tương phản với điểm số trung bình 3 môn của học sinh không"
   ]
  },
  {
   "cell_type": "code",
   "execution_count": 25,
   "id": "604d9700",
   "metadata": {},
   "outputs": [
    {
     "data": {
      "text/plain": [
       "lunch\n",
       "standard        645\n",
       "free/reduced    355\n",
       "dtype: int64"
      ]
     },
     "execution_count": 25,
     "metadata": {},
     "output_type": "execute_result"
    }
   ],
   "source": [
    "lunch = df.loc[:,[\"lunch\",\"mean_score\"]]\n",
    "lunch.value_counts(\"lunch\")"
   ]
  },
  {
   "cell_type": "code",
   "execution_count": 26,
   "id": "9a3bbfe2",
   "metadata": {},
   "outputs": [
    {
     "data": {
      "text/plain": [
       "lunch\n",
       "free/reduced    62.191549\n",
       "standard        70.827907\n",
       "Name: mean_score, dtype: float64"
      ]
     },
     "execution_count": 26,
     "metadata": {},
     "output_type": "execute_result"
    }
   ],
   "source": [
    "level_lunch = [\"free/reduced\",\"standard\"]\n",
    "lunch['lunch'] = pd.Categorical(lunch['lunch'], categories=level_lunch, ordered=True)\n",
    "mean_level_lunch = df.groupby('lunch')['mean_score'].mean()  #median (outlier)\n",
    "mean_level_lunch"
   ]
  },
  {
   "cell_type": "code",
   "execution_count": 27,
   "id": "755b2475",
   "metadata": {},
   "outputs": [
    {
     "name": "stdout",
     "output_type": "stream",
     "text": [
      "91.62686827176763\n",
      "7.939649697371116e-21\n"
     ]
    }
   ],
   "source": [
    "#tinh ANOVA\n",
    "group_free = df[df['lunch'] == 'free/reduced']['mean_score']\n",
    "group_stan = df[df['lunch'] == 'standard']['mean_score']\n",
    "stat2, pvalue2 = f_oneway(group_free, group_stan)\n",
    "print(stat2)\n",
    "print(pvalue2) #su khac biet co y nghia thong ke"
   ]
  },
  {
   "cell_type": "code",
   "execution_count": 28,
   "id": "707d8980",
   "metadata": {},
   "outputs": [
    {
     "data": {
      "text/html": [
       "<div>\n",
       "<style scoped>\n",
       "    .dataframe tbody tr th:only-of-type {\n",
       "        vertical-align: middle;\n",
       "    }\n",
       "\n",
       "    .dataframe tbody tr th {\n",
       "        vertical-align: top;\n",
       "    }\n",
       "\n",
       "    .dataframe thead th {\n",
       "        text-align: right;\n",
       "    }\n",
       "</style>\n",
       "<table border=\"1\" class=\"dataframe\">\n",
       "  <thead>\n",
       "    <tr style=\"text-align: right;\">\n",
       "      <th></th>\n",
       "      <th>lunch</th>\n",
       "      <th>mean_score</th>\n",
       "      <th>lunch_code</th>\n",
       "    </tr>\n",
       "  </thead>\n",
       "  <tbody>\n",
       "    <tr>\n",
       "      <th>999</th>\n",
       "      <td>free/reduced</td>\n",
       "      <td>83.0</td>\n",
       "      <td>0</td>\n",
       "    </tr>\n",
       "    <tr>\n",
       "      <th>363</th>\n",
       "      <td>free/reduced</td>\n",
       "      <td>31.0</td>\n",
       "      <td>0</td>\n",
       "    </tr>\n",
       "    <tr>\n",
       "      <th>757</th>\n",
       "      <td>free/reduced</td>\n",
       "      <td>70.0</td>\n",
       "      <td>0</td>\n",
       "    </tr>\n",
       "    <tr>\n",
       "      <th>758</th>\n",
       "      <td>free/reduced</td>\n",
       "      <td>59.0</td>\n",
       "      <td>0</td>\n",
       "    </tr>\n",
       "    <tr>\n",
       "      <th>760</th>\n",
       "      <td>free/reduced</td>\n",
       "      <td>63.0</td>\n",
       "      <td>0</td>\n",
       "    </tr>\n",
       "  </tbody>\n",
       "</table>\n",
       "</div>"
      ],
      "text/plain": [
       "            lunch  mean_score lunch_code\n",
       "999  free/reduced        83.0          0\n",
       "363  free/reduced        31.0          0\n",
       "757  free/reduced        70.0          0\n",
       "758  free/reduced        59.0          0\n",
       "760  free/reduced        63.0          0"
      ]
     },
     "execution_count": 28,
     "metadata": {},
     "output_type": "execute_result"
    }
   ],
   "source": [
    "lunch['lunch_code'] = lunch['lunch'].map({'free/reduced': 0, 'standard': 1})\n",
    "lunch_linearity_df = lunch.sort_values(\"lunch_code\")\n",
    "lunch_linearity_df.head()"
   ]
  },
  {
   "cell_type": "code",
   "execution_count": 29,
   "id": "9e231084",
   "metadata": {},
   "outputs": [
    {
     "data": {
      "text/plain": [
       "(0.28998298742952344, 7.939649697366305e-21)"
      ]
     },
     "execution_count": 29,
     "metadata": {},
     "output_type": "execute_result"
    }
   ],
   "source": [
    "corr2 = pearsonr(lunch_linearity_df['lunch_code'], lunch_linearity_df['mean_score'])\n",
    "corr2"
   ]
  },
  {
   "cell_type": "code",
   "execution_count": 30,
   "id": "c8ca1bfd",
   "metadata": {},
   "outputs": [],
   "source": [
    "#H0 : there is no correlation between the two variables\n",
    "#graph ? "
   ]
  },
  {
   "cell_type": "markdown",
   "id": "fc86986e",
   "metadata": {},
   "source": [
    "# Task 6: Tìm ra Top 10 học sinh có điểm toán cao nhất của mỗi group"
   ]
  },
  {
   "cell_type": "code",
   "execution_count": 31,
   "id": "7f826d9a",
   "metadata": {},
   "outputs": [
    {
     "data": {
      "text/plain": [
       "race/ethnicity     \n",
       "group A         623    100\n",
       "                539     97\n",
       "                546     92\n",
       "                571     91\n",
       "                702     87\n",
       "                820     85\n",
       "                614     82\n",
       "                300     81\n",
       "                77      80\n",
       "                444     79\n",
       "Name: math score, dtype: int64"
      ]
     },
     "execution_count": 31,
     "metadata": {},
     "output_type": "execute_result"
    }
   ],
   "source": [
    "top_10_math = df.groupby(\"race/ethnicity\")[\"math score\"].nlargest(10)\n",
    "top_10_math[[\"group A\"]]"
   ]
  },
  {
   "cell_type": "code",
   "execution_count": 32,
   "id": "65166404",
   "metadata": {},
   "outputs": [
    {
     "data": {
      "text/plain": [
       "race/ethnicity     \n",
       "group B         855    97\n",
       "                501    94\n",
       "                815    94\n",
       "                121    91\n",
       "                919    91\n",
       "                2      90\n",
       "                333    90\n",
       "                474    90\n",
       "                6      88\n",
       "                146    88\n",
       "Name: math score, dtype: int64"
      ]
     },
     "execution_count": 32,
     "metadata": {},
     "output_type": "execute_result"
    }
   ],
   "source": [
    "top_10_math[[\"group B\"]]"
   ]
  },
  {
   "cell_type": "code",
   "execution_count": 33,
   "id": "61cffe3a",
   "metadata": {},
   "outputs": [
    {
     "data": {
      "text/plain": [
       "race/ethnicity     \n",
       "group C         104    98\n",
       "                934    98\n",
       "                864    97\n",
       "                165    96\n",
       "                562    96\n",
       "                717    96\n",
       "                612    94\n",
       "                710    93\n",
       "                594    92\n",
       "                736    92\n",
       "Name: math score, dtype: int64"
      ]
     },
     "execution_count": 33,
     "metadata": {},
     "output_type": "execute_result"
    }
   ],
   "source": [
    "top_10_math[[\"group C\"]]"
   ]
  },
  {
   "cell_type": "code",
   "execution_count": 34,
   "id": "d02fcc79",
   "metadata": {},
   "outputs": [
    {
     "data": {
      "text/plain": [
       "race/ethnicity     \n",
       "group D         625    100\n",
       "                712     98\n",
       "                179     97\n",
       "                618     95\n",
       "                903     93\n",
       "                957     92\n",
       "                299     90\n",
       "                659     90\n",
       "                130     89\n",
       "                439     89\n",
       "Name: math score, dtype: int64"
      ]
     },
     "execution_count": 34,
     "metadata": {},
     "output_type": "execute_result"
    }
   ],
   "source": [
    "top_10_math[[\"group D\"]]"
   ]
  },
  {
   "cell_type": "code",
   "execution_count": 35,
   "id": "7e226393",
   "metadata": {},
   "outputs": [
    {
     "data": {
      "text/plain": [
       "race/ethnicity     \n",
       "group E         149    100\n",
       "                451    100\n",
       "                458    100\n",
       "                916    100\n",
       "                962    100\n",
       "                114     99\n",
       "                263     99\n",
       "                306     99\n",
       "                34      97\n",
       "                286     97\n",
       "Name: math score, dtype: int64"
      ]
     },
     "execution_count": 35,
     "metadata": {},
     "output_type": "execute_result"
    }
   ],
   "source": [
    "top_10_math[[\"group E\"]]"
   ]
  },
  {
   "cell_type": "markdown",
   "id": "91ff3f74",
   "metadata": {},
   "source": [
    "# Task 7: Với những học sinh ở cùng 1 group, cùng parental level of education, cùng loại bữa ăn (lunch), việc tham gia test preparation course có giúp học sinh đó có điểm trung bình 3 môn cao hơn những học sinh không tham gia ko"
   ]
  },
  {
   "cell_type": "code",
   "execution_count": 36,
   "id": "83789f0c",
   "metadata": {},
   "outputs": [
    {
     "data": {
      "text/html": [
       "<div>\n",
       "<style scoped>\n",
       "    .dataframe tbody tr th:only-of-type {\n",
       "        vertical-align: middle;\n",
       "    }\n",
       "\n",
       "    .dataframe tbody tr th {\n",
       "        vertical-align: top;\n",
       "    }\n",
       "\n",
       "    .dataframe thead th {\n",
       "        text-align: right;\n",
       "    }\n",
       "</style>\n",
       "<table border=\"1\" class=\"dataframe\">\n",
       "  <thead>\n",
       "    <tr style=\"text-align: right;\">\n",
       "      <th></th>\n",
       "      <th>parental level of education</th>\n",
       "      <th>lunch</th>\n",
       "      <th>test preparation course</th>\n",
       "      <th>mean_score</th>\n",
       "    </tr>\n",
       "  </thead>\n",
       "  <tbody>\n",
       "    <tr>\n",
       "      <th>3</th>\n",
       "      <td>associate's degree</td>\n",
       "      <td>free/reduced</td>\n",
       "      <td>none</td>\n",
       "      <td>49.0</td>\n",
       "    </tr>\n",
       "    <tr>\n",
       "      <th>13</th>\n",
       "      <td>some college</td>\n",
       "      <td>standard</td>\n",
       "      <td>completed</td>\n",
       "      <td>73.0</td>\n",
       "    </tr>\n",
       "    <tr>\n",
       "      <th>14</th>\n",
       "      <td>master's degree</td>\n",
       "      <td>standard</td>\n",
       "      <td>none</td>\n",
       "      <td>54.0</td>\n",
       "    </tr>\n",
       "    <tr>\n",
       "      <th>25</th>\n",
       "      <td>master's degree</td>\n",
       "      <td>free/reduced</td>\n",
       "      <td>none</td>\n",
       "      <td>73.0</td>\n",
       "    </tr>\n",
       "    <tr>\n",
       "      <th>46</th>\n",
       "      <td>associate's degree</td>\n",
       "      <td>standard</td>\n",
       "      <td>completed</td>\n",
       "      <td>61.0</td>\n",
       "    </tr>\n",
       "  </tbody>\n",
       "</table>\n",
       "</div>"
      ],
      "text/plain": [
       "   parental level of education         lunch test preparation course  \\\n",
       "3           associate's degree  free/reduced                    none   \n",
       "13                some college      standard               completed   \n",
       "14             master's degree      standard                    none   \n",
       "25             master's degree  free/reduced                    none   \n",
       "46          associate's degree      standard               completed   \n",
       "\n",
       "    mean_score  \n",
       "3         49.0  \n",
       "13        73.0  \n",
       "14        54.0  \n",
       "25        73.0  \n",
       "46        61.0  "
      ]
     },
     "execution_count": 36,
     "metadata": {},
     "output_type": "execute_result"
    }
   ],
   "source": [
    "groupA = df[df[\"race/ethnicity\"]==\"group A\"][[\"parental level of education\",\"lunch\",\"test preparation course\",\"mean_score\"]]\n",
    "groupA.head()"
   ]
  },
  {
   "cell_type": "code",
   "execution_count": 37,
   "id": "4a68da9c",
   "metadata": {},
   "outputs": [
    {
     "data": {
      "text/plain": [
       "parental level of education  lunch         test preparation course\n",
       "some high school             free/reduced  completed                  61.000000\n",
       "                                           none                       55.000000\n",
       "                             standard      completed                  69.000000\n",
       "                                           none                       56.833333\n",
       "high school                  free/reduced  completed                  61.500000\n",
       "                                           none                       48.000000\n",
       "                             standard      completed                  75.666667\n",
       "                                           none                       60.875000\n",
       "some college                 free/reduced  completed                  65.000000\n",
       "                                           none                       54.600000\n",
       "                             standard      completed                  77.000000\n",
       "                                           none                       62.833333\n",
       "associate's degree           free/reduced  completed                  65.000000\n",
       "                                           none                       56.000000\n",
       "                             standard      completed                  74.333333\n",
       "                                           none                       65.250000\n",
       "bachelor's degree            free/reduced  completed                  56.000000\n",
       "                                           none                       66.000000\n",
       "                             standard      completed                  77.000000\n",
       "                                           none                       66.000000\n",
       "master's degree              free/reduced  completed                        NaN\n",
       "                                           none                       68.000000\n",
       "                             standard      completed                        NaN\n",
       "                                           none                       54.000000\n",
       "Name: mean_score, dtype: float64"
      ]
     },
     "execution_count": 37,
     "metadata": {},
     "output_type": "execute_result"
    }
   ],
   "source": [
    "groupA.groupby([\"parental level of education\",\"lunch\",\"test preparation course\"])[\"mean_score\"].mean()"
   ]
  },
  {
   "cell_type": "code",
   "execution_count": 38,
   "id": "4cd917b5",
   "metadata": {},
   "outputs": [
    {
     "data": {
      "text/plain": [
       "parental level of education  lunch         test preparation course\n",
       "some high school             free/reduced  completed                   1\n",
       "                                           none                       10\n",
       "                             standard      completed                   7\n",
       "                                           none                        6\n",
       "high school                  free/reduced  completed                   4\n",
       "                                           none                        3\n",
       "                             standard      completed                   3\n",
       "                                           none                        8\n",
       "some college                 free/reduced  completed                   2\n",
       "                                           none                        5\n",
       "                             standard      completed                   5\n",
       "                                           none                        6\n",
       "associate's degree           free/reduced  completed                   2\n",
       "                                           none                        5\n",
       "                             standard      completed                   3\n",
       "                                           none                        4\n",
       "bachelor's degree            free/reduced  completed                   1\n",
       "                                           none                        1\n",
       "                             standard      completed                   3\n",
       "                                           none                        7\n",
       "master's degree              free/reduced  completed                   0\n",
       "                                           none                        2\n",
       "                             standard      completed                   0\n",
       "                                           none                        1\n",
       "Name: mean_score, dtype: int64"
      ]
     },
     "execution_count": 38,
     "metadata": {},
     "output_type": "execute_result"
    }
   ],
   "source": [
    "groupA.groupby([\"parental level of education\",\"lunch\",\"test preparation course\"])[\"mean_score\"].count()"
   ]
  },
  {
   "cell_type": "code",
   "execution_count": 39,
   "id": "296924ef",
   "metadata": {},
   "outputs": [
    {
     "data": {
      "text/html": [
       "<div>\n",
       "<style scoped>\n",
       "    .dataframe tbody tr th:only-of-type {\n",
       "        vertical-align: middle;\n",
       "    }\n",
       "\n",
       "    .dataframe tbody tr th {\n",
       "        vertical-align: top;\n",
       "    }\n",
       "\n",
       "    .dataframe thead th {\n",
       "        text-align: right;\n",
       "    }\n",
       "</style>\n",
       "<table border=\"1\" class=\"dataframe\">\n",
       "  <thead>\n",
       "    <tr style=\"text-align: right;\">\n",
       "      <th></th>\n",
       "      <th>parental level of education</th>\n",
       "      <th>lunch</th>\n",
       "      <th>test preparation course</th>\n",
       "      <th>mean_score</th>\n",
       "    </tr>\n",
       "  </thead>\n",
       "  <tbody>\n",
       "    <tr>\n",
       "      <th>0</th>\n",
       "      <td>bachelor's degree</td>\n",
       "      <td>standard</td>\n",
       "      <td>none</td>\n",
       "      <td>73.0</td>\n",
       "    </tr>\n",
       "    <tr>\n",
       "      <th>2</th>\n",
       "      <td>master's degree</td>\n",
       "      <td>standard</td>\n",
       "      <td>none</td>\n",
       "      <td>93.0</td>\n",
       "    </tr>\n",
       "    <tr>\n",
       "      <th>5</th>\n",
       "      <td>associate's degree</td>\n",
       "      <td>standard</td>\n",
       "      <td>none</td>\n",
       "      <td>77.0</td>\n",
       "    </tr>\n",
       "    <tr>\n",
       "      <th>6</th>\n",
       "      <td>some college</td>\n",
       "      <td>standard</td>\n",
       "      <td>completed</td>\n",
       "      <td>92.0</td>\n",
       "    </tr>\n",
       "    <tr>\n",
       "      <th>7</th>\n",
       "      <td>some college</td>\n",
       "      <td>free/reduced</td>\n",
       "      <td>none</td>\n",
       "      <td>41.0</td>\n",
       "    </tr>\n",
       "  </tbody>\n",
       "</table>\n",
       "</div>"
      ],
      "text/plain": [
       "  parental level of education         lunch test preparation course  \\\n",
       "0           bachelor's degree      standard                    none   \n",
       "2             master's degree      standard                    none   \n",
       "5          associate's degree      standard                    none   \n",
       "6                some college      standard               completed   \n",
       "7                some college  free/reduced                    none   \n",
       "\n",
       "   mean_score  \n",
       "0        73.0  \n",
       "2        93.0  \n",
       "5        77.0  \n",
       "6        92.0  \n",
       "7        41.0  "
      ]
     },
     "execution_count": 39,
     "metadata": {},
     "output_type": "execute_result"
    }
   ],
   "source": [
    "groupB = df[df[\"race/ethnicity\"]==\"group B\"][[\"parental level of education\",\"lunch\",\"test preparation course\",\"mean_score\"]]\n",
    "groupB.head()"
   ]
  },
  {
   "cell_type": "code",
   "execution_count": 40,
   "id": "de6f09a9",
   "metadata": {},
   "outputs": [
    {
     "data": {
      "text/plain": [
       "parental level of education  lunch         test preparation course\n",
       "some high school             free/reduced  completed                  66.600000\n",
       "                                           none                       47.000000\n",
       "                             standard      completed                  67.214286\n",
       "                                           none                       66.642857\n",
       "high school                  free/reduced  completed                  63.800000\n",
       "                                           none                       51.545455\n",
       "                             standard      completed                  67.100000\n",
       "                                           none                       63.409091\n",
       "some college                 free/reduced  completed                  64.666667\n",
       "                                           none                       56.600000\n",
       "                             standard      completed                  78.125000\n",
       "                                           none                       61.846154\n",
       "associate's degree           free/reduced  completed                  72.400000\n",
       "                                           none                       58.666667\n",
       "                             standard      completed                  78.444444\n",
       "                                           none                       66.166667\n",
       "bachelor's degree            free/reduced  completed                  88.000000\n",
       "                                           none                       68.500000\n",
       "                             standard      completed                  75.000000\n",
       "                                           none                       71.444444\n",
       "master's degree              free/reduced  completed                  73.666667\n",
       "                                           none                       51.000000\n",
       "                             standard      completed                        NaN\n",
       "                                           none                       88.500000\n",
       "Name: mean_score, dtype: float64"
      ]
     },
     "execution_count": 40,
     "metadata": {},
     "output_type": "execute_result"
    }
   ],
   "source": [
    "groupB.groupby([\"parental level of education\",\"lunch\",\"test preparation course\"])[\"mean_score\"].mean()"
   ]
  },
  {
   "cell_type": "code",
   "execution_count": 41,
   "id": "cd763412",
   "metadata": {},
   "outputs": [
    {
     "data": {
      "text/html": [
       "<div>\n",
       "<style scoped>\n",
       "    .dataframe tbody tr th:only-of-type {\n",
       "        vertical-align: middle;\n",
       "    }\n",
       "\n",
       "    .dataframe tbody tr th {\n",
       "        vertical-align: top;\n",
       "    }\n",
       "\n",
       "    .dataframe thead th {\n",
       "        text-align: right;\n",
       "    }\n",
       "</style>\n",
       "<table border=\"1\" class=\"dataframe\">\n",
       "  <thead>\n",
       "    <tr style=\"text-align: right;\">\n",
       "      <th></th>\n",
       "      <th>parental level of education</th>\n",
       "      <th>lunch</th>\n",
       "      <th>test preparation course</th>\n",
       "      <th>mean_score</th>\n",
       "    </tr>\n",
       "  </thead>\n",
       "  <tbody>\n",
       "    <tr>\n",
       "      <th>1</th>\n",
       "      <td>some college</td>\n",
       "      <td>standard</td>\n",
       "      <td>completed</td>\n",
       "      <td>82.0</td>\n",
       "    </tr>\n",
       "    <tr>\n",
       "      <th>4</th>\n",
       "      <td>some college</td>\n",
       "      <td>standard</td>\n",
       "      <td>none</td>\n",
       "      <td>76.0</td>\n",
       "    </tr>\n",
       "    <tr>\n",
       "      <th>10</th>\n",
       "      <td>associate's degree</td>\n",
       "      <td>standard</td>\n",
       "      <td>none</td>\n",
       "      <td>55.0</td>\n",
       "    </tr>\n",
       "    <tr>\n",
       "      <th>15</th>\n",
       "      <td>some high school</td>\n",
       "      <td>standard</td>\n",
       "      <td>none</td>\n",
       "      <td>74.0</td>\n",
       "    </tr>\n",
       "    <tr>\n",
       "      <th>16</th>\n",
       "      <td>high school</td>\n",
       "      <td>standard</td>\n",
       "      <td>none</td>\n",
       "      <td>88.0</td>\n",
       "    </tr>\n",
       "  </tbody>\n",
       "</table>\n",
       "</div>"
      ],
      "text/plain": [
       "   parental level of education     lunch test preparation course  mean_score\n",
       "1                 some college  standard               completed        82.0\n",
       "4                 some college  standard                    none        76.0\n",
       "10          associate's degree  standard                    none        55.0\n",
       "15            some high school  standard                    none        74.0\n",
       "16                 high school  standard                    none        88.0"
      ]
     },
     "execution_count": 41,
     "metadata": {},
     "output_type": "execute_result"
    }
   ],
   "source": [
    "groupC = df[df[\"race/ethnicity\"]==\"group C\"][[\"parental level of education\",\"lunch\",\"test preparation course\",\"mean_score\"]]\n",
    "groupC.head()"
   ]
  },
  {
   "cell_type": "code",
   "execution_count": 42,
   "id": "51afcf87",
   "metadata": {},
   "outputs": [
    {
     "data": {
      "text/plain": [
       "parental level of education  lunch         test preparation course\n",
       "some high school             free/reduced  completed                  58.900000\n",
       "                                           none                       55.545455\n",
       "                             standard      completed                  72.166667\n",
       "                                           none                       64.250000\n",
       "high school                  free/reduced  completed                  58.833333\n",
       "                                           none                       52.764706\n",
       "                             standard      completed                  67.333333\n",
       "                                           none                       66.656250\n",
       "some college                 free/reduced  completed                  65.714286\n",
       "                                           none                       58.812500\n",
       "                             standard      completed                  81.928571\n",
       "                                           none                       66.531250\n",
       "associate's degree           free/reduced  completed                  67.375000\n",
       "                                           none                       64.214286\n",
       "                             standard      completed                  75.681818\n",
       "                                           none                       67.941176\n",
       "bachelor's degree            free/reduced  completed                  68.714286\n",
       "                                           none                       59.500000\n",
       "                             standard      completed                  81.076923\n",
       "                                           none                       76.416667\n",
       "master's degree              free/reduced  completed                  67.200000\n",
       "                                           none                       61.200000\n",
       "                             standard      completed                  78.500000\n",
       "                                           none                       71.000000\n",
       "Name: mean_score, dtype: float64"
      ]
     },
     "execution_count": 42,
     "metadata": {},
     "output_type": "execute_result"
    }
   ],
   "source": [
    "groupC.groupby([\"parental level of education\",\"lunch\",\"test preparation course\"])[\"mean_score\"].mean()"
   ]
  },
  {
   "cell_type": "code",
   "execution_count": 43,
   "id": "c04f5fc8",
   "metadata": {},
   "outputs": [
    {
     "data": {
      "text/html": [
       "<div>\n",
       "<style scoped>\n",
       "    .dataframe tbody tr th:only-of-type {\n",
       "        vertical-align: middle;\n",
       "    }\n",
       "\n",
       "    .dataframe tbody tr th {\n",
       "        vertical-align: top;\n",
       "    }\n",
       "\n",
       "    .dataframe thead th {\n",
       "        text-align: right;\n",
       "    }\n",
       "</style>\n",
       "<table border=\"1\" class=\"dataframe\">\n",
       "  <thead>\n",
       "    <tr style=\"text-align: right;\">\n",
       "      <th></th>\n",
       "      <th>parental level of education</th>\n",
       "      <th>lunch</th>\n",
       "      <th>test preparation course</th>\n",
       "      <th>mean_score</th>\n",
       "    </tr>\n",
       "  </thead>\n",
       "  <tbody>\n",
       "    <tr>\n",
       "      <th>1</th>\n",
       "      <td>some college</td>\n",
       "      <td>standard</td>\n",
       "      <td>completed</td>\n",
       "      <td>82.0</td>\n",
       "    </tr>\n",
       "    <tr>\n",
       "      <th>4</th>\n",
       "      <td>some college</td>\n",
       "      <td>standard</td>\n",
       "      <td>none</td>\n",
       "      <td>76.0</td>\n",
       "    </tr>\n",
       "    <tr>\n",
       "      <th>10</th>\n",
       "      <td>associate's degree</td>\n",
       "      <td>standard</td>\n",
       "      <td>none</td>\n",
       "      <td>55.0</td>\n",
       "    </tr>\n",
       "    <tr>\n",
       "      <th>15</th>\n",
       "      <td>some high school</td>\n",
       "      <td>standard</td>\n",
       "      <td>none</td>\n",
       "      <td>74.0</td>\n",
       "    </tr>\n",
       "    <tr>\n",
       "      <th>16</th>\n",
       "      <td>high school</td>\n",
       "      <td>standard</td>\n",
       "      <td>none</td>\n",
       "      <td>88.0</td>\n",
       "    </tr>\n",
       "  </tbody>\n",
       "</table>\n",
       "</div>"
      ],
      "text/plain": [
       "   parental level of education     lunch test preparation course  mean_score\n",
       "1                 some college  standard               completed        82.0\n",
       "4                 some college  standard                    none        76.0\n",
       "10          associate's degree  standard                    none        55.0\n",
       "15            some high school  standard                    none        74.0\n",
       "16                 high school  standard                    none        88.0"
      ]
     },
     "execution_count": 43,
     "metadata": {},
     "output_type": "execute_result"
    }
   ],
   "source": [
    "groupD = df[df[\"race/ethnicity\"]==\"group C\"][[\"parental level of education\",\"lunch\",\"test preparation course\",\"mean_score\"]]\n",
    "groupD.head()"
   ]
  },
  {
   "cell_type": "code",
   "execution_count": 44,
   "id": "5204e524",
   "metadata": {},
   "outputs": [
    {
     "data": {
      "text/plain": [
       "parental level of education  lunch         test preparation course\n",
       "some high school             free/reduced  completed                  58.900000\n",
       "                                           none                       55.545455\n",
       "                             standard      completed                  72.166667\n",
       "                                           none                       64.250000\n",
       "high school                  free/reduced  completed                  58.833333\n",
       "                                           none                       52.764706\n",
       "                             standard      completed                  67.333333\n",
       "                                           none                       66.656250\n",
       "some college                 free/reduced  completed                  65.714286\n",
       "                                           none                       58.812500\n",
       "                             standard      completed                  81.928571\n",
       "                                           none                       66.531250\n",
       "associate's degree           free/reduced  completed                  67.375000\n",
       "                                           none                       64.214286\n",
       "                             standard      completed                  75.681818\n",
       "                                           none                       67.941176\n",
       "bachelor's degree            free/reduced  completed                  68.714286\n",
       "                                           none                       59.500000\n",
       "                             standard      completed                  81.076923\n",
       "                                           none                       76.416667\n",
       "master's degree              free/reduced  completed                  67.200000\n",
       "                                           none                       61.200000\n",
       "                             standard      completed                  78.500000\n",
       "                                           none                       71.000000\n",
       "Name: mean_score, dtype: float64"
      ]
     },
     "execution_count": 44,
     "metadata": {},
     "output_type": "execute_result"
    }
   ],
   "source": [
    "groupD.groupby([\"parental level of education\",\"lunch\",\"test preparation course\"])[\"mean_score\"].mean()"
   ]
  },
  {
   "cell_type": "code",
   "execution_count": 45,
   "id": "7d43d4c0",
   "metadata": {},
   "outputs": [
    {
     "data": {
      "text/html": [
       "<div>\n",
       "<style scoped>\n",
       "    .dataframe tbody tr th:only-of-type {\n",
       "        vertical-align: middle;\n",
       "    }\n",
       "\n",
       "    .dataframe tbody tr th {\n",
       "        vertical-align: top;\n",
       "    }\n",
       "\n",
       "    .dataframe thead th {\n",
       "        text-align: right;\n",
       "    }\n",
       "</style>\n",
       "<table border=\"1\" class=\"dataframe\">\n",
       "  <thead>\n",
       "    <tr style=\"text-align: right;\">\n",
       "      <th></th>\n",
       "      <th>parental level of education</th>\n",
       "      <th>lunch</th>\n",
       "      <th>test preparation course</th>\n",
       "      <th>mean_score</th>\n",
       "    </tr>\n",
       "  </thead>\n",
       "  <tbody>\n",
       "    <tr>\n",
       "      <th>1</th>\n",
       "      <td>some college</td>\n",
       "      <td>standard</td>\n",
       "      <td>completed</td>\n",
       "      <td>82.0</td>\n",
       "    </tr>\n",
       "    <tr>\n",
       "      <th>4</th>\n",
       "      <td>some college</td>\n",
       "      <td>standard</td>\n",
       "      <td>none</td>\n",
       "      <td>76.0</td>\n",
       "    </tr>\n",
       "    <tr>\n",
       "      <th>10</th>\n",
       "      <td>associate's degree</td>\n",
       "      <td>standard</td>\n",
       "      <td>none</td>\n",
       "      <td>55.0</td>\n",
       "    </tr>\n",
       "    <tr>\n",
       "      <th>15</th>\n",
       "      <td>some high school</td>\n",
       "      <td>standard</td>\n",
       "      <td>none</td>\n",
       "      <td>74.0</td>\n",
       "    </tr>\n",
       "    <tr>\n",
       "      <th>16</th>\n",
       "      <td>high school</td>\n",
       "      <td>standard</td>\n",
       "      <td>none</td>\n",
       "      <td>88.0</td>\n",
       "    </tr>\n",
       "  </tbody>\n",
       "</table>\n",
       "</div>"
      ],
      "text/plain": [
       "   parental level of education     lunch test preparation course  mean_score\n",
       "1                 some college  standard               completed        82.0\n",
       "4                 some college  standard                    none        76.0\n",
       "10          associate's degree  standard                    none        55.0\n",
       "15            some high school  standard                    none        74.0\n",
       "16                 high school  standard                    none        88.0"
      ]
     },
     "execution_count": 45,
     "metadata": {},
     "output_type": "execute_result"
    }
   ],
   "source": [
    "groupE = df[df[\"race/ethnicity\"]==\"group C\"][[\"parental level of education\",\"lunch\",\"test preparation course\",\"mean_score\"]]\n",
    "groupE.head()"
   ]
  },
  {
   "cell_type": "code",
   "execution_count": 46,
   "id": "7931c502",
   "metadata": {},
   "outputs": [
    {
     "data": {
      "text/plain": [
       "parental level of education  lunch         test preparation course\n",
       "some high school             free/reduced  completed                  58.900000\n",
       "                                           none                       55.545455\n",
       "                             standard      completed                  72.166667\n",
       "                                           none                       64.250000\n",
       "high school                  free/reduced  completed                  58.833333\n",
       "                                           none                       52.764706\n",
       "                             standard      completed                  67.333333\n",
       "                                           none                       66.656250\n",
       "some college                 free/reduced  completed                  65.714286\n",
       "                                           none                       58.812500\n",
       "                             standard      completed                  81.928571\n",
       "                                           none                       66.531250\n",
       "associate's degree           free/reduced  completed                  67.375000\n",
       "                                           none                       64.214286\n",
       "                             standard      completed                  75.681818\n",
       "                                           none                       67.941176\n",
       "bachelor's degree            free/reduced  completed                  68.714286\n",
       "                                           none                       59.500000\n",
       "                             standard      completed                  81.076923\n",
       "                                           none                       76.416667\n",
       "master's degree              free/reduced  completed                  67.200000\n",
       "                                           none                       61.200000\n",
       "                             standard      completed                  78.500000\n",
       "                                           none                       71.000000\n",
       "Name: mean_score, dtype: float64"
      ]
     },
     "execution_count": 46,
     "metadata": {},
     "output_type": "execute_result"
    }
   ],
   "source": [
    "groupE.groupby([\"parental level of education\",\"lunch\",\"test preparation course\"])[\"mean_score\"].mean()"
   ]
  }
 ],
 "metadata": {
  "kernelspec": {
   "display_name": "Python 3 (ipykernel)",
   "language": "python",
   "name": "python3"
  },
  "language_info": {
   "codemirror_mode": {
    "name": "ipython",
    "version": 3
   },
   "file_extension": ".py",
   "mimetype": "text/x-python",
   "name": "python",
   "nbconvert_exporter": "python",
   "pygments_lexer": "ipython3",
   "version": "3.9.12"
  }
 },
 "nbformat": 4,
 "nbformat_minor": 5
}
