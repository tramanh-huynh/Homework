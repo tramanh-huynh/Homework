{
 "cells": [
  {
   "cell_type": "markdown",
   "id": "7faf7bfe",
   "metadata": {},
   "source": [
    "Author : Tram-Anh\n",
    "\n",
    "## Ex1"
   ]
  },
  {
   "cell_type": "code",
   "execution_count": 1,
   "id": "4c296559",
   "metadata": {},
   "outputs": [
    {
     "name": "stdout",
     "output_type": "stream",
     "text": [
      "5\n",
      "7\n"
     ]
    }
   ],
   "source": [
    "# Ex1: Write a program to count positive and negative numbers in a list\n",
    "\n",
    "data1 = [-10, -21, -4, -45, -66, 93, 11, -4, -6, 12, 11, 4]\n",
    "positive = 0\n",
    "negative = 0\n",
    "for i in data1:\n",
    "    if i > 0:\n",
    "        positive += 1 \n",
    "    elif i < 0:\n",
    "        negative += 1\n",
    "print(positive)\n",
    "print(negative)"
   ]
  },
  {
   "cell_type": "markdown",
   "id": "2356cd56",
   "metadata": {},
   "source": [
    "## Ex2"
   ]
  },
  {
   "cell_type": "code",
   "execution_count": 2,
   "id": "9a486794",
   "metadata": {},
   "outputs": [
    {
     "name": "stdout",
     "output_type": "stream",
     "text": [
      "{4: 4, 6: 1, 3: 4, 8: 1}\n",
      "4\n",
      "3\n"
     ]
    }
   ],
   "source": [
    "# Ex2: Given a list, extract all elements whose frequency is greater than k.\n",
    "data2 = [4, 6, 4, 3, 3, 4, 3, 4, 3, 8]\n",
    "k = 3\n",
    "\n",
    "dict = {}\n",
    "for i in data2:\n",
    "    if i not in dict:\n",
    "        dict[i] = 1\n",
    "    else:\n",
    "        dict[i] += 1 \n",
    "print(dict)\n",
    "\n",
    "for key,value in dict.items():\n",
    "    if value > k:\n",
    "        print(key)"
   ]
  },
  {
   "cell_type": "markdown",
   "id": "7e3bd14e",
   "metadata": {},
   "source": [
    "## Ex3"
   ]
  },
  {
   "cell_type": "code",
   "execution_count": 8,
   "id": "ce43890f",
   "metadata": {},
   "outputs": [
    {
     "name": "stdout",
     "output_type": "stream",
     "text": [
      "[5, 6, 7, 7, 9, 11, 11, 10]\n"
     ]
    }
   ],
   "source": [
    "# Ex3: find the strongest neighbour. Given an array of N positive integers.\n",
    "# The task is to find the maximum for every adjacent pair in the array.\n",
    "data3 = [4, 5, 6, 7, 3, 9, 11, 2, 10]\n",
    "\n",
    "maximum = []\n",
    "for i in range(len(data3) -1):\n",
    "    maximum.append(max(data3[i],data3[i+1]))\n",
    "print(maximum)"
   ]
  },
  {
   "cell_type": "markdown",
   "id": "d58d1c74",
   "metadata": {},
   "source": [
    "## Ex4"
   ]
  },
  {
   "cell_type": "code",
   "execution_count": 4,
   "id": "2ff03d6e",
   "metadata": {},
   "outputs": [
    {
     "name": "stdout",
     "output_type": "stream",
     "text": [
      "1 2 3\n",
      "1 3 2\n",
      "2 1 3\n",
      "2 3 1\n",
      "3 1 2\n",
      "3 2 1\n"
     ]
    }
   ],
   "source": [
    "# Ex4: print all Possible Combinations from the three Digits\n",
    "\n",
    "data4 = [1, 2, 3]\n",
    "for i in data4:\n",
    "    for j in data4:\n",
    "         for k in data4:\n",
    "                if i != k and i != j and j != k:\n",
    "                     print(i,j,k)"
   ]
  },
  {
   "cell_type": "markdown",
   "id": "8bbb572c",
   "metadata": {},
   "source": [
    "## Ex5"
   ]
  },
  {
   "cell_type": "code",
   "execution_count": 5,
   "id": "05e8edd0",
   "metadata": {},
   "outputs": [
    {
     "name": "stdout",
     "output_type": "stream",
     "text": [
      "[[4, 3, 5, 1, 3], [1, 2, 3, 9, 3, 5, 7], [3, 7, 4, 8]]\n"
     ]
    }
   ],
   "source": [
    "# Ex5: Given two matrices (2 nested lists), the task is to write a Python program\n",
    "# to add elements to each row from initial matrix.\n",
    "# For example: Input : test_list1 = [[4, 3, 5,], [1, 2, 3], [3, 7, 4]], test_list2 = [[1], [9], [8]]\n",
    "# Output : [[4, 3, 5, 1], [1, 2, 3, 9], [3, 7, 4, 8]]\n",
    "\n",
    "# Version 1 : \n",
    "data5_list1 = [[4, 3, 5, ], [1, 2, 3], [3, 7, 4]]\n",
    "data5_list2 = [[1, 3], [9, 3, 5, 7], [8]]\n",
    "\n",
    "for i in range(len(data5_list1)):\n",
    "    data5_list1[i].extend(data5_list2[i])\n",
    "\n",
    "print(data5_list1)"
   ]
  },
  {
   "cell_type": "code",
   "execution_count": 6,
   "id": "429d214f",
   "metadata": {},
   "outputs": [
    {
     "name": "stdout",
     "output_type": "stream",
     "text": [
      "[[4, 3, 5, 1, 3], [1, 2, 3, 9, 3, 5, 7], [3, 7, 4, 8]]\n"
     ]
    }
   ],
   "source": [
    "# Version 2 :\n",
    "\n",
    "data5_list1 = [[4, 3, 5, ], [1, 2, 3], [3, 7, 4]]\n",
    "data5_list2 = [[1, 3], [9, 3, 5, 7], [8]]\n",
    "\n",
    "new_list = [list1 + list2 for list1, list2 in zip(data5_list1,data5_list2)]\n",
    "print(new_list)"
   ]
  },
  {
   "cell_type": "code",
   "execution_count": 7,
   "id": "6a607223",
   "metadata": {},
   "outputs": [
    {
     "name": "stdout",
     "output_type": "stream",
     "text": [
      "[[4, 3, 5, 1, 3], [1, 2, 3, 9, 3, 5, 7], [3, 7, 4, 8]]\n"
     ]
    }
   ],
   "source": [
    "# Version 3 :\n",
    "\n",
    "data5_list1 = [[4, 3, 5, ], [1, 2, 3], [3, 7, 4]]\n",
    "data5_list2 = [[1, 3], [9, 3, 5, 7], [8]]\n",
    "\n",
    "new_list = []\n",
    "for list1, list2 in zip(data5_list1,data5_list2):\n",
    "    new_list.append(list1 + list2)\n",
    "print(new_list)"
   ]
  },
  {
   "cell_type": "markdown",
   "id": "c2eeb89e",
   "metadata": {},
   "source": [
    "## Ex6"
   ]
  },
  {
   "cell_type": "code",
   "execution_count": 8,
   "id": "ef3c41a8",
   "metadata": {},
   "outputs": [],
   "source": [
    "# Ex6:  Write a program which will find all such numbers which are divisible by 7\n",
    "# but are not a multiple of 5, between 2000 and 3200 (both included).\n",
    "# The numbers obtained should be printed in a comma-separated sequence on a single line."
   ]
  },
  {
   "cell_type": "code",
   "execution_count": 9,
   "id": "984573bd",
   "metadata": {},
   "outputs": [
    {
     "name": "stdout",
     "output_type": "stream",
     "text": [
      "2002, 2009, 2016, 2023, 2037, 2044, 2051, 2058, 2072, 2079, 2086, 2093, 2107, 2114, 2121, 2128, 2142, 2149, 2156, 2163, 2177, 2184, 2191, 2198, 2212, 2219, 2226, 2233, 2247, 2254, 2261, 2268, 2282, 2289, 2296, 2303, 2317, 2324, 2331, 2338, 2352, 2359, 2366, 2373, 2387, 2394, 2401, 2408, 2422, 2429, 2436, 2443, 2457, 2464, 2471, 2478, 2492, 2499, 2506, 2513, 2527, 2534, 2541, 2548, 2562, 2569, 2576, 2583, 2597, 2604, 2611, 2618, 2632, 2639, 2646, 2653, 2667, 2674, 2681, 2688, 2702, 2709, 2716, 2723, 2737, 2744, 2751, 2758, 2772, 2779, 2786, 2793, 2807, 2814, 2821, 2828, 2842, 2849, 2856, 2863, 2877, 2884, 2891, 2898, 2912, 2919, 2926, 2933, 2947, 2954, 2961, 2968, 2982, 2989, 2996, 3003, 3017, 3024, 3031, 3038, 3052, 3059, 3066, 3073, 3087, 3094, 3101, 3108, 3122, 3129, 3136, 3143, 3157, 3164, 3171, 3178, 3192, 3199\n"
     ]
    }
   ],
   "source": [
    "number = []\n",
    "for i in range(2000,3201):\n",
    "    if (i % 7 == 0) and (i % 5 != 0):\n",
    "        number.append(str(i))\n",
    "print(\", \".join(number))"
   ]
  },
  {
   "cell_type": "markdown",
   "id": "743024af",
   "metadata": {},
   "source": [
    "## Ex7"
   ]
  },
  {
   "cell_type": "code",
   "execution_count": 10,
   "id": "e6f0d574",
   "metadata": {},
   "outputs": [],
   "source": [
    "# Ex7: Write a program, which will find all such numbers between 1000 and 3000 (both included) such that each digit of the number is an even number.\n",
    "# The numbers obtained should be printed in a comma-separated sequence on a single line."
   ]
  },
  {
   "cell_type": "code",
   "execution_count": 11,
   "id": "9144ec0e",
   "metadata": {},
   "outputs": [
    {
     "name": "stdout",
     "output_type": "stream",
     "text": [
      "2000, 2002, 2004, 2006, 2008, 2020, 2022, 2024, 2026, 2028, 2040, 2042, 2044, 2046, 2048, 2060, 2062, 2064, 2066, 2068, 2080, 2082, 2084, 2086, 2088, 2200, 2202, 2204, 2206, 2208, 2220, 2222, 2224, 2226, 2228, 2240, 2242, 2244, 2246, 2248, 2260, 2262, 2264, 2266, 2268, 2280, 2282, 2284, 2286, 2288, 2400, 2402, 2404, 2406, 2408, 2420, 2422, 2424, 2426, 2428, 2440, 2442, 2444, 2446, 2448, 2460, 2462, 2464, 2466, 2468, 2480, 2482, 2484, 2486, 2488, 2600, 2602, 2604, 2606, 2608, 2620, 2622, 2624, 2626, 2628, 2640, 2642, 2644, 2646, 2648, 2660, 2662, 2664, 2666, 2668, 2680, 2682, 2684, 2686, 2688, 2800, 2802, 2804, 2806, 2808, 2820, 2822, 2824, 2826, 2828, 2840, 2842, 2844, 2846, 2848, 2860, 2862, 2864, 2866, 2868, 2880, 2882, 2884, 2886, 2888\n"
     ]
    }
   ],
   "source": [
    "number = []\n",
    "for i in range(1000,3001):\n",
    "    s = str(i)\n",
    "    if (int(s[0]) %2 == 0) and (int(s[1]) %2 == 0) and (int(s[2]) %2 == 0) and (int(s[3]) %2 == 0):\n",
    "        number.append(s)\n",
    "print(\", \".join(number))"
   ]
  },
  {
   "cell_type": "markdown",
   "id": "397d17d9",
   "metadata": {},
   "source": [
    "## Ex8"
   ]
  },
  {
   "cell_type": "code",
   "execution_count": 12,
   "id": "eb7b60f0",
   "metadata": {},
   "outputs": [],
   "source": [
    "# Ex8: Let user type 2 words in English as input. Print out the output\n",
    "# which is the shortest chain according to the following rules:\n",
    "# - Each word in the chain has at least 3 letters\n",
    "# - The 2 input words from user will be used as the first and the last words of the chain\n",
    "# - 2 last letters of 1 word will be the same as 2 first letters of the next word in the chain\n",
    "# - All the words are from the file wordsEn.txt\n",
    "# - If there are multiple shortest chains, return any of them is sufficient"
   ]
  },
  {
   "cell_type": "code",
   "execution_count": 2,
   "id": "8bdfec61",
   "metadata": {},
   "outputs": [
    {
     "data": {
      "text/plain": [
       "['a', 'aah', 'aahed', 'aahing', 'aahs']"
      ]
     },
     "execution_count": 2,
     "metadata": {},
     "output_type": "execute_result"
    }
   ],
   "source": [
    "# read file \n",
    "with open('wordsEn.txt', 'r') as file:\n",
    "    data = file.read().splitlines()\n",
    "data[:5]"
   ]
  },
  {
   "cell_type": "code",
   "execution_count": 3,
   "id": "0238c2f8",
   "metadata": {},
   "outputs": [
    {
     "data": {
      "text/plain": [
       "['aah', 'aahed', 'aahing', 'aahs', 'aardvark']"
      ]
     },
     "execution_count": 3,
     "metadata": {},
     "output_type": "execute_result"
    }
   ],
   "source": [
    "# Each word in the chain has at least 3 letters\n",
    "data1 = []\n",
    "for word in data:\n",
    "    if len(word) >=3:\n",
    "        data1.append(word)\n",
    "data1[:5]"
   ]
  },
  {
   "cell_type": "code",
   "execution_count": 4,
   "id": "556dd82d",
   "metadata": {},
   "outputs": [
    {
     "name": "stdout",
     "output_type": "stream",
     "text": [
      "576\n",
      "['aa', 'ab', 'ac', 'ad', 'ae']\n"
     ]
    }
   ],
   "source": [
    "# input, output, data3 = dictionary {prefix : [words]} --> 24x24 keys\n",
    "# create combination of 2 character for 24 alphabets --> 576 prefixes\n",
    "import string\n",
    "alphabet = string.ascii_lowercase[:24]\n",
    "prefixes = []\n",
    "\n",
    "for char1 in alphabet:\n",
    "    for char2 in alphabet:\n",
    "        combination = char1 + char2\n",
    "        prefixes.append(combination)\n",
    "print(len(prefixes))\n",
    "print(prefixes[:5])"
   ]
  },
  {
   "cell_type": "code",
   "execution_count": 12,
   "id": "ce0bb401",
   "metadata": {},
   "outputs": [],
   "source": [
    "# Create a prefixes dictionary = {prefix: [word,word,word]}\n",
    "data3 = {}\n",
    "for prefix in prefixes:\n",
    "    data3[prefix] = []\n",
    "    for word in data1:\n",
    "        if word.startswith(prefix):\n",
    "            data3[prefix].append(word)\n",
    "#data3    "
   ]
  },
  {
   "cell_type": "code",
   "execution_count": 6,
   "id": "18c9f5ca",
   "metadata": {},
   "outputs": [],
   "source": [
    "# Print the result of chain\n",
    "def in_ketqua(prefix_list, input_str, output_str):\n",
    "    ketqua = []\n",
    "    word = output_str\n",
    "    while(word != input_str):\n",
    "        ketqua.append(word)\n",
    "        print('word: ', word)\n",
    "        prefix = word[:2]\n",
    "        word = prefix_list[prefix]\n",
    "    ketqua.append(input_str)\n",
    "    ketqua.reverse()\n",
    "    return ketqua"
   ]
  },
  {
   "cell_type": "code",
   "execution_count": 7,
   "id": "5cbf52dc",
   "metadata": {},
   "outputs": [],
   "source": [
    "# Create a function to find the word in dictionary data3\n",
    "# input, output, data3 = dictionary {prefix : [words]} --> 24x24 keys\n",
    "# return None or list\n",
    "def search(data3, input_str, output_str): \n",
    "    # B0: kiem tra output co trong data3[prefix] hay khong?\n",
    "    #  Neu data3 khong co output thi tra ve None, neu co tiep tuc cac buoc duoi\n",
    "    if output_str not in data3[output_str[:2]]:\n",
    "        return None\n",
    "    \n",
    "    # B1: khoi tao cac bien can thiet\n",
    "    #   khoi tao queue (hang doi) rong.\n",
    "    #   khoi tao prefix_list (prefix, parent) rong. [(en, pen), (pa, chutzpa)]. \n",
    "    #   Moi phan tu bao gom prefix va tu co suffix tuong tu (parent word).\n",
    "    #   them (input[-2:], input) vao queue.\n",
    "    queue = []\n",
    "    prefix_list = {}\n",
    "    queue.append((input_str[-2:], input_str))\n",
    "    \n",
    "    # B2:\n",
    "    while(len(queue) != 0):\n",
    "        #  lay ra mot phan tu trong queue: (current_prefix, current_word) = queue.pop()\n",
    "        #print('queue:', queue)\n",
    "        (current_prefix, current_word) = queue.pop(0)\n",
    "\n",
    "        #  Kiem tra xem current_prefix co trong prefix_list hay khong?\n",
    "        #    Neu co thi quay lai buoc 2.\n",
    "        #    Neu khong co thi:\n",
    "        if current_prefix in prefix_list:\n",
    "            continue\n",
    "        else:\n",
    "            #      Lay cac tu cua current_prefix: word_list = data3[current_prefix]\n",
    "            #      Duyet cac word trong word_list:\n",
    "            if current_prefix in data3:\n",
    "                word_list = data3[current_prefix]\n",
    "                #print('word_list: ', word_list)\n",
    "                for word in word_list:\n",
    "                    #        Neu prefix cua word bang prefix_output thi them (prefix, word) vao prefix list\n",
    "                    #          in ket qua tu prefix_list. ###stop\n",
    "                    if word[-2:] == output_str[:2]:\n",
    "                        prefix_list[word[-2:]] = word\n",
    "                        prefix_list[current_prefix] = current_word\n",
    "                        prefix_list[output_str[-2:]] = output_str\n",
    "                        prefix_list[input_str[-2:]] = input_str\n",
    "                        return in_ketqua(prefix_list, input_str, output_str)\n",
    "                    else:\n",
    "                        #        Neu prefix cua word khong co trong prefix_list thi:\n",
    "                        #          Them (prefix_word, word) vao queue.\n",
    "                        if word[-2:] not in prefix_list:\n",
    "                            queue.append((word[-2:], word))\n",
    "                #      Danh dau da duyet xong current_prefix bang cach them (current_prefix, current_word) vao prefix_list:\n",
    "                prefix_list[current_prefix] = current_word\n",
    "                #print('prefix_list: ',prefix_list)\n",
    "    return None"
   ]
  },
  {
   "cell_type": "code",
   "execution_count": 8,
   "id": "fcc59e5d",
   "metadata": {},
   "outputs": [
    {
     "name": "stdout",
     "output_type": "stream",
     "text": [
      "Nhap tu dau tien: apple\n",
      "Nhap tu cuoi cung: funny\n"
     ]
    }
   ],
   "source": [
    "input_str = input(\"Nhap tu dau tien: \")\n",
    "output_str = input(\"Nhap tu cuoi cung: \")"
   ]
  },
  {
   "cell_type": "code",
   "execution_count": 9,
   "id": "c6503840",
   "metadata": {},
   "outputs": [
    {
     "name": "stdout",
     "output_type": "stream",
     "text": [
      "word:  funny\n",
      "word:  tofu\n",
      "word:  legato\n",
      "['apple', 'legato', 'tofu', 'funny']\n"
     ]
    }
   ],
   "source": [
    "test = search(data3, input_str, output_str)\n",
    "print(test)"
   ]
  },
  {
   "cell_type": "code",
   "execution_count": 10,
   "id": "8b68fd66",
   "metadata": {},
   "outputs": [
    {
     "name": "stdout",
     "output_type": "stream",
     "text": [
      "word:  ipen\n",
      "word:  ship\n",
      "word:  english\n",
      "['pen', 'english', 'ship', 'ipen']\n"
     ]
    }
   ],
   "source": [
    "data_test = {\"en\": ['english', 'entry'], \"sh\": ['shoot','sheet','ship'],\"ip\": [\"ipen\",\"ippot\"]}\n",
    "result1 = search(data_test, \"pen\", \"ipen\")\n",
    "\n",
    "print(result1)\n"
   ]
  },
  {
   "cell_type": "code",
   "execution_count": null,
   "id": "df828e59",
   "metadata": {},
   "outputs": [],
   "source": [
    "# input, output, data3 = dictionary {prefix : [words]} --> 24x24 keys\n",
    "# B0: kiem tra output co trong data3[prefix] hay khong?\n",
    "#  Neu data3 khong co output thi tra ve None, neu co tiep tuc cac buoc duoi\n",
    "\n",
    "\n",
    "# B1: khoi tao cac bien can thiet\n",
    "#   khoi tao queue (hang doi) rong\n",
    "#   khoi tao prefix_list (prefix, parent) rong. [(en, pen), (pa, chutzpa)]. \n",
    "#     Moi phan tu bao gom prefix va tu co suffix tuong tu (parent word).\n",
    "#   them (input[-2:], input) vao queue.\n",
    "\n",
    "# B2:\n",
    "#  lay ra mot phan tu trong queue: (current_word, current_prefix) = queue.pop()\n",
    "#  Kiem tra xem current_prefix co trong prefix_list hay khong?\n",
    "#    Neu co thi quay lai buoc 2.\n",
    "#    Neu khong co thi:\n",
    "#      Lay cac tu cua current_prefix: word_list = data3[current_prefix]\n",
    "#      Duyet cac word trong word_list:\n",
    "#        Neu prefix cua word bang prefix_output thi them (prefix, word) vao prefix list va \n",
    "#          in ket qua tu prefix_list. ###stop\n",
    "#        Neu prefix cua word khong co trong prefix_list thi:\n",
    "#          Them (prefix_word, word) vao queue.\n",
    "#      Danh dau da duyet xong current_prefix bang cach them (current_prefix, current_word) vao prefix_list:\n",
    "#      Neu queue rong thi dung lai. ###stop Neu khong rong thi quay lai B2:\n"
   ]
  },
  {
   "cell_type": "code",
   "execution_count": null,
   "id": "1ec528f4",
   "metadata": {},
   "outputs": [],
   "source": []
  },
  {
   "cell_type": "code",
   "execution_count": null,
   "id": "8eecac6e",
   "metadata": {},
   "outputs": [],
   "source": []
  }
 ],
 "metadata": {
  "kernelspec": {
   "display_name": "Python 3 (ipykernel)",
   "language": "python",
   "name": "python3"
  },
  "language_info": {
   "codemirror_mode": {
    "name": "ipython",
    "version": 3
   },
   "file_extension": ".py",
   "mimetype": "text/x-python",
   "name": "python",
   "nbconvert_exporter": "python",
   "pygments_lexer": "ipython3",
   "version": "3.9.12"
  }
 },
 "nbformat": 4,
 "nbformat_minor": 5
}
