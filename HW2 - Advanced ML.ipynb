{
 "cells": [
  {
   "cell_type": "markdown",
   "id": "75186677",
   "metadata": {},
   "source": [
    "Author : Tram-Anh\n",
    "\n",
    "## Ex1:"
   ]
  },
  {
   "cell_type": "code",
   "execution_count": 16,
   "id": "ac970b70",
   "metadata": {},
   "outputs": [
    {
     "name": "stdout",
     "output_type": "stream",
     "text": [
      "[12 13 14 15 16 17 18 19 20 21 22 23 24 25 26 27 28 29 30 31 32 33 34 35\n",
      " 36 37]\n",
      "[37 36 35 34 33 32 31 30 29 28 27 26 25 24 23 22 21 20 19 18 17 16 15 14\n",
      " 13 12]\n"
     ]
    }
   ],
   "source": [
    "# Ex1: Write a NumPy program to reverse an array (first element becomes last).\n",
    "# Input: [12 13 14 15 16 17 18 19 20 21 22 23 24 25 26 27 28 29 30 31 32 33 34 35 36 37]\n",
    "\n",
    "import numpy as np\n",
    "array = np.arange(12,38)\n",
    "print(array)\n",
    "reversed_array = array[::-1]\n",
    "print(reversed_array)"
   ]
  },
  {
   "cell_type": "code",
   "execution_count": 15,
   "id": "5187acd0",
   "metadata": {},
   "outputs": [
    {
     "data": {
      "text/plain": [
       "array([10, 40])"
      ]
     },
     "execution_count": 15,
     "metadata": {},
     "output_type": "execute_result"
    }
   ],
   "source": [
    "# Ex2: Write a NumPy program to test whether each element of a 1-D array is also present in a second array\n",
    "# Input Array1: [ 0 10 20 40 60]\n",
    "#       Array2: [10, 30, 40]\n",
    "\n",
    "# numpy.in1d(ar1, ar2, assume_unique=False, invert=False, *, kind=None) : Test whether each element of a 1-D array is also present in a second array.\n",
    "array1 = np.array([0,10,20,40,60])\n",
    "array2 = np.array([10,30,40])\n",
    "mask = np.in1d(array1,array2)\n",
    "array1[mask]"
   ]
  },
  {
   "cell_type": "code",
   "execution_count": 21,
   "id": "c7fc8d37",
   "metadata": {},
   "outputs": [
    {
     "name": "stdout",
     "output_type": "stream",
     "text": [
      "indice of maximum value : 7\n",
      "indice of minimum value : 5\n"
     ]
    }
   ],
   "source": [
    "# Ex3: Write a NumPy program to find the indices of the maximum and minimum values along the given axis of an array\n",
    "# Input Array [1,6,4,8,9,-4,-2,11]\n",
    "\n",
    "array3 = np.array([1,6,4,8,9,-4,-2,11])\n",
    "max_index = np.argmax(array3)\n",
    "min_index = np.argmin(array3)\n",
    "print(\"indice of maximum value :\", max_index)\n",
    "print(\"indice of minimum value :\", min_index)"
   ]
  },
  {
   "cell_type": "code",
   "execution_count": null,
   "id": "9a768701",
   "metadata": {},
   "outputs": [],
   "source": [
    "# Ex4: Read the entire file story.txt and write a program to print out top 100 words occur most\n",
    "# frequently and their corresponding appearance. You could ignore all\n",
    "# punction characters such as comma, dot, semicolon, ...\n",
    "# Sample output:\n",
    "# house: 453\n",
    "# dog: 440\n",
    "# people: 312\n",
    "# ..."
   ]
  },
  {
   "cell_type": "code",
   "execution_count": 1,
   "id": "5900e992",
   "metadata": {},
   "outputs": [],
   "source": [
    "# Read file\n",
    "with open('story.txt', 'r') as file:\n",
    "    data = file.read()"
   ]
  },
  {
   "cell_type": "code",
   "execution_count": 5,
   "id": "2024127b",
   "metadata": {},
   "outputs": [
    {
     "name": "stdout",
     "output_type": "stream",
     "text": [
      "ïProject Gutenbergs Alices Adventures in Wonderland by Lewis Carroll\n",
      "\n",
      "This eBook is for the use of anyone anywhere at no cost and with\n",
      "almost no restrictions whatsoever  You may copy it give it away o\n"
     ]
    }
   ],
   "source": [
    "# remove punctuation from string using Regex\n",
    "import re\n",
    "data1 = re.sub(r'[^\\w\\s]', '', data)\n",
    "print(data1[:200])"
   ]
  },
  {
   "cell_type": "code",
   "execution_count": 6,
   "id": "7911a03e",
   "metadata": {},
   "outputs": [
    {
     "data": {
      "text/plain": [
       "['ïproject',\n",
       " 'gutenbergs',\n",
       " 'alices',\n",
       " 'adventures',\n",
       " 'in',\n",
       " 'wonderland',\n",
       " 'by',\n",
       " 'lewis',\n",
       " 'carroll',\n",
       " 'this',\n",
       " 'ebook',\n",
       " 'is',\n",
       " 'for',\n",
       " 'the',\n",
       " 'use',\n",
       " 'of',\n",
       " 'anyone',\n",
       " 'anywhere',\n",
       " 'at',\n",
       " 'no']"
      ]
     },
     "execution_count": 6,
     "metadata": {},
     "output_type": "execute_result"
    }
   ],
   "source": [
    "words = data1.lower().split()\n",
    "words[:20]"
   ]
  },
  {
   "cell_type": "code",
   "execution_count": 44,
   "id": "330286ae",
   "metadata": {},
   "outputs": [
    {
     "name": "stdout",
     "output_type": "stream",
     "text": [
      "[('the', 1671), ('and', 872), ('to', 734), ('a', 649), ('it', 541), ('she', 540), ('of', 519), ('said', 467), ('i', 401), ('alice', 391), ('in', 382), ('you', 365), ('was', 359), ('that', 282), ('as', 261), ('her', 253), ('at', 211), ('with', 198), ('on', 191), ('all', 183), ('had', 179), ('but', 168), ('so', 154), ('for', 152), ('be', 150), ('not', 146), ('very', 146), ('this', 142), ('what', 140), ('little', 133), ('they', 130), ('he', 117), ('out', 115), ('its', 114), ('one', 106), ('down', 106), ('is', 105), ('up', 101), ('his', 98), ('about', 94), ('if', 93), ('then', 92), ('no', 89), ('like', 87), ('were', 87), ('them', 86), ('would', 85), ('know', 85), ('again', 84), ('herself', 83), ('or', 82), ('off', 82), ('went', 81), ('do', 80), ('when', 79), ('have', 79), ('could', 78), ('there', 77), ('thought', 73), ('into', 72), ('queen', 72), ('time', 70), ('by', 68), ('me', 68), ('who', 66), ('see', 66), ('how', 64), ('your', 63), ('did', 61), ('king', 61), ('an', 60), ('well', 60), ('dont', 60), ('now', 59), ('mock', 59), ('are', 58), ('turtle', 58), ('began', 58), ('my', 58), ('im', 58), ('quite', 55), ('hatter', 55), ('gryphon', 55), ('some', 54), ('way', 53), ('head', 52), ('think', 52), ('their', 52), ('here', 51), ('much', 51), ('just', 51), ('go', 51), ('which', 50), ('more', 49), ('say', 49), ('first', 49), ('only', 49), ('thing', 49), ('voice', 47), ('looked', 47)]\n"
     ]
    }
   ],
   "source": [
    "# version 1\n",
    "from collections import Counter\n",
    "frequency = Counter(words).most_common(100)\n",
    "print(frequency)"
   ]
  },
  {
   "cell_type": "code",
   "execution_count": 45,
   "id": "0ff4e6e6",
   "metadata": {},
   "outputs": [
    {
     "name": "stdout",
     "output_type": "stream",
     "text": [
      "[('the', 1671), ('and', 872), ('to', 734), ('a', 649), ('it', 541), ('she', 540), ('of', 519), ('said', 467), ('i', 401), ('alice', 391), ('in', 382), ('you', 365), ('was', 359), ('that', 282), ('as', 261), ('her', 253), ('at', 211), ('with', 198), ('on', 191), ('all', 183), ('had', 179), ('but', 168), ('so', 154), ('for', 152), ('be', 150), ('not', 146), ('very', 146), ('this', 142), ('what', 140), ('little', 133), ('they', 130), ('he', 117), ('out', 115), ('its', 114), ('one', 106), ('down', 106), ('is', 105), ('up', 101), ('his', 98), ('about', 94), ('if', 93), ('then', 92), ('no', 89), ('like', 87), ('were', 87), ('them', 86), ('would', 85), ('know', 85), ('again', 84), ('herself', 83), ('or', 82), ('off', 82), ('went', 81), ('do', 80), ('when', 79), ('have', 79), ('could', 78), ('there', 77), ('thought', 73), ('into', 72), ('queen', 72), ('time', 70), ('by', 68), ('me', 68), ('who', 66), ('see', 66), ('how', 64), ('your', 63), ('did', 61), ('king', 61), ('an', 60), ('well', 60), ('dont', 60), ('now', 59), ('mock', 59), ('are', 58), ('turtle', 58), ('began', 58), ('my', 58), ('im', 58), ('quite', 55), ('hatter', 55), ('gryphon', 55), ('some', 54), ('way', 53), ('head', 52), ('think', 52), ('their', 52), ('here', 51), ('much', 51), ('just', 51), ('go', 51), ('which', 50), ('more', 49), ('say', 49), ('first', 49), ('only', 49), ('thing', 49), ('voice', 47), ('looked', 47)]\n"
     ]
    }
   ],
   "source": [
    "# version 2\n",
    "from nltk import FreqDist\n",
    "fdist1 = FreqDist(words)\n",
    "print(fdist1.most_common(100))"
   ]
  }
 ],
 "metadata": {
  "kernelspec": {
   "display_name": "Python 3 (ipykernel)",
   "language": "python",
   "name": "python3"
  },
  "language_info": {
   "codemirror_mode": {
    "name": "ipython",
    "version": 3
   },
   "file_extension": ".py",
   "mimetype": "text/x-python",
   "name": "python",
   "nbconvert_exporter": "python",
   "pygments_lexer": "ipython3",
   "version": "3.9.12"
  }
 },
 "nbformat": 4,
 "nbformat_minor": 5
}
