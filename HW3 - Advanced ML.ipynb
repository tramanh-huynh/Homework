{
 "cells": [
  {
   "cell_type": "code",
   "execution_count": 2,
   "id": "275e8ca0",
   "metadata": {},
   "outputs": [
    {
     "name": "stdout",
     "output_type": "stream",
     "text": [
      "Collecting opencv-python\n",
      "  Downloading opencv_python-4.7.0.72-cp37-abi3-win_amd64.whl (38.2 MB)\n",
      "Requirement already satisfied: numpy>=1.17.0 in c:\\users\\haole\\anaconda3\\lib\\site-packages (from opencv-python) (1.21.5)\n",
      "Installing collected packages: opencv-python\n",
      "Successfully installed opencv-python-4.7.0.72\n",
      "Note: you may need to restart the kernel to use updated packages.\n"
     ]
    }
   ],
   "source": [
    "pip install opencv-python"
   ]
  },
  {
   "cell_type": "code",
   "execution_count": 25,
   "id": "b2882314",
   "metadata": {},
   "outputs": [
    {
     "name": "stdout",
     "output_type": "stream",
     "text": [
      "(900, 1600, 3)\n"
     ]
    }
   ],
   "source": [
    "import cv2\n",
    "\n",
    "image = cv2.imread(\"Berlin.jpg\")\n",
    "print(image.shape)"
   ]
  },
  {
   "cell_type": "code",
   "execution_count": 26,
   "id": "abc011fa",
   "metadata": {},
   "outputs": [
    {
     "name": "stdout",
     "output_type": "stream",
     "text": [
      "[[[  3 141 130]\n",
      "  [  3 132 129]\n",
      "  [  6 131 135]\n",
      "  ...\n",
      "  [205 179 163]\n",
      "  [205 179 163]\n",
      "  [205 179 163]]\n",
      "\n",
      " [[  0 139 129]\n",
      "  [  0 136 131]\n",
      "  [  4 136 136]\n",
      "  ...\n",
      "  [205 179 163]\n",
      "  [205 179 163]\n",
      "  [205 179 163]]]\n"
     ]
    }
   ],
   "source": [
    "print(image[:2])"
   ]
  },
  {
   "cell_type": "code",
   "execution_count": 27,
   "id": "cf98822d",
   "metadata": {},
   "outputs": [
    {
     "name": "stdout",
     "output_type": "stream",
     "text": [
      "uint8\n"
     ]
    }
   ],
   "source": [
    "print(image.dtype)"
   ]
  },
  {
   "cell_type": "markdown",
   "id": "c1cd052d",
   "metadata": {},
   "source": [
    "# Task: Do the following image transformation using numpy functions (you could use opencv to export image)"
   ]
  },
  {
   "cell_type": "markdown",
   "id": "763e77a5",
   "metadata": {},
   "source": [
    "# With opencv\n",
    "Rotate image with OpenCV: cv2.rotate()\n",
    "\n",
    "Flip image with OpenCV: cv2.flip()\n",
    "# With numpy\n",
    "\n",
    "Rotate image with NumPy: np.rot90()\n",
    "\n",
    "Flip image with NumPy: np.flip()"
   ]
  },
  {
   "cell_type": "code",
   "execution_count": 28,
   "id": "3395fc55",
   "metadata": {},
   "outputs": [],
   "source": [
    "import numpy as np"
   ]
  },
  {
   "cell_type": "code",
   "execution_count": 41,
   "id": "b7a91d85",
   "metadata": {},
   "outputs": [],
   "source": [
    "# flip vertically image\n",
    "v_flip_np = image[:, ::-1]\n",
    "v_flip_cv = cv2.flip(image, 1)"
   ]
  },
  {
   "cell_type": "code",
   "execution_count": 42,
   "id": "747ad540",
   "metadata": {},
   "outputs": [
    {
     "data": {
      "text/plain": [
       "True"
      ]
     },
     "execution_count": 42,
     "metadata": {},
     "output_type": "execute_result"
    }
   ],
   "source": [
    "cv2.imwrite(\"vertical_np.jpg\",v_flip_np)"
   ]
  },
  {
   "cell_type": "code",
   "execution_count": 43,
   "id": "2a14cad5",
   "metadata": {},
   "outputs": [
    {
     "data": {
      "text/plain": [
       "True"
      ]
     },
     "execution_count": 43,
     "metadata": {},
     "output_type": "execute_result"
    }
   ],
   "source": [
    "cv2.imwrite(\"vertical_cv.jpg\",v_flip_cv)"
   ]
  },
  {
   "cell_type": "code",
   "execution_count": 44,
   "id": "9e2a17df",
   "metadata": {},
   "outputs": [],
   "source": [
    "# flip horizontally image\n",
    "h_flip_np = image[::-1]\n",
    "h_flip_cv = cv2.flip(image, 0)"
   ]
  },
  {
   "cell_type": "code",
   "execution_count": 45,
   "id": "1aedf468",
   "metadata": {},
   "outputs": [
    {
     "data": {
      "text/plain": [
       "True"
      ]
     },
     "execution_count": 45,
     "metadata": {},
     "output_type": "execute_result"
    }
   ],
   "source": [
    "cv2.imwrite(\"horizontal_np.jpg\",h_flip_np)"
   ]
  },
  {
   "cell_type": "code",
   "execution_count": 46,
   "id": "6ef3c07b",
   "metadata": {},
   "outputs": [
    {
     "data": {
      "text/plain": [
       "True"
      ]
     },
     "execution_count": 46,
     "metadata": {},
     "output_type": "execute_result"
    }
   ],
   "source": [
    "cv2.imwrite(\"horizontal_cv.jpg\",h_flip_cv)"
   ]
  },
  {
   "cell_type": "code",
   "execution_count": 47,
   "id": "37b23964",
   "metadata": {},
   "outputs": [],
   "source": [
    "# rotate 90\n",
    "ro_90_np = np.rot90(image,-1)\n",
    "ro_90_cv = cv2.rotate(image,cv2.ROTATE_90_CLOCKWISE)"
   ]
  },
  {
   "cell_type": "code",
   "execution_count": 50,
   "id": "f23acabd",
   "metadata": {},
   "outputs": [
    {
     "data": {
      "text/plain": [
       "True"
      ]
     },
     "execution_count": 50,
     "metadata": {},
     "output_type": "execute_result"
    }
   ],
   "source": [
    "cv2.imwrite(\"rotate_90np.jpg\",ro_90_np)"
   ]
  },
  {
   "cell_type": "code",
   "execution_count": 51,
   "id": "40597686",
   "metadata": {},
   "outputs": [
    {
     "data": {
      "text/plain": [
       "True"
      ]
     },
     "execution_count": 51,
     "metadata": {},
     "output_type": "execute_result"
    }
   ],
   "source": [
    "cv2.imwrite(\"rotate_90cv.jpg\",ro_90_cv)"
   ]
  },
  {
   "cell_type": "code",
   "execution_count": 53,
   "id": "4a74f9a7",
   "metadata": {},
   "outputs": [],
   "source": [
    "# rotate -90\n",
    "ro_in90_np = np.rot90(image)\n",
    "ro_in90_cv = cv2.rotate(image,cv2.ROTATE_90_COUNTERCLOCKWISE)"
   ]
  },
  {
   "cell_type": "code",
   "execution_count": 54,
   "id": "6e66a55a",
   "metadata": {},
   "outputs": [
    {
     "data": {
      "text/plain": [
       "True"
      ]
     },
     "execution_count": 54,
     "metadata": {},
     "output_type": "execute_result"
    }
   ],
   "source": [
    "cv2.imwrite(\"rotate_in90np.jpg\",ro_in90_np)"
   ]
  },
  {
   "cell_type": "code",
   "execution_count": 55,
   "id": "1875a4d9",
   "metadata": {},
   "outputs": [
    {
     "data": {
      "text/plain": [
       "True"
      ]
     },
     "execution_count": 55,
     "metadata": {},
     "output_type": "execute_result"
    }
   ],
   "source": [
    "cv2.imwrite(\"rotate_in90cv.jpg\",ro_in90_cv)"
   ]
  },
  {
   "cell_type": "code",
   "execution_count": 64,
   "id": "b862f272",
   "metadata": {},
   "outputs": [
    {
     "name": "stdout",
     "output_type": "stream",
     "text": [
      "(450, 800, 3)\n"
     ]
    }
   ],
   "source": [
    "# Resize\n",
    "image2_cv = cv2.resize(image, (800,450))\n",
    "print(image2_cv.shape)\n",
    "#image2_np = np.resize(image, (450,800))\n",
    "#print(image2_np.shape)"
   ]
  },
  {
   "cell_type": "code",
   "execution_count": 58,
   "id": "8e03df00",
   "metadata": {},
   "outputs": [
    {
     "data": {
      "text/plain": [
       "True"
      ]
     },
     "execution_count": 58,
     "metadata": {},
     "output_type": "execute_result"
    }
   ],
   "source": [
    "cv2.imwrite(\"image2_cv.jpg\",image2_cv)"
   ]
  }
 ],
 "metadata": {
  "kernelspec": {
   "display_name": "Python 3 (ipykernel)",
   "language": "python",
   "name": "python3"
  },
  "language_info": {
   "codemirror_mode": {
    "name": "ipython",
    "version": 3
   },
   "file_extension": ".py",
   "mimetype": "text/x-python",
   "name": "python",
   "nbconvert_exporter": "python",
   "pygments_lexer": "ipython3",
   "version": "3.9.12"
  }
 },
 "nbformat": 4,
 "nbformat_minor": 5
}
