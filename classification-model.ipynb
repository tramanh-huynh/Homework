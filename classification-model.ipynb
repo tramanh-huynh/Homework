{
 "cells": [
  {
   "cell_type": "markdown",
   "id": "9bb3ec39",
   "metadata": {},
   "source": [
    "### Import libraries"
   ]
  },
  {
   "cell_type": "code",
   "execution_count": 52,
   "id": "1659603b",
   "metadata": {},
   "outputs": [
    {
     "name": "stdout",
     "output_type": "stream",
     "text": [
      "Requirement already satisfied: lazypredict in c:\\users\\haole\\anaconda3\\lib\\site-packages (0.2.12)\n",
      "Requirement already satisfied: xgboost in c:\\users\\haole\\anaconda3\\lib\\site-packages (from lazypredict) (1.7.6)\n",
      "Requirement already satisfied: pandas in c:\\users\\haole\\anaconda3\\lib\\site-packages (from lazypredict) (1.4.2)\n",
      "Requirement already satisfied: joblib in c:\\users\\haole\\anaconda3\\lib\\site-packages (from lazypredict) (1.3.1)\n",
      "Requirement already satisfied: scikit-learn in c:\\users\\haole\\anaconda3\\lib\\site-packages (from lazypredict) (1.0.2)\n",
      "Requirement already satisfied: tqdm in c:\\users\\haole\\anaconda3\\lib\\site-packages (from lazypredict) (4.64.0)\n",
      "Requirement already satisfied: click in c:\\users\\haole\\anaconda3\\lib\\site-packages (from lazypredict) (8.0.4)\n",
      "Requirement already satisfied: lightgbm in c:\\users\\haole\\anaconda3\\lib\\site-packages (from lazypredict) (4.0.0)\n",
      "Requirement already satisfied: colorama in c:\\users\\haole\\anaconda3\\lib\\site-packages (from click->lazypredict) (0.4.4)\n",
      "Requirement already satisfied: scipy in c:\\users\\haole\\anaconda3\\lib\\site-packages (from lightgbm->lazypredict) (1.7.3)\n",
      "Requirement already satisfied: numpy in c:\\users\\haole\\anaconda3\\lib\\site-packages (from lightgbm->lazypredict) (1.21.5)\n",
      "Requirement already satisfied: pytz>=2020.1 in c:\\users\\haole\\anaconda3\\lib\\site-packages (from pandas->lazypredict) (2021.3)\n",
      "Requirement already satisfied: python-dateutil>=2.8.1 in c:\\users\\haole\\anaconda3\\lib\\site-packages (from pandas->lazypredict) (2.8.2)\n",
      "Requirement already satisfied: six>=1.5 in c:\\users\\haole\\anaconda3\\lib\\site-packages (from python-dateutil>=2.8.1->pandas->lazypredict) (1.16.0)\n",
      "Requirement already satisfied: threadpoolctl>=2.0.0 in c:\\users\\haole\\anaconda3\\lib\\site-packages (from scikit-learn->lazypredict) (2.2.0)\n",
      "Note: you may need to restart the kernel to use updated packages.\n"
     ]
    }
   ],
   "source": [
    "pip install lazypredict"
   ]
  },
  {
   "cell_type": "code",
   "execution_count": 53,
   "id": "db4aca3f",
   "metadata": {},
   "outputs": [],
   "source": [
    "import pandas as pd\n",
    "import matplotlib.pyplot as plt\n",
    "import seaborn as sns\n",
    "from sklearn.model_selection import train_test_split\n",
    "from sklearn.linear_model import LinearRegression\n",
    "from sklearn.pipeline import Pipeline\n",
    "from sklearn.preprocessing import StandardScaler, OrdinalEncoder, OneHotEncoder\n",
    "from sklearn.impute import SimpleImputer\n",
    "from sklearn.preprocessing import OneHotEncoder\n",
    "from sklearn.ensemble import RandomForestClassifier\n",
    "from sklearn.svm import SVC\n",
    "from sklearn.metrics import confusion_matrix, classification_report\n",
    "from sklearn.model_selection import GridSearchCV\n",
    "from imblearn.over_sampling import RandomOverSampler\n",
    "from lazypredict.Supervised import LazyClassifier\n"
   ]
  },
  {
   "cell_type": "markdown",
   "id": "647e2780",
   "metadata": {},
   "source": [
    "### Read data"
   ]
  },
  {
   "cell_type": "code",
   "execution_count": 54,
   "id": "b89573a1",
   "metadata": {},
   "outputs": [],
   "source": [
    "data = pd.read_csv(\"stroke_classification.csv\")"
   ]
  },
  {
   "cell_type": "markdown",
   "id": "8e969f15",
   "metadata": {},
   "source": [
    "### Preprocessing data"
   ]
  },
  {
   "cell_type": "code",
   "execution_count": 55,
   "id": "0743ecc8",
   "metadata": {},
   "outputs": [
    {
     "data": {
      "text/html": [
       "<div>\n",
       "<style scoped>\n",
       "    .dataframe tbody tr th:only-of-type {\n",
       "        vertical-align: middle;\n",
       "    }\n",
       "\n",
       "    .dataframe tbody tr th {\n",
       "        vertical-align: top;\n",
       "    }\n",
       "\n",
       "    .dataframe thead th {\n",
       "        text-align: right;\n",
       "    }\n",
       "</style>\n",
       "<table border=\"1\" class=\"dataframe\">\n",
       "  <thead>\n",
       "    <tr style=\"text-align: right;\">\n",
       "      <th></th>\n",
       "      <th>pat_id</th>\n",
       "      <th>stroke</th>\n",
       "      <th>gender</th>\n",
       "      <th>age</th>\n",
       "      <th>hypertension</th>\n",
       "      <th>heart_disease</th>\n",
       "      <th>work_related_stress</th>\n",
       "      <th>urban_residence</th>\n",
       "      <th>avg_glucose_level</th>\n",
       "      <th>bmi</th>\n",
       "      <th>smokes</th>\n",
       "    </tr>\n",
       "  </thead>\n",
       "  <tbody>\n",
       "    <tr>\n",
       "      <th>0</th>\n",
       "      <td>1</td>\n",
       "      <td>1</td>\n",
       "      <td>Male</td>\n",
       "      <td>67.00</td>\n",
       "      <td>0</td>\n",
       "      <td>1</td>\n",
       "      <td>0</td>\n",
       "      <td>1</td>\n",
       "      <td>228.69</td>\n",
       "      <td>36.60</td>\n",
       "      <td>1</td>\n",
       "    </tr>\n",
       "    <tr>\n",
       "      <th>1</th>\n",
       "      <td>2</td>\n",
       "      <td>1</td>\n",
       "      <td>Female</td>\n",
       "      <td>61.00</td>\n",
       "      <td>0</td>\n",
       "      <td>0</td>\n",
       "      <td>1</td>\n",
       "      <td>0</td>\n",
       "      <td>202.21</td>\n",
       "      <td>NaN</td>\n",
       "      <td>0</td>\n",
       "    </tr>\n",
       "    <tr>\n",
       "      <th>2</th>\n",
       "      <td>3</td>\n",
       "      <td>1</td>\n",
       "      <td>Male</td>\n",
       "      <td>80.00</td>\n",
       "      <td>0</td>\n",
       "      <td>1</td>\n",
       "      <td>0</td>\n",
       "      <td>0</td>\n",
       "      <td>105.92</td>\n",
       "      <td>32.50</td>\n",
       "      <td>0</td>\n",
       "    </tr>\n",
       "    <tr>\n",
       "      <th>3</th>\n",
       "      <td>4</td>\n",
       "      <td>1</td>\n",
       "      <td>Female</td>\n",
       "      <td>49.00</td>\n",
       "      <td>0</td>\n",
       "      <td>0</td>\n",
       "      <td>0</td>\n",
       "      <td>1</td>\n",
       "      <td>171.23</td>\n",
       "      <td>34.40</td>\n",
       "      <td>1</td>\n",
       "    </tr>\n",
       "    <tr>\n",
       "      <th>4</th>\n",
       "      <td>5</td>\n",
       "      <td>1</td>\n",
       "      <td>Female</td>\n",
       "      <td>79.00</td>\n",
       "      <td>1</td>\n",
       "      <td>0</td>\n",
       "      <td>1</td>\n",
       "      <td>0</td>\n",
       "      <td>174.12</td>\n",
       "      <td>24.00</td>\n",
       "      <td>0</td>\n",
       "    </tr>\n",
       "  </tbody>\n",
       "</table>\n",
       "</div>"
      ],
      "text/plain": [
       "   pat_id  stroke  gender   age  hypertension  heart_disease  \\\n",
       "0       1       1    Male 67.00             0              1   \n",
       "1       2       1  Female 61.00             0              0   \n",
       "2       3       1    Male 80.00             0              1   \n",
       "3       4       1  Female 49.00             0              0   \n",
       "4       5       1  Female 79.00             1              0   \n",
       "\n",
       "   work_related_stress  urban_residence  avg_glucose_level   bmi  smokes  \n",
       "0                    0                1             228.69 36.60       1  \n",
       "1                    1                0             202.21   NaN       0  \n",
       "2                    0                0             105.92 32.50       0  \n",
       "3                    0                1             171.23 34.40       1  \n",
       "4                    1                0             174.12 24.00       0  "
      ]
     },
     "execution_count": 55,
     "metadata": {},
     "output_type": "execute_result"
    }
   ],
   "source": [
    "data.head()"
   ]
  },
  {
   "cell_type": "code",
   "execution_count": 56,
   "id": "f74efd85",
   "metadata": {},
   "outputs": [
    {
     "name": "stdout",
     "output_type": "stream",
     "text": [
      "<class 'pandas.core.frame.DataFrame'>\n",
      "RangeIndex: 5110 entries, 0 to 5109\n",
      "Data columns (total 11 columns):\n",
      " #   Column               Non-Null Count  Dtype  \n",
      "---  ------               --------------  -----  \n",
      " 0   pat_id               5110 non-null   int64  \n",
      " 1   stroke               5110 non-null   int64  \n",
      " 2   gender               5110 non-null   object \n",
      " 3   age                  5110 non-null   float64\n",
      " 4   hypertension         5110 non-null   int64  \n",
      " 5   heart_disease        5110 non-null   int64  \n",
      " 6   work_related_stress  5110 non-null   int64  \n",
      " 7   urban_residence      5110 non-null   int64  \n",
      " 8   avg_glucose_level    5110 non-null   float64\n",
      " 9   bmi                  4909 non-null   float64\n",
      " 10  smokes               5110 non-null   int64  \n",
      "dtypes: float64(3), int64(7), object(1)\n",
      "memory usage: 439.3+ KB\n"
     ]
    }
   ],
   "source": [
    "data.info()"
   ]
  },
  {
   "cell_type": "markdown",
   "id": "fdf7fd8e",
   "metadata": {},
   "source": [
    "There are some NaN in the bmi variable. This is a quantitative variable so we can handle NaN by replacing it with the median.\n",
    "\n",
    "\n",
    "### Data visulization"
   ]
  },
  {
   "cell_type": "code",
   "execution_count": 57,
   "id": "11813e06",
   "metadata": {},
   "outputs": [
    {
     "data": {
      "image/png": "[encoded data removed]",
      "text/plain": [
       "<Figure size 720x360 with 2 Axes>"
      ]
     },
     "metadata": {
      "needs_background": "light"
     },
     "output_type": "display_data"
    }
   ],
   "source": [
    "plt.figure(figsize=(10,5))\n",
    "sns.heatmap(data.corr(), annot=True)\n",
    "plt.show()"
   ]
  },
  {
   "cell_type": "code",
   "execution_count": 58,
   "id": "46490782",
   "metadata": {},
   "outputs": [
    {
     "data": {
      "image/png": "[encoded data removed]",
      "text/plain": [
       "<Figure size 1440x720 with 9 Axes>"
      ]
     },
     "metadata": {
      "needs_background": "light"
     },
     "output_type": "display_data"
    }
   ],
   "source": [
    "data.iloc[:,1:].hist(figsize=(20,10))\n",
    "plt.show()"
   ]
  },
  {
   "cell_type": "markdown",
   "id": "307c4929",
   "metadata": {},
   "source": [
    "- Features :\n",
    "\n",
    "Boulean variable : hypertension, heart_disease, work_related_stress, urban_residence, smokes\n",
    "\n",
    "Categorical variable : gender\n",
    "\n",
    "Quantitative variable : age, avg_glucose_level, bmi\n",
    "\n",
    "- Target : \n",
    "Boulean variable : stroke "
   ]
  },
  {
   "cell_type": "code",
   "execution_count": 59,
   "id": "70d2c83a",
   "metadata": {},
   "outputs": [
    {
     "data": {
      "text/plain": [
       "Female    2994\n",
       "Male      2115\n",
       "Other        1\n",
       "Name: gender, dtype: int64"
      ]
     },
     "execution_count": 59,
     "metadata": {},
     "output_type": "execute_result"
    }
   ],
   "source": [
    "data[\"gender\"].value_counts()"
   ]
  },
  {
   "cell_type": "code",
   "execution_count": 60,
   "id": "5119c37f",
   "metadata": {},
   "outputs": [
    {
     "data": {
      "text/plain": [
       "0    4861\n",
       "1     249\n",
       "Name: stroke, dtype: int64"
      ]
     },
     "execution_count": 60,
     "metadata": {},
     "output_type": "execute_result"
    }
   ],
   "source": [
    "data[\"stroke\"].value_counts()"
   ]
  },
  {
   "cell_type": "markdown",
   "id": "e36fd38d",
   "metadata": {},
   "source": [
    "The ratio between the values 1 and 0 in the outcome variable \"stroke\" varies by about 5.12%. We will test 2 options :\n",
    "- 1 model with the original outcome variable \"stroke\" \n",
    "- 1 modell using the sampling method to balance the values in outcome variable \"stroke\"\n",
    "\n",
    "### Build model without resampling"
   ]
  },
  {
   "cell_type": "code",
   "execution_count": 61,
   "id": "888ad1f4",
   "metadata": {},
   "outputs": [],
   "source": [
    "x = data.drop([\"stroke\",\"pat_id\"], axis=1)\n",
    "y = data[\"stroke\"]\n",
    "x_train, x_test, y_train, y_test = train_test_split(x, y, test_size=0.2, random_state=100)"
   ]
  },
  {
   "cell_type": "markdown",
   "id": "847fbae0",
   "metadata": {},
   "source": [
    "- Features :\n",
    "\n",
    "Boulean variable : hypertension, heart_disease, work_related_stress, urban_residence, smokes\n",
    "\n",
    "Quantitative variable : age, avg_glucose_level, bmi\n",
    "\n",
    "Categorical variable : gender\n",
    "\n",
    "- Target : \n",
    "Boulean variable : stroke "
   ]
  },
  {
   "cell_type": "code",
   "execution_count": 62,
   "id": "1b1c3918",
   "metadata": {},
   "outputs": [],
   "source": [
    "numerical_transformer = Pipeline(steps=[\n",
    "    ('imputer', SimpleImputer(strategy='median')),\n",
    "    ('scaler', StandardScaler())\n",
    "    ])\n",
    "\n",
    "nominal_transformer = Pipeline(steps=[\n",
    "    ('imputer', SimpleImputer(strategy='most_frequent')),\n",
    "    ('scaler', OneHotEncoder(sparse=False))\n",
    "    ])\n",
    "\n",
    "preprocessor = ColumnTransformer(transformers=[\n",
    "    (\"num_features\", numerical_transformer, [\"age\",\"avg_glucose_level\",\"bmi\"]),\n",
    "    (\"ord_features\", nominal_transformer, [\"gender\"])\n",
    "    ])\n",
    "\n",
    "# model Random Forest Classifier\n",
    "cls = Pipeline(steps=[\n",
    "    ('preprocessor', preprocessor),\n",
    "    ('model', RandomForestClassifier())\n",
    "    ])\n"
   ]
  },
  {
   "cell_type": "code",
   "execution_count": 63,
   "id": "b62e0577",
   "metadata": {},
   "outputs": [
    {
     "data": {
      "text/plain": [
       "Pipeline(steps=[('preprocessor',\n",
       "                 ColumnTransformer(transformers=[('num_features',\n",
       "                                                  Pipeline(steps=[('imputer',\n",
       "                                                                   SimpleImputer(strategy='median')),\n",
       "                                                                  ('scaler',\n",
       "                                                                   StandardScaler())]),\n",
       "                                                  ['age', 'avg_glucose_level',\n",
       "                                                   'bmi']),\n",
       "                                                 ('ord_features',\n",
       "                                                  Pipeline(steps=[('imputer',\n",
       "                                                                   SimpleImputer(strategy='most_frequent')),\n",
       "                                                                  ('scaler',\n",
       "                                                                   OneHotEncoder(sparse=False))]),\n",
       "                                                  ['gender'])])),\n",
       "                ('model', RandomForestClassifier())])"
      ]
     },
     "execution_count": 63,
     "metadata": {},
     "output_type": "execute_result"
    }
   ],
   "source": [
    "cls.fit(x_train, y_train)"
   ]
  },
  {
   "cell_type": "code",
   "execution_count": 64,
   "id": "3b9f960c",
   "metadata": {},
   "outputs": [],
   "source": [
    "y_predict = cls.predict(x_test)"
   ]
  },
  {
   "cell_type": "code",
   "execution_count": 65,
   "id": "07ac9373",
   "metadata": {},
   "outputs": [
    {
     "name": "stdout",
     "output_type": "stream",
     "text": [
      "              precision    recall  f1-score   support\n",
      "\n",
      "           0       0.95      0.99      0.97       976\n",
      "           1       0.00      0.00      0.00        46\n",
      "\n",
      "    accuracy                           0.95      1022\n",
      "   macro avg       0.48      0.50      0.49      1022\n",
      "weighted avg       0.91      0.95      0.93      1022\n",
      "\n"
     ]
    }
   ],
   "source": [
    "print(classification_report(y_test, y_predict))"
   ]
  },
  {
   "cell_type": "markdown",
   "id": "1431ecc3",
   "metadata": {},
   "source": [
    "### Build model with resampling"
   ]
  },
  {
   "cell_type": "code",
   "execution_count": 66,
   "id": "b85377db",
   "metadata": {},
   "outputs": [
    {
     "data": {
      "text/plain": [
       "0    3885\n",
       "1    3885\n",
       "Name: stroke, dtype: int64"
      ]
     },
     "execution_count": 66,
     "metadata": {},
     "output_type": "execute_result"
    }
   ],
   "source": [
    "x = data.drop([\"stroke\",\"pat_id\"], axis=1)\n",
    "y = data[\"stroke\"]\n",
    "x_train, x_test, y_train, y_test = train_test_split(x, y, test_size=0.2, random_state=100)\n",
    "\n",
    "ros = RandomOverSampler(random_state=100)\n",
    "x_resampled, y_resampled = ros.fit_resample(x_train, y_train)\n",
    "\n",
    "y_resampled.value_counts()"
   ]
  },
  {
   "cell_type": "code",
   "execution_count": 67,
   "id": "28af2c83",
   "metadata": {},
   "outputs": [],
   "source": [
    "numerical_transformer = Pipeline(steps=[\n",
    "    ('imputer', SimpleImputer(strategy='median')),\n",
    "    ('scaler', StandardScaler())\n",
    "    ])\n",
    "\n",
    "nominal_transformer = Pipeline(steps=[\n",
    "    ('imputer', SimpleImputer(strategy='most_frequent')),\n",
    "    ('scaler', OneHotEncoder(sparse=False))\n",
    "    ])\n",
    "\n",
    "preprocessor = ColumnTransformer(transformers=[\n",
    "    (\"num_features\", numerical_transformer, [\"age\",\"avg_glucose_level\",\"bmi\"]),\n",
    "    (\"ord_features\", nominal_transformer, [\"gender\"])\n",
    "    ])\n",
    "params = {\n",
    "    \"n_estimators\": [50, 100, 200],\n",
    "    \"criterion\": [\"gini\", \"entropy\", \"log_loss\"],\n",
    "    \"max_features\": [\"sqrt\", \"log2\", None]\n",
    "}\n",
    "# model Random Forest Classifier\n",
    "cls = Pipeline(steps=[\n",
    "    ('preprocessor', preprocessor),\n",
    "    ('model', RandomForestClassifier())\n",
    "    ])"
   ]
  },
  {
   "cell_type": "code",
   "execution_count": 68,
   "id": "54c64402",
   "metadata": {},
   "outputs": [
    {
     "data": {
      "text/plain": [
       "Pipeline(steps=[('preprocessor',\n",
       "                 ColumnTransformer(transformers=[('num_features',\n",
       "                                                  Pipeline(steps=[('imputer',\n",
       "                                                                   SimpleImputer(strategy='median')),\n",
       "                                                                  ('scaler',\n",
       "                                                                   StandardScaler())]),\n",
       "                                                  ['age', 'avg_glucose_level',\n",
       "                                                   'bmi']),\n",
       "                                                 ('ord_features',\n",
       "                                                  Pipeline(steps=[('imputer',\n",
       "                                                                   SimpleImputer(strategy='most_frequent')),\n",
       "                                                                  ('scaler',\n",
       "                                                                   OneHotEncoder(sparse=False))]),\n",
       "                                                  ['gender'])])),\n",
       "                ('model', RandomForestClassifier())])"
      ]
     },
     "execution_count": 68,
     "metadata": {},
     "output_type": "execute_result"
    }
   ],
   "source": [
    "cls.fit(x_resampled, y_resampled)"
   ]
  },
  {
   "cell_type": "code",
   "execution_count": 69,
   "id": "bbf69c83",
   "metadata": {},
   "outputs": [],
   "source": [
    "y_predict = cls.predict(x_test)"
   ]
  },
  {
   "cell_type": "code",
   "execution_count": 70,
   "id": "55837665",
   "metadata": {},
   "outputs": [
    {
     "name": "stdout",
     "output_type": "stream",
     "text": [
      "              precision    recall  f1-score   support\n",
      "\n",
      "           0       0.96      0.98      0.97       976\n",
      "           1       0.14      0.07      0.09        46\n",
      "\n",
      "    accuracy                           0.94      1022\n",
      "   macro avg       0.55      0.52      0.53      1022\n",
      "weighted avg       0.92      0.94      0.93      1022\n",
      "\n"
     ]
    }
   ],
   "source": [
    "print(classification_report(y_test, y_predict))"
   ]
  },
  {
   "cell_type": "markdown",
   "id": "8d710e65",
   "metadata": {},
   "source": [
    "### Build model with LazyClassifier (resampled)"
   ]
  },
  {
   "cell_type": "code",
   "execution_count": 71,
   "id": "aa10a20d",
   "metadata": {},
   "outputs": [
    {
     "name": "stderr",
     "output_type": "stream",
     "text": [
      " 97%|███████████████████████████████████████████████████████████████████████████████▏  | 28/29 [00:33<00:01,  1.15s/it]"
     ]
    },
    {
     "name": "stdout",
     "output_type": "stream",
     "text": [
      "[LightGBM] [Info] Number of positive: 3885, number of negative: 3885\n",
      "[LightGBM] [Warning] Auto-choosing row-wise multi-threading, the overhead of testing was 0.000980 seconds.\n",
      "You can set `force_row_wise=true` to remove the overhead.\n",
      "And if memory is not enough, you can set `force_col_wise=true`.\n",
      "[LightGBM] [Info] Total Bins 626\n",
      "[LightGBM] [Info] Number of data points in the train set: 7770, number of used features: 10\n",
      "[LightGBM] [Info] [binary:BoostFromScore]: pavg=0.500000 -> initscore=0.000000\n"
     ]
    },
    {
     "name": "stderr",
     "output_type": "stream",
     "text": [
      "100%|██████████████████████████████████████████████████████████████████████████████████| 29/29 [00:33<00:00,  1.15s/it]\n"
     ]
    },
    {
     "data": {
      "text/html": [
       "<div>\n",
       "<style scoped>\n",
       "    .dataframe tbody tr th:only-of-type {\n",
       "        vertical-align: middle;\n",
       "    }\n",
       "\n",
       "    .dataframe tbody tr th {\n",
       "        vertical-align: top;\n",
       "    }\n",
       "\n",
       "    .dataframe thead th {\n",
       "        text-align: right;\n",
       "    }\n",
       "</style>\n",
       "<table border=\"1\" class=\"dataframe\">\n",
       "  <thead>\n",
       "    <tr style=\"text-align: right;\">\n",
       "      <th></th>\n",
       "      <th>Accuracy</th>\n",
       "      <th>Balanced Accuracy</th>\n",
       "      <th>ROC AUC</th>\n",
       "      <th>F1 Score</th>\n",
       "      <th>Time Taken</th>\n",
       "    </tr>\n",
       "    <tr>\n",
       "      <th>Model</th>\n",
       "      <th></th>\n",
       "      <th></th>\n",
       "      <th></th>\n",
       "      <th></th>\n",
       "      <th></th>\n",
       "    </tr>\n",
       "  </thead>\n",
       "  <tbody>\n",
       "    <tr>\n",
       "      <th>AdaBoostClassifier</th>\n",
       "      <td>0.70</td>\n",
       "      <td>0.79</td>\n",
       "      <td>0.79</td>\n",
       "      <td>0.79</td>\n",
       "      <td>0.55</td>\n",
       "    </tr>\n",
       "    <tr>\n",
       "      <th>NearestCentroid</th>\n",
       "      <td>0.71</td>\n",
       "      <td>0.79</td>\n",
       "      <td>0.79</td>\n",
       "      <td>0.79</td>\n",
       "      <td>0.04</td>\n",
       "    </tr>\n",
       "    <tr>\n",
       "      <th>RidgeClassifierCV</th>\n",
       "      <td>0.70</td>\n",
       "      <td>0.78</td>\n",
       "      <td>0.78</td>\n",
       "      <td>0.79</td>\n",
       "      <td>0.05</td>\n",
       "    </tr>\n",
       "    <tr>\n",
       "      <th>CalibratedClassifierCV</th>\n",
       "      <td>0.72</td>\n",
       "      <td>0.78</td>\n",
       "      <td>0.78</td>\n",
       "      <td>0.80</td>\n",
       "      <td>3.61</td>\n",
       "    </tr>\n",
       "    <tr>\n",
       "      <th>LinearDiscriminantAnalysis</th>\n",
       "      <td>0.70</td>\n",
       "      <td>0.78</td>\n",
       "      <td>0.78</td>\n",
       "      <td>0.79</td>\n",
       "      <td>0.05</td>\n",
       "    </tr>\n",
       "    <tr>\n",
       "      <th>RidgeClassifier</th>\n",
       "      <td>0.70</td>\n",
       "      <td>0.78</td>\n",
       "      <td>0.78</td>\n",
       "      <td>0.79</td>\n",
       "      <td>0.05</td>\n",
       "    </tr>\n",
       "    <tr>\n",
       "      <th>LogisticRegression</th>\n",
       "      <td>0.71</td>\n",
       "      <td>0.78</td>\n",
       "      <td>0.78</td>\n",
       "      <td>0.80</td>\n",
       "      <td>0.06</td>\n",
       "    </tr>\n",
       "    <tr>\n",
       "      <th>LinearSVC</th>\n",
       "      <td>0.70</td>\n",
       "      <td>0.77</td>\n",
       "      <td>0.77</td>\n",
       "      <td>0.79</td>\n",
       "      <td>1.44</td>\n",
       "    </tr>\n",
       "    <tr>\n",
       "      <th>BernoulliNB</th>\n",
       "      <td>0.68</td>\n",
       "      <td>0.76</td>\n",
       "      <td>0.76</td>\n",
       "      <td>0.77</td>\n",
       "      <td>0.05</td>\n",
       "    </tr>\n",
       "    <tr>\n",
       "      <th>NuSVC</th>\n",
       "      <td>0.71</td>\n",
       "      <td>0.76</td>\n",
       "      <td>0.76</td>\n",
       "      <td>0.80</td>\n",
       "      <td>7.78</td>\n",
       "    </tr>\n",
       "    <tr>\n",
       "      <th>SGDClassifier</th>\n",
       "      <td>0.74</td>\n",
       "      <td>0.74</td>\n",
       "      <td>0.74</td>\n",
       "      <td>0.81</td>\n",
       "      <td>0.11</td>\n",
       "    </tr>\n",
       "    <tr>\n",
       "      <th>PassiveAggressiveClassifier</th>\n",
       "      <td>0.68</td>\n",
       "      <td>0.73</td>\n",
       "      <td>0.73</td>\n",
       "      <td>0.78</td>\n",
       "      <td>0.06</td>\n",
       "    </tr>\n",
       "    <tr>\n",
       "      <th>Perceptron</th>\n",
       "      <td>0.57</td>\n",
       "      <td>0.70</td>\n",
       "      <td>0.70</td>\n",
       "      <td>0.69</td>\n",
       "      <td>0.06</td>\n",
       "    </tr>\n",
       "    <tr>\n",
       "      <th>SVC</th>\n",
       "      <td>0.72</td>\n",
       "      <td>0.69</td>\n",
       "      <td>0.69</td>\n",
       "      <td>0.80</td>\n",
       "      <td>5.54</td>\n",
       "    </tr>\n",
       "    <tr>\n",
       "      <th>LGBMClassifier</th>\n",
       "      <td>0.91</td>\n",
       "      <td>0.66</td>\n",
       "      <td>0.66</td>\n",
       "      <td>0.92</td>\n",
       "      <td>0.25</td>\n",
       "    </tr>\n",
       "    <tr>\n",
       "      <th>GaussianNB</th>\n",
       "      <td>0.31</td>\n",
       "      <td>0.63</td>\n",
       "      <td>0.63</td>\n",
       "      <td>0.43</td>\n",
       "      <td>0.05</td>\n",
       "    </tr>\n",
       "    <tr>\n",
       "      <th>KNeighborsClassifier</th>\n",
       "      <td>0.85</td>\n",
       "      <td>0.63</td>\n",
       "      <td>0.63</td>\n",
       "      <td>0.88</td>\n",
       "      <td>0.19</td>\n",
       "    </tr>\n",
       "    <tr>\n",
       "      <th>XGBClassifier</th>\n",
       "      <td>0.93</td>\n",
       "      <td>0.60</td>\n",
       "      <td>0.60</td>\n",
       "      <td>0.93</td>\n",
       "      <td>0.74</td>\n",
       "    </tr>\n",
       "    <tr>\n",
       "      <th>LabelPropagation</th>\n",
       "      <td>0.85</td>\n",
       "      <td>0.57</td>\n",
       "      <td>0.57</td>\n",
       "      <td>0.89</td>\n",
       "      <td>4.37</td>\n",
       "    </tr>\n",
       "    <tr>\n",
       "      <th>LabelSpreading</th>\n",
       "      <td>0.85</td>\n",
       "      <td>0.57</td>\n",
       "      <td>0.57</td>\n",
       "      <td>0.88</td>\n",
       "      <td>6.13</td>\n",
       "    </tr>\n",
       "    <tr>\n",
       "      <th>DecisionTreeClassifier</th>\n",
       "      <td>0.92</td>\n",
       "      <td>0.54</td>\n",
       "      <td>0.54</td>\n",
       "      <td>0.92</td>\n",
       "      <td>0.07</td>\n",
       "    </tr>\n",
       "    <tr>\n",
       "      <th>RandomForestClassifier</th>\n",
       "      <td>0.95</td>\n",
       "      <td>0.54</td>\n",
       "      <td>0.54</td>\n",
       "      <td>0.93</td>\n",
       "      <td>0.91</td>\n",
       "    </tr>\n",
       "    <tr>\n",
       "      <th>BaggingClassifier</th>\n",
       "      <td>0.94</td>\n",
       "      <td>0.53</td>\n",
       "      <td>0.53</td>\n",
       "      <td>0.93</td>\n",
       "      <td>0.24</td>\n",
       "    </tr>\n",
       "    <tr>\n",
       "      <th>ExtraTreeClassifier</th>\n",
       "      <td>0.91</td>\n",
       "      <td>0.53</td>\n",
       "      <td>0.53</td>\n",
       "      <td>0.92</td>\n",
       "      <td>0.04</td>\n",
       "    </tr>\n",
       "    <tr>\n",
       "      <th>ExtraTreesClassifier</th>\n",
       "      <td>0.95</td>\n",
       "      <td>0.51</td>\n",
       "      <td>0.51</td>\n",
       "      <td>0.93</td>\n",
       "      <td>0.74</td>\n",
       "    </tr>\n",
       "    <tr>\n",
       "      <th>DummyClassifier</th>\n",
       "      <td>0.95</td>\n",
       "      <td>0.50</td>\n",
       "      <td>0.50</td>\n",
       "      <td>0.93</td>\n",
       "      <td>0.05</td>\n",
       "    </tr>\n",
       "    <tr>\n",
       "      <th>QuadraticDiscriminantAnalysis</th>\n",
       "      <td>0.05</td>\n",
       "      <td>0.50</td>\n",
       "      <td>0.50</td>\n",
       "      <td>0.00</td>\n",
       "      <td>0.04</td>\n",
       "    </tr>\n",
       "  </tbody>\n",
       "</table>\n",
       "</div>"
      ],
      "text/plain": [
       "                               Accuracy  Balanced Accuracy  ROC AUC  F1 Score  \\\n",
       "Model                                                                           \n",
       "AdaBoostClassifier                 0.70               0.79     0.79      0.79   \n",
       "NearestCentroid                    0.71               0.79     0.79      0.79   \n",
       "RidgeClassifierCV                  0.70               0.78     0.78      0.79   \n",
       "CalibratedClassifierCV             0.72               0.78     0.78      0.80   \n",
       "LinearDiscriminantAnalysis         0.70               0.78     0.78      0.79   \n",
       "RidgeClassifier                    0.70               0.78     0.78      0.79   \n",
       "LogisticRegression                 0.71               0.78     0.78      0.80   \n",
       "LinearSVC                          0.70               0.77     0.77      0.79   \n",
       "BernoulliNB                        0.68               0.76     0.76      0.77   \n",
       "NuSVC                              0.71               0.76     0.76      0.80   \n",
       "SGDClassifier                      0.74               0.74     0.74      0.81   \n",
       "PassiveAggressiveClassifier        0.68               0.73     0.73      0.78   \n",
       "Perceptron                         0.57               0.70     0.70      0.69   \n",
       "SVC                                0.72               0.69     0.69      0.80   \n",
       "LGBMClassifier                     0.91               0.66     0.66      0.92   \n",
       "GaussianNB                         0.31               0.63     0.63      0.43   \n",
       "KNeighborsClassifier               0.85               0.63     0.63      0.88   \n",
       "XGBClassifier                      0.93               0.60     0.60      0.93   \n",
       "LabelPropagation                   0.85               0.57     0.57      0.89   \n",
       "LabelSpreading                     0.85               0.57     0.57      0.88   \n",
       "DecisionTreeClassifier             0.92               0.54     0.54      0.92   \n",
       "RandomForestClassifier             0.95               0.54     0.54      0.93   \n",
       "BaggingClassifier                  0.94               0.53     0.53      0.93   \n",
       "ExtraTreeClassifier                0.91               0.53     0.53      0.92   \n",
       "ExtraTreesClassifier               0.95               0.51     0.51      0.93   \n",
       "DummyClassifier                    0.95               0.50     0.50      0.93   \n",
       "QuadraticDiscriminantAnalysis      0.05               0.50     0.50      0.00   \n",
       "\n",
       "                               Time Taken  \n",
       "Model                                      \n",
       "AdaBoostClassifier                   0.55  \n",
       "NearestCentroid                      0.04  \n",
       "RidgeClassifierCV                    0.05  \n",
       "CalibratedClassifierCV               3.61  \n",
       "LinearDiscriminantAnalysis           0.05  \n",
       "RidgeClassifier                      0.05  \n",
       "LogisticRegression                   0.06  \n",
       "LinearSVC                            1.44  \n",
       "BernoulliNB                          0.05  \n",
       "NuSVC                                7.78  \n",
       "SGDClassifier                        0.11  \n",
       "PassiveAggressiveClassifier          0.06  \n",
       "Perceptron                           0.06  \n",
       "SVC                                  5.54  \n",
       "LGBMClassifier                       0.25  \n",
       "GaussianNB                           0.05  \n",
       "KNeighborsClassifier                 0.19  \n",
       "XGBClassifier                        0.74  \n",
       "LabelPropagation                     4.37  \n",
       "LabelSpreading                       6.13  \n",
       "DecisionTreeClassifier               0.07  \n",
       "RandomForestClassifier               0.91  \n",
       "BaggingClassifier                    0.24  \n",
       "ExtraTreeClassifier                  0.04  \n",
       "ExtraTreesClassifier                 0.74  \n",
       "DummyClassifier                      0.05  \n",
       "QuadraticDiscriminantAnalysis        0.04  "
      ]
     },
     "execution_count": 71,
     "metadata": {},
     "output_type": "execute_result"
    }
   ],
   "source": [
    "clf = LazyClassifier(verbose=0,ignore_warnings=True, custom_metric=None)\n",
    "models,predictions = clf.fit(x_resampled, x_test, y_resampled, y_test)\n",
    "models"
   ]
  },
  {
   "cell_type": "markdown",
   "id": "6715cbf1",
   "metadata": {},
   "source": [
    "### Build model with GridSearchCV"
   ]
  },
  {
   "cell_type": "code",
   "execution_count": 72,
   "id": "b2d06494",
   "metadata": {},
   "outputs": [
    {
     "data": {
      "text/plain": [
       "0    3885\n",
       "1    3885\n",
       "Name: stroke, dtype: int64"
      ]
     },
     "execution_count": 72,
     "metadata": {},
     "output_type": "execute_result"
    }
   ],
   "source": [
    "x = data.drop([\"stroke\",\"pat_id\"], axis=1)\n",
    "y = data[\"stroke\"]\n",
    "x_train, x_test, y_train, y_test = train_test_split(x, y, test_size=0.2, random_state=100)\n",
    "\n",
    "ros = RandomOverSampler(random_state=100)\n",
    "x_resampled, y_resampled = ros.fit_resample(x_train, y_train)\n",
    "\n",
    "y_resampled.value_counts()"
   ]
  },
  {
   "cell_type": "code",
   "execution_count": 73,
   "id": "8d947a7c",
   "metadata": {},
   "outputs": [],
   "source": [
    "numerical_transformer = Pipeline(steps=[\n",
    "    ('imputer', SimpleImputer(strategy='median')),\n",
    "    ('scaler', StandardScaler())\n",
    "    ])\n",
    "\n",
    "nominal_transformer = Pipeline(steps=[\n",
    "    ('imputer', SimpleImputer(strategy='most_frequent')),\n",
    "    ('scaler', OneHotEncoder(sparse=False))\n",
    "    ])\n",
    "\n",
    "preprocessor = ColumnTransformer(transformers=[\n",
    "    (\"num_features\", numerical_transformer, [\"age\",\"avg_glucose_level\",\"bmi\"]),\n",
    "    (\"ord_features\", nominal_transformer, [\"gender\"])\n",
    "    ])\n",
    "params = {\n",
    "    \"n_estimators\": [50, 100, 200],\n",
    "    \"criterion\": [\"gini\", \"entropy\", \"log_loss\"],\n",
    "    \"max_features\": [\"sqrt\", \"log2\", None]\n",
    "}\n",
    "# model Random Forest Classifier\n",
    "cls = Pipeline(steps=[\n",
    "    ('preprocessor', preprocessor),\n",
    "    ('model', GridSearchCV(RandomForestClassifier(random_state=100), param_grid=params, cv=6, verbose=1, n_jobs=-1))\n",
    "    ])"
   ]
  },
  {
   "cell_type": "code",
   "execution_count": 74,
   "id": "7e256792",
   "metadata": {},
   "outputs": [
    {
     "name": "stdout",
     "output_type": "stream",
     "text": [
      "Fitting 6 folds for each of 27 candidates, totalling 162 fits\n"
     ]
    },
    {
     "data": {
      "text/plain": [
       "Pipeline(steps=[('preprocessor',\n",
       "                 ColumnTransformer(transformers=[('num_features',\n",
       "                                                  Pipeline(steps=[('imputer',\n",
       "                                                                   SimpleImputer(strategy='median')),\n",
       "                                                                  ('scaler',\n",
       "                                                                   StandardScaler())]),\n",
       "                                                  ['age', 'avg_glucose_level',\n",
       "                                                   'bmi']),\n",
       "                                                 ('ord_features',\n",
       "                                                  Pipeline(steps=[('imputer',\n",
       "                                                                   SimpleImputer(strategy='most_frequent')),\n",
       "                                                                  ('scaler',\n",
       "                                                                   OneHotEncoder(sparse=False))]),\n",
       "                                                  ['gender'])])),\n",
       "                ('model',\n",
       "                 GridSearchCV(cv=6,\n",
       "                              estimator=RandomForestClassifier(random_state=100),\n",
       "                              n_jobs=-1,\n",
       "                              param_grid={'criterion': ['gini', 'entropy',\n",
       "                                                        'log_loss'],\n",
       "                                          'max_features': ['sqrt', 'log2',\n",
       "                                                           None],\n",
       "                                          'n_estimators': [50, 100, 200]},\n",
       "                              verbose=1))])"
      ]
     },
     "execution_count": 74,
     "metadata": {},
     "output_type": "execute_result"
    }
   ],
   "source": [
    "cls.fit(x_resampled, y_resampled)"
   ]
  },
  {
   "cell_type": "code",
   "execution_count": 75,
   "id": "bb39183a",
   "metadata": {},
   "outputs": [],
   "source": [
    "y_predict = cls.predict(x_test)"
   ]
  },
  {
   "cell_type": "code",
   "execution_count": 76,
   "id": "04d12891",
   "metadata": {},
   "outputs": [
    {
     "name": "stdout",
     "output_type": "stream",
     "text": [
      "              precision    recall  f1-score   support\n",
      "\n",
      "           0       0.96      0.98      0.97       976\n",
      "           1       0.24      0.15      0.19        46\n",
      "\n",
      "    accuracy                           0.94      1022\n",
      "   macro avg       0.60      0.56      0.58      1022\n",
      "weighted avg       0.93      0.94      0.93      1022\n",
      "\n"
     ]
    }
   ],
   "source": [
    "print(classification_report(y_test, y_predict))"
   ]
  },
  {
   "cell_type": "code",
   "execution_count": null,
   "id": "3e986c8c",
   "metadata": {},
   "outputs": [],
   "source": []
  }
 ],
 "metadata": {
  "kernelspec": {
   "display_name": "Python 3 (ipykernel)",
   "language": "python",
   "name": "python3"
  },
  "language_info": {
   "codemirror_mode": {
    "name": "ipython",
    "version": 3
   },
   "file_extension": ".py",
   "mimetype": "text/x-python",
   "name": "python",
   "nbconvert_exporter": "python",
   "pygments_lexer": "ipython3",
   "version": "3.9.12"
  }
 },
 "nbformat": 4,
 "nbformat_minor": 5
}
